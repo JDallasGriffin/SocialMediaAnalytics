{
 "cells": [
  {
   "cell_type": "markdown",
   "metadata": {},
   "source": [
    "## Assignment 2 - Part 2 - Finding Twitter Influencers\n",
    "\n",
    "### Top 100 Influencers"
   ]
  },
  {
   "cell_type": "code",
   "execution_count": 2,
   "metadata": {
    "collapsed": true
   },
   "outputs": [],
   "source": [
    "import pandas as pd\n",
    "import tweepy\n",
    "\n",
    "consumer_key = 'vZyOIzO8AZBgJ6U2DfjvyN9hi'\n",
    "consumer_secret = 'jy8HKcp8OkQmacmyccnhaAq06e3BDBblas0f2ub0jWrRhVqan8'\n",
    "access_token_key = '829374717941448704-eFTxdEdwJG67jNr8fI4vQEaCHSn7Css'\n",
    "access_token_secret = '2kXFyEbXFhhi9bJNhlDpYHwak7798PhnU52Dx2YI2cak5'\n",
    "\n",
    "auth = tweepy.OAuthHandler(consumer_key, consumer_secret)\n",
    "auth.set_access_token(access_token_key, access_token_secret)\n",
    "api=tweepy.API(auth)"
   ]
  },
  {
   "cell_type": "markdown",
   "metadata": {},
   "source": [
    "#### Pull 5,000 Tweets from Twitter API"
   ]
  },
  {
   "cell_type": "code",
   "execution_count": 56,
   "metadata": {
    "collapsed": false
   },
   "outputs": [],
   "source": [
    "query = 'Trump'\n",
    "count = 100\n",
    "max_tweets = 5000\n",
    "searched_tweets = []\n",
    "last_id = -1\n",
    "while len(searched_tweets) < max_tweets:\n",
    "    count = max_tweets - len(searched_tweets)\n",
    "    try:\n",
    "        new_tweets = api.search(q=query, count=count, max_id=str(last_id - 1))\n",
    "        if not new_tweets:\n",
    "            break\n",
    "        searched_tweets.extend(new_tweets)\n",
    "        last_id = new_tweets[-1].id\n",
    "    except tweepy.TweepError as e:\n",
    "        # depending on TweepError.code, one may want to retry or wait\n",
    "        # to keep things simple, we will give up on an error\n",
    "        break"
   ]
  },
  {
   "cell_type": "markdown",
   "metadata": {},
   "source": [
    "#### Mine Tweets for Relevant Information"
   ]
  },
  {
   "cell_type": "code",
   "execution_count": 88,
   "metadata": {
    "collapsed": false
   },
   "outputs": [
    {
     "name": "stdout",
     "output_type": "stream",
     "text": [
      "[[u'SherriKuczeryk', 23, 119, u'RT @JordanUhl: admit it, Trump, you want state-run media: https://t.co/Mgua3G0fIQ', 508, 0, None, u'JordanUhl', []], [u'RexRedbone', 39, 470, u'RT @infowars: Plan to save humanity UNDER ATTACK!! &amp; #Grammy awards given go-ahead to bash #Trump - Tune in LIVE 4pm-6pm CT: https://t.co/F\\u2026', 46, 0, None, u'infowars', []], [u'SamaraLouzi', 16, 4380, u'Pilot removed from flight after Donald Trump rant over intercom before take off https://t.co/JttwICJk6O', 0, 0, None, '', []], [u'elpatron_145', 3, 298, u'RT @SenSanders: I disagreed with President Bush all the time. I never called him a pathological liar. He was just conservative. But Trump l\\u2026', 29017, 0, None, u'SenSanders', []], [u'Daggard', 18, 343, u'RT @Breznican: BREAKING: Trump advisor Stephen Miller confirms it rubs the lotion on its skin or else it gets the hose again. https://t.co/\\u2026', 4380, 0, None, u'Breznican', []], [u'3perPatriot', 1, 66, u'RT @billboard: Joy Villa unveils Donald Trump \"Make America Great Again\" dress on the #GRAMMYs red carpet https://t.co/xtgS0DwNQR https://t\\u2026', 101, 0, None, u'billboard', []], [u'SolidKordei', 48, 1529, u\"RT @explicitdinah: dinah made it clear that she is not a trump supporter please don't even fucking compare her to that ugly ass trump dress\\u2026\", 37, 0, None, u'explicitdinah', []], [u'CathyElephants', 4, 132, u'RT @mtaibbi: Trump now defines unreality as the failure to be as impressed with his crowds as he is. https://t.co/ORfP8radOh', 91, 0, None, u'mtaibbi', []], [u'jake_bradford_1', 96, 8413, u\"RT @piersmorgan: Meryl Streep abusing President Trump again?  \\nShe, JK Rowling &amp; all the other smug 'we know best!' luvvie shriekers will g\\u2026\", 2576, 0, None, u'piersmorgan', []], [u'kiley_deb', 0, 64, u\"RT @fox32news: Hundreds moon the Trump Tower on Chicago's Riverfront https://t.co/qSjWLFDWYt https://t.co/n1Gc5LMTHl\", 29, 0, None, u'fox32news', []]]\n"
     ]
    }
   ],
   "source": [
    "trump_tweet_data = []\n",
    "\n",
    "for tweet in searched_tweets: #Create a list of lists of the attributes of tweets\n",
    "    k=[]\n",
    "    k = k+[tweet.author.screen_name,tweet.author.listed_count,tweet.author.followers_count,tweet.text\n",
    "           ,tweet.retweet_count,tweet.favorite_count,tweet.in_reply_to_screen_name]\n",
    "    \n",
    "    # If a retweet object exists, pull in user name of retweet. Otherwise, add blank entry.\n",
    "    if hasattr(tweet, 'retweeted_status'):\n",
    "        k.append(tweet.retweeted_status.user.screen_name)\n",
    "    else: k.append('')\n",
    "        \n",
    "    # Pull in and convert Mentions object to a list of usernames\n",
    "    mention_list = []\n",
    "    for user_dict in tweet.entities['user_mentions']:\n",
    "        if user_dict['screen_name'] != k[-1] and user_dict['screen_name'] != k[-2]: # Fix so that retweets and replies are not also included as mentions\n",
    "            mention_list.append(user_dict['screen_name'])\n",
    "            \n",
    "    k.append(mention_list)\n",
    "    \n",
    "    trump_tweet_data.append(k)\n",
    "print trump_tweet_data[:5] "
   ]
  },
  {
   "cell_type": "markdown",
   "metadata": {},
   "source": [
    "#### Convert to Dataframe"
   ]
  },
  {
   "cell_type": "code",
   "execution_count": 110,
   "metadata": {
    "collapsed": false
   },
   "outputs": [
    {
     "data": {
      "text/html": [
       "<div>\n",
       "<table border=\"1\" class=\"dataframe\">\n",
       "  <thead>\n",
       "    <tr style=\"text-align: right;\">\n",
       "      <th></th>\n",
       "      <th>User</th>\n",
       "      <th>listed_count</th>\n",
       "      <th>followers_count</th>\n",
       "      <th>text</th>\n",
       "      <th>retweets</th>\n",
       "      <th>favorites</th>\n",
       "      <th>Reply_User</th>\n",
       "      <th>Retweet_User</th>\n",
       "      <th>Mention_Users</th>\n",
       "    </tr>\n",
       "  </thead>\n",
       "  <tbody>\n",
       "    <tr>\n",
       "      <th>0</th>\n",
       "      <td>SherriKuczeryk</td>\n",
       "      <td>23</td>\n",
       "      <td>119</td>\n",
       "      <td>RT @JordanUhl: admit it, Trump, you want state...</td>\n",
       "      <td>508</td>\n",
       "      <td>0</td>\n",
       "      <td>None</td>\n",
       "      <td>JordanUhl</td>\n",
       "      <td>[]</td>\n",
       "    </tr>\n",
       "    <tr>\n",
       "      <th>1</th>\n",
       "      <td>RexRedbone</td>\n",
       "      <td>39</td>\n",
       "      <td>470</td>\n",
       "      <td>RT @infowars: Plan to save humanity UNDER ATTA...</td>\n",
       "      <td>46</td>\n",
       "      <td>0</td>\n",
       "      <td>None</td>\n",
       "      <td>infowars</td>\n",
       "      <td>[]</td>\n",
       "    </tr>\n",
       "    <tr>\n",
       "      <th>2</th>\n",
       "      <td>SamaraLouzi</td>\n",
       "      <td>16</td>\n",
       "      <td>4380</td>\n",
       "      <td>Pilot removed from flight after Donald Trump r...</td>\n",
       "      <td>0</td>\n",
       "      <td>0</td>\n",
       "      <td>None</td>\n",
       "      <td></td>\n",
       "      <td>[]</td>\n",
       "    </tr>\n",
       "    <tr>\n",
       "      <th>3</th>\n",
       "      <td>elpatron_145</td>\n",
       "      <td>3</td>\n",
       "      <td>298</td>\n",
       "      <td>RT @SenSanders: I disagreed with President Bus...</td>\n",
       "      <td>29017</td>\n",
       "      <td>0</td>\n",
       "      <td>None</td>\n",
       "      <td>SenSanders</td>\n",
       "      <td>[]</td>\n",
       "    </tr>\n",
       "    <tr>\n",
       "      <th>4</th>\n",
       "      <td>Daggard</td>\n",
       "      <td>18</td>\n",
       "      <td>343</td>\n",
       "      <td>RT @Breznican: BREAKING: Trump advisor Stephen...</td>\n",
       "      <td>4380</td>\n",
       "      <td>0</td>\n",
       "      <td>None</td>\n",
       "      <td>Breznican</td>\n",
       "      <td>[]</td>\n",
       "    </tr>\n",
       "  </tbody>\n",
       "</table>\n",
       "</div>"
      ],
      "text/plain": [
       "             User  listed_count  followers_count  \\\n",
       "0  SherriKuczeryk            23              119   \n",
       "1      RexRedbone            39              470   \n",
       "2     SamaraLouzi            16             4380   \n",
       "3    elpatron_145             3              298   \n",
       "4         Daggard            18              343   \n",
       "\n",
       "                                                text  retweets  favorites  \\\n",
       "0  RT @JordanUhl: admit it, Trump, you want state...       508          0   \n",
       "1  RT @infowars: Plan to save humanity UNDER ATTA...        46          0   \n",
       "2  Pilot removed from flight after Donald Trump r...         0          0   \n",
       "3  RT @SenSanders: I disagreed with President Bus...     29017          0   \n",
       "4  RT @Breznican: BREAKING: Trump advisor Stephen...      4380          0   \n",
       "\n",
       "  Reply_User Retweet_User Mention_Users  \n",
       "0       None    JordanUhl            []  \n",
       "1       None     infowars            []  \n",
       "2       None                         []  \n",
       "3       None   SenSanders            []  \n",
       "4       None    Breznican            []  "
      ]
     },
     "execution_count": 110,
     "metadata": {},
     "output_type": "execute_result"
    }
   ],
   "source": [
    "trump_tweet_data_df = pd.DataFrame(trump_tweet_data) #Convert it into a dataframe and publish a csv file\n",
    "trump_tweet_data_df.columns = ['User','listed_count','followers_count','text','retweets',\n",
    "                               'favorites','Reply_User','Retweet_User','Mention_Users']\n",
    "\n",
    "trump_tweet_data_df.head()"
   ]
  },
  {
   "cell_type": "markdown",
   "metadata": {},
   "source": [
    "#### Define Attribute Weights"
   ]
  },
  {
   "cell_type": "code",
   "execution_count": 92,
   "metadata": {
    "collapsed": false
   },
   "outputs": [],
   "source": [
    "listed_count_weight = 0.44/(0.44+0.40+0.28)  #Calculate weights based on their importances\n",
    "follower_count_weight = 0.40/(0.44+0.40+0.28)\n",
    "retweet_count_weight = 0.28/(0.44+0.40+0.28)"
   ]
  },
  {
   "cell_type": "markdown",
   "metadata": {},
   "source": [
    "#### Pre-processing\n",
    "\n",
    "Remove unnecessary columns, keep only unique users, and normalize list, follower & retweet counts"
   ]
  },
  {
   "cell_type": "code",
   "execution_count": 111,
   "metadata": {
    "collapsed": false
   },
   "outputs": [],
   "source": [
    "from sklearn import preprocessing #Scale the data and score it\n",
    "\n",
    "top_influencers_df = trump_tweet_data_df[['User','listed_count','followers_count','retweets']].drop_duplicates()\n",
    "\n",
    "top_influencers_df['listed_norm'] = preprocessing.scale(top_influencers_df['listed_count'])\n",
    "top_influencers_df['followers_norm'] = preprocessing.scale(top_influencers_df['followers_count'])\n",
    "top_influencers_df['retweets_norm'] = preprocessing.scale(top_influencers_df['retweets'])"
   ]
  },
  {
   "cell_type": "markdown",
   "metadata": {},
   "source": [
    "#### Calculated Weighted User Influence Score"
   ]
  },
  {
   "cell_type": "code",
   "execution_count": 116,
   "metadata": {
    "collapsed": false
   },
   "outputs": [
    {
     "name": "stderr",
     "output_type": "stream",
     "text": [
      "C:\\Users\\Dallas\\Anaconda2\\lib\\site-packages\\ipykernel\\__main__.py:3: FutureWarning: sort(columns=....) is deprecated, use sort_values(by=.....)\n",
      "  app.launch_new_instance()\n"
     ]
    },
    {
     "data": {
      "text/html": [
       "<div>\n",
       "<table border=\"1\" class=\"dataframe\">\n",
       "  <thead>\n",
       "    <tr style=\"text-align: right;\">\n",
       "      <th></th>\n",
       "      <th>User</th>\n",
       "      <th>listed_count</th>\n",
       "      <th>followers_count</th>\n",
       "      <th>retweets</th>\n",
       "      <th>listed_norm</th>\n",
       "      <th>followers_norm</th>\n",
       "      <th>retweets_norm</th>\n",
       "      <th>Score</th>\n",
       "    </tr>\n",
       "  </thead>\n",
       "  <tbody>\n",
       "    <tr>\n",
       "      <th>1170</th>\n",
       "      <td>htTweets</td>\n",
       "      <td>5951</td>\n",
       "      <td>5048757</td>\n",
       "      <td>1</td>\n",
       "      <td>11.757003</td>\n",
       "      <td>50.554688</td>\n",
       "      <td>-0.269788</td>\n",
       "      <td>22.606621</td>\n",
       "    </tr>\n",
       "    <tr>\n",
       "      <th>974</th>\n",
       "      <td>thehill</td>\n",
       "      <td>20015</td>\n",
       "      <td>1947355</td>\n",
       "      <td>4</td>\n",
       "      <td>39.959096</td>\n",
       "      <td>19.463365</td>\n",
       "      <td>-0.269404</td>\n",
       "      <td>22.582067</td>\n",
       "    </tr>\n",
       "    <tr>\n",
       "      <th>1495</th>\n",
       "      <td>24HorasTVN</td>\n",
       "      <td>7668</td>\n",
       "      <td>3092590</td>\n",
       "      <td>1</td>\n",
       "      <td>15.200048</td>\n",
       "      <td>30.944260</td>\n",
       "      <td>-0.269788</td>\n",
       "      <td>16.955522</td>\n",
       "    </tr>\n",
       "    <tr>\n",
       "      <th>446</th>\n",
       "      <td>darrenrovell</td>\n",
       "      <td>11472</td>\n",
       "      <td>1695674</td>\n",
       "      <td>26245</td>\n",
       "      <td>22.828089</td>\n",
       "      <td>16.940281</td>\n",
       "      <td>3.090865</td>\n",
       "      <td>15.790994</td>\n",
       "    </tr>\n",
       "    <tr>\n",
       "      <th>2872</th>\n",
       "      <td>AlbertoRavell</td>\n",
       "      <td>11353</td>\n",
       "      <td>1715397</td>\n",
       "      <td>2</td>\n",
       "      <td>22.589462</td>\n",
       "      <td>17.138003</td>\n",
       "      <td>-0.269660</td>\n",
       "      <td>14.927732</td>\n",
       "    </tr>\n",
       "    <tr>\n",
       "      <th>3733</th>\n",
       "      <td>teleSURtv</td>\n",
       "      <td>10989</td>\n",
       "      <td>1374561</td>\n",
       "      <td>0</td>\n",
       "      <td>21.859544</td>\n",
       "      <td>13.721148</td>\n",
       "      <td>-0.269916</td>\n",
       "      <td>13.420609</td>\n",
       "    </tr>\n",
       "    <tr>\n",
       "      <th>660</th>\n",
       "      <td>dailykos</td>\n",
       "      <td>7693</td>\n",
       "      <td>247580</td>\n",
       "      <td>3</td>\n",
       "      <td>15.250180</td>\n",
       "      <td>2.423247</td>\n",
       "      <td>-0.269532</td>\n",
       "      <td>6.789205</td>\n",
       "    </tr>\n",
       "    <tr>\n",
       "      <th>2245</th>\n",
       "      <td>LOLGOP</td>\n",
       "      <td>6891</td>\n",
       "      <td>322574</td>\n",
       "      <td>14</td>\n",
       "      <td>13.641955</td>\n",
       "      <td>3.175057</td>\n",
       "      <td>-0.268123</td>\n",
       "      <td>6.426257</td>\n",
       "    </tr>\n",
       "    <tr>\n",
       "      <th>528</th>\n",
       "      <td>FlorianDny</td>\n",
       "      <td>2</td>\n",
       "      <td>80</td>\n",
       "      <td>192595</td>\n",
       "      <td>-0.172338</td>\n",
       "      <td>-0.057922</td>\n",
       "      <td>24.392671</td>\n",
       "      <td>6.009777</td>\n",
       "    </tr>\n",
       "    <tr>\n",
       "      <th>2955</th>\n",
       "      <td>ChannelNewsAsia</td>\n",
       "      <td>4107</td>\n",
       "      <td>735461</td>\n",
       "      <td>1</td>\n",
       "      <td>8.059288</td>\n",
       "      <td>7.314218</td>\n",
       "      <td>-0.269788</td>\n",
       "      <td>5.710923</td>\n",
       "    </tr>\n",
       "  </tbody>\n",
       "</table>\n",
       "</div>"
      ],
      "text/plain": [
       "                 User  listed_count  followers_count  retweets  listed_norm  \\\n",
       "1170         htTweets          5951          5048757         1    11.757003   \n",
       "974           thehill         20015          1947355         4    39.959096   \n",
       "1495       24HorasTVN          7668          3092590         1    15.200048   \n",
       "446      darrenrovell         11472          1695674     26245    22.828089   \n",
       "2872    AlbertoRavell         11353          1715397         2    22.589462   \n",
       "3733        teleSURtv         10989          1374561         0    21.859544   \n",
       "660          dailykos          7693           247580         3    15.250180   \n",
       "2245           LOLGOP          6891           322574        14    13.641955   \n",
       "528        FlorianDny             2               80    192595    -0.172338   \n",
       "2955  ChannelNewsAsia          4107           735461         1     8.059288   \n",
       "\n",
       "      followers_norm  retweets_norm      Score  \n",
       "1170       50.554688      -0.269788  22.606621  \n",
       "974        19.463365      -0.269404  22.582067  \n",
       "1495       30.944260      -0.269788  16.955522  \n",
       "446        16.940281       3.090865  15.790994  \n",
       "2872       17.138003      -0.269660  14.927732  \n",
       "3733       13.721148      -0.269916  13.420609  \n",
       "660         2.423247      -0.269532   6.789205  \n",
       "2245        3.175057      -0.268123   6.426257  \n",
       "528        -0.057922      24.392671   6.009777  \n",
       "2955        7.314218      -0.269788   5.710923  "
      ]
     },
     "execution_count": 116,
     "metadata": {},
     "output_type": "execute_result"
    }
   ],
   "source": [
    "top_influencers_df['Score'] = top_influencers_df['listed_norm']*listed_count_weight\\\n",
    "+top_influencers_df['followers_norm']*follower_count_weight\\\n",
    "+top_influencers_df['retweets_norm']*retweet_count_weight\n",
    "\n",
    "top100influencers_trump = top_influencers_df.sort('Score',ascending=False)[:100]\n",
    "top100influencers_trump[:10]"
   ]
  },
  {
   "cell_type": "code",
   "execution_count": 94,
   "metadata": {
    "collapsed": false
   },
   "outputs": [
    {
     "name": "stderr",
     "output_type": "stream",
     "text": [
      "C:\\Users\\Dallas\\Anaconda2\\lib\\site-packages\\ipykernel\\__main__.py:2: FutureWarning: sort(columns=....) is deprecated, use sort_values(by=.....)\n",
      "  from ipykernel import kernelapp as app\n"
     ]
    }
   ],
   "source": [
    "#trump_df_unique.sort('Score',ascending=False)[:100].to_csv('top100.csv',encoding='utf-8')"
   ]
  },
  {
   "cell_type": "markdown",
   "metadata": {
    "collapsed": true
   },
   "source": [
    "## Influence Matrix"
   ]
  },
  {
   "cell_type": "markdown",
   "metadata": {},
   "source": [
    "#### Create new DF with only relevant columns\n",
    "\n",
    "##### Key Assumptions:\n",
    "1. Their should be a reference line EACH TIME a user retweets another user (i.e. if a user retweets another user twice, their will be two entries)\n",
    "2. Retweets and replies should not also count as mentions (i.e. if a user retweets a user, there will be an entry for just the retweet rathen then 1 for the retweet AND 1 for the mention)."
   ]
  },
  {
   "cell_type": "code",
   "execution_count": 117,
   "metadata": {
    "collapsed": false
   },
   "outputs": [
    {
     "data": {
      "text/html": [
       "<div>\n",
       "<table border=\"1\" class=\"dataframe\">\n",
       "  <thead>\n",
       "    <tr style=\"text-align: right;\">\n",
       "      <th></th>\n",
       "      <th>User</th>\n",
       "      <th>Reply_User</th>\n",
       "      <th>Retweet_User</th>\n",
       "      <th>Mention_Users</th>\n",
       "    </tr>\n",
       "  </thead>\n",
       "  <tbody>\n",
       "    <tr>\n",
       "      <th>0</th>\n",
       "      <td>SherriKuczeryk</td>\n",
       "      <td>None</td>\n",
       "      <td>JordanUhl</td>\n",
       "      <td>[]</td>\n",
       "    </tr>\n",
       "    <tr>\n",
       "      <th>1</th>\n",
       "      <td>RexRedbone</td>\n",
       "      <td>None</td>\n",
       "      <td>infowars</td>\n",
       "      <td>[]</td>\n",
       "    </tr>\n",
       "    <tr>\n",
       "      <th>2</th>\n",
       "      <td>SamaraLouzi</td>\n",
       "      <td>None</td>\n",
       "      <td></td>\n",
       "      <td>[]</td>\n",
       "    </tr>\n",
       "    <tr>\n",
       "      <th>3</th>\n",
       "      <td>elpatron_145</td>\n",
       "      <td>None</td>\n",
       "      <td>SenSanders</td>\n",
       "      <td>[]</td>\n",
       "    </tr>\n",
       "    <tr>\n",
       "      <th>4</th>\n",
       "      <td>Daggard</td>\n",
       "      <td>None</td>\n",
       "      <td>Breznican</td>\n",
       "      <td>[]</td>\n",
       "    </tr>\n",
       "  </tbody>\n",
       "</table>\n",
       "</div>"
      ],
      "text/plain": [
       "             User Reply_User Retweet_User Mention_Users\n",
       "0  SherriKuczeryk       None    JordanUhl            []\n",
       "1      RexRedbone       None     infowars            []\n",
       "2     SamaraLouzi       None                         []\n",
       "3    elpatron_145       None   SenSanders            []\n",
       "4         Daggard       None    Breznican            []"
      ]
     },
     "execution_count": 117,
     "metadata": {},
     "output_type": "execute_result"
    }
   ],
   "source": [
    "influence_matrix = trump_tweet_data_df[['User','Reply_User','Retweet_User','Mention_Users']]\n",
    "influence_matrix.head()"
   ]
  },
  {
   "cell_type": "code",
   "execution_count": null,
   "metadata": {
    "collapsed": true
   },
   "outputs": [],
   "source": []
  }
 ],
 "metadata": {
  "anaconda-cloud": {},
  "kernelspec": {
   "display_name": "Python [default]",
   "language": "python",
   "name": "python2"
  },
  "language_info": {
   "codemirror_mode": {
    "name": "ipython",
    "version": 2
   },
   "file_extension": ".py",
   "mimetype": "text/x-python",
   "name": "python",
   "nbconvert_exporter": "python",
   "pygments_lexer": "ipython2",
   "version": "2.7.12"
  }
 },
 "nbformat": 4,
 "nbformat_minor": 0
}
