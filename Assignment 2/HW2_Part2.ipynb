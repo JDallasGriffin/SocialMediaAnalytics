{
 "cells": [
  {
   "cell_type": "markdown",
   "metadata": {},
   "source": [
    "## Assignment 2 - Part 2 - Finding Twitter Influencers\n",
    "\n",
    "### Top 100 Influencers"
   ]
  },
  {
   "cell_type": "code",
   "execution_count": 47,
   "metadata": {
    "collapsed": false
   },
   "outputs": [
    {
     "name": "stdout",
     "output_type": "stream",
     "text": [
      "Populating the interactive namespace from numpy and matplotlib\n"
     ]
    }
   ],
   "source": [
    "import pandas as pd\n",
    "import tweepy\n",
    "%pylab inline\n",
    "import seaborn as sns\n",
    "\n",
    "consumer_key = 'vZyOIzO8AZBgJ6U2DfjvyN9hi'\n",
    "consumer_secret = 'jy8HKcp8OkQmacmyccnhaAq06e3BDBblas0f2ub0jWrRhVqan8'\n",
    "access_token_key = '829374717941448704-eFTxdEdwJG67jNr8fI4vQEaCHSn7Css'\n",
    "access_token_secret = '2kXFyEbXFhhi9bJNhlDpYHwak7798PhnU52Dx2YI2cak5'\n",
    "\n",
    "auth = tweepy.OAuthHandler(consumer_key, consumer_secret)\n",
    "auth.set_access_token(access_token_key, access_token_secret)\n",
    "api=tweepy.API(auth)"
   ]
  },
  {
   "cell_type": "markdown",
   "metadata": {},
   "source": [
    "#### Pull 5,000 Tweets from Twitter API"
   ]
  },
  {
   "cell_type": "code",
   "execution_count": 2,
   "metadata": {
    "collapsed": false
   },
   "outputs": [],
   "source": [
    "query = 'Trump'\n",
    "count = 100\n",
    "max_tweets = 5000\n",
    "searched_tweets = []\n",
    "last_id = -1\n",
    "while len(searched_tweets) < max_tweets:\n",
    "    count = max_tweets - len(searched_tweets)\n",
    "    try:\n",
    "        new_tweets = api.search(q=query, count=count, max_id=str(last_id - 1))\n",
    "        if not new_tweets:\n",
    "            break\n",
    "        searched_tweets.extend(new_tweets)\n",
    "        last_id = new_tweets[-1].id\n",
    "    except tweepy.TweepError as e:\n",
    "        # depending on TweepError.code, one may want to retry or wait\n",
    "        # to keep things simple, we will give up on an error\n",
    "        break"
   ]
  },
  {
   "cell_type": "markdown",
   "metadata": {},
   "source": [
    "#### Mine Tweets for Relevant Information\n",
    "\n",
    "This script will parse through the Twitter JSON object and pull out the attributes deemed important in part 1 (Follower & Listed Count) as well as connections between users for both the original tweet AND where applicable the tweet and user that was Retweeted."
   ]
  },
  {
   "cell_type": "code",
   "execution_count": 37,
   "metadata": {
    "collapsed": false
   },
   "outputs": [
    {
     "name": "stdout",
     "output_type": "stream",
     "text": [
      "[[u'Breznican', 668, 25832, u'BREAKING: Trump advisor Stephen Miller confirms it rubs the lotion on its skin or else it gets the hose again. https://t.co/MJuelRyLMn', None, '', ''], [u'mmikrib', 89, 1621, u'RT @Breznican: BREAKING: Trump advisor Stephen Miller confirms it rubs the lotion on its skin or else it gets the hose again. https://t.co/\\u2026', None, u'Breznican', []], [u'deIiveryboy', 179, 4602, u'Simon looks like a trump supporter', None, '', ''], [u'ccrterminus', 44, 1616, u'RT @deIiveryboy: Simon looks like a trump supporter', None, u'deIiveryboy', []], [u'funder', 904, 65550, u'US intelligence community operating under presumption Russia has \"ears\" on the Trump team #resist #trumpleaks #amjoy https://t.co/X3UfbvzDKV', None, '', '']]\n"
     ]
    }
   ],
   "source": [
    "trump_tweet_data = []\n",
    "\n",
    "for tweet in searched_tweets: #Create a list of lists of the attributes of tweets\n",
    "    k = [tweet.author.screen_name,tweet.author.listed_count,tweet.author.followers_count,\n",
    "           tweet.text,tweet.in_reply_to_screen_name]\n",
    "    \n",
    "    # If a retweet object exists, pull in user name of retweet for main tweet and create an additional entry for the referenced tweet.\n",
    "    if hasattr(tweet, 'retweeted_status'):\n",
    "        k.append(tweet.retweeted_status.user.screen_name) # Add User that was Retweeted to main entry\n",
    "        \n",
    "        # Create additional entry for information about the user that was retweeted\n",
    "        rt = [tweet.retweeted_status.user.screen_name,tweet.retweeted_status.user.listed_count,\n",
    "              tweet.retweeted_status.user.followers_count,tweet.retweeted_status.text,\n",
    "              tweet.retweeted_status.in_reply_to_screen_name,'','']\n",
    "        \n",
    "        trump_tweet_data.append(rt) # Add retweet info as separate entry\n",
    "    \n",
    "    else: k.append('')\n",
    "        \n",
    "    # Pull in and convert Mentions object to a list of usernames\n",
    "    mention_list = []\n",
    "    for user_dict in tweet.entities['user_mentions']:\n",
    "        if user_dict['screen_name'] != k[-1] and user_dict['screen_name'] != k[-2]: # Fix to exclude retweets & replies from mentions\n",
    "            mention_list.append(user_dict['screen_name'])\n",
    "            \n",
    "    k.append(mention_list)\n",
    "    \n",
    "    trump_tweet_data.append(k)\n",
    "print trump_tweet_data[:5] "
   ]
  },
  {
   "cell_type": "markdown",
   "metadata": {},
   "source": [
    "#### Convert to Dataframe"
   ]
  },
  {
   "cell_type": "code",
   "execution_count": 52,
   "metadata": {
    "collapsed": false
   },
   "outputs": [
    {
     "data": {
      "text/html": [
       "<div>\n",
       "<table border=\"1\" class=\"dataframe\">\n",
       "  <thead>\n",
       "    <tr style=\"text-align: right;\">\n",
       "      <th></th>\n",
       "      <th>User</th>\n",
       "      <th>listed_count</th>\n",
       "      <th>followers_count</th>\n",
       "      <th>text</th>\n",
       "      <th>Reply_User</th>\n",
       "      <th>Retweet_User</th>\n",
       "      <th>Mention_Users</th>\n",
       "    </tr>\n",
       "  </thead>\n",
       "  <tbody>\n",
       "    <tr>\n",
       "      <th>0</th>\n",
       "      <td>Breznican</td>\n",
       "      <td>668</td>\n",
       "      <td>25832</td>\n",
       "      <td>BREAKING: Trump advisor Stephen Miller confirm...</td>\n",
       "      <td>None</td>\n",
       "      <td></td>\n",
       "      <td></td>\n",
       "    </tr>\n",
       "    <tr>\n",
       "      <th>1</th>\n",
       "      <td>mmikrib</td>\n",
       "      <td>89</td>\n",
       "      <td>1621</td>\n",
       "      <td>RT @Breznican: BREAKING: Trump advisor Stephen...</td>\n",
       "      <td>None</td>\n",
       "      <td>Breznican</td>\n",
       "      <td>[]</td>\n",
       "    </tr>\n",
       "    <tr>\n",
       "      <th>2</th>\n",
       "      <td>deIiveryboy</td>\n",
       "      <td>179</td>\n",
       "      <td>4602</td>\n",
       "      <td>Simon looks like a trump supporter</td>\n",
       "      <td>None</td>\n",
       "      <td></td>\n",
       "      <td></td>\n",
       "    </tr>\n",
       "    <tr>\n",
       "      <th>3</th>\n",
       "      <td>ccrterminus</td>\n",
       "      <td>44</td>\n",
       "      <td>1616</td>\n",
       "      <td>RT @deIiveryboy: Simon looks like a trump supp...</td>\n",
       "      <td>None</td>\n",
       "      <td>deIiveryboy</td>\n",
       "      <td>[]</td>\n",
       "    </tr>\n",
       "    <tr>\n",
       "      <th>4</th>\n",
       "      <td>funder</td>\n",
       "      <td>904</td>\n",
       "      <td>65550</td>\n",
       "      <td>US intelligence community operating under pres...</td>\n",
       "      <td>None</td>\n",
       "      <td></td>\n",
       "      <td></td>\n",
       "    </tr>\n",
       "  </tbody>\n",
       "</table>\n",
       "</div>"
      ],
      "text/plain": [
       "          User  listed_count  followers_count  \\\n",
       "0    Breznican           668            25832   \n",
       "1      mmikrib            89             1621   \n",
       "2  deIiveryboy           179             4602   \n",
       "3  ccrterminus            44             1616   \n",
       "4       funder           904            65550   \n",
       "\n",
       "                                                text Reply_User Retweet_User  \\\n",
       "0  BREAKING: Trump advisor Stephen Miller confirm...       None                \n",
       "1  RT @Breznican: BREAKING: Trump advisor Stephen...       None    Breznican   \n",
       "2                 Simon looks like a trump supporter       None                \n",
       "3  RT @deIiveryboy: Simon looks like a trump supp...       None  deIiveryboy   \n",
       "4  US intelligence community operating under pres...       None                \n",
       "\n",
       "  Mention_Users  \n",
       "0                \n",
       "1            []  \n",
       "2                \n",
       "3            []  \n",
       "4                "
      ]
     },
     "execution_count": 52,
     "metadata": {},
     "output_type": "execute_result"
    }
   ],
   "source": [
    "trump_tweet_data_df = pd.DataFrame(trump_tweet_data) #Convert it into a dataframe and publish a csv file\n",
    "trump_tweet_data_df.columns = ['User','listed_count','followers_count','text','Reply_User','Retweet_User','Mention_Users']\n",
    "\n",
    "trump_tweet_data_df.head()"
   ]
  },
  {
   "cell_type": "markdown",
   "metadata": {},
   "source": [
    "#### Define Attribute Weights\n",
    "\n",
    "Weights based on the two most critical attributes identified in Part 1 of the Analysis."
   ]
  },
  {
   "cell_type": "code",
   "execution_count": 53,
   "metadata": {
    "collapsed": false
   },
   "outputs": [],
   "source": [
    "listed_count_weight = 0.44/(0.44+0.40)\n",
    "follower_count_weight = 0.40/(0.44+0.40)"
   ]
  },
  {
   "cell_type": "markdown",
   "metadata": {},
   "source": [
    "#### Pre-processing\n",
    "\n",
    "Remove unnecessary columns, keep only unique users, and normalize listed & follower counts.\n",
    "\n",
    "NOTE: The list count & follower counts must be averaged to account for the fact these numbers constantly change for top influencers."
   ]
  },
  {
   "cell_type": "code",
   "execution_count": 54,
   "metadata": {
    "collapsed": false
   },
   "outputs": [],
   "source": [
    "from sklearn import preprocessing #Scale the data and score it\n",
    "\n",
    "# Average counts to account for changes in top influencer's listed & followers within dataset\n",
    "top_influencers_df = trump_tweet_data_df.groupby('User')[['listed_count','followers_count']].mean()\n",
    "\n",
    "# Normalize scores so that their importance is driven by the weights.\n",
    "top_influencers_df['listed_norm'] = preprocessing.scale(top_influencers_df['listed_count'])\n",
    "top_influencers_df['followers_norm'] = preprocessing.scale(top_influencers_df['followers_count'])"
   ]
  },
  {
   "cell_type": "markdown",
   "metadata": {},
   "source": [
    "#### Calculated Weighted User Influence Score"
   ]
  },
  {
   "cell_type": "code",
   "execution_count": 58,
   "metadata": {
    "collapsed": false
   },
   "outputs": [
    {
     "name": "stderr",
     "output_type": "stream",
     "text": [
      "C:\\Users\\Dallas\\Anaconda2\\lib\\site-packages\\ipykernel\\__main__.py:3: FutureWarning: sort(columns=....) is deprecated, use sort_values(by=.....)\n",
      "  app.launch_new_instance()\n"
     ]
    },
    {
     "data": {
      "text/html": [
       "<div>\n",
       "<table border=\"1\" class=\"dataframe\">\n",
       "  <thead>\n",
       "    <tr style=\"text-align: right;\">\n",
       "      <th></th>\n",
       "      <th>listed_count</th>\n",
       "      <th>followers_count</th>\n",
       "      <th>listed_norm</th>\n",
       "      <th>followers_norm</th>\n",
       "      <th>Influence Score</th>\n",
       "    </tr>\n",
       "    <tr>\n",
       "      <th>User</th>\n",
       "      <th></th>\n",
       "      <th></th>\n",
       "      <th></th>\n",
       "      <th></th>\n",
       "      <th></th>\n",
       "    </tr>\n",
       "  </thead>\n",
       "  <tbody>\n",
       "    <tr>\n",
       "      <th>nytimes</th>\n",
       "      <td>186149.833333</td>\n",
       "      <td>3.368306e+07</td>\n",
       "      <td>35.681240</td>\n",
       "      <td>34.888268</td>\n",
       "      <td>35.303634</td>\n",
       "    </tr>\n",
       "    <tr>\n",
       "      <th>CNN</th>\n",
       "      <td>123767.666667</td>\n",
       "      <td>3.179554e+07</td>\n",
       "      <td>23.680655</td>\n",
       "      <td>32.927876</td>\n",
       "      <td>28.084093</td>\n",
       "    </tr>\n",
       "    <tr>\n",
       "      <th>BBCWorld</th>\n",
       "      <td>102074.000000</td>\n",
       "      <td>1.787891e+07</td>\n",
       "      <td>19.507399</td>\n",
       "      <td>18.474018</td>\n",
       "      <td>19.015313</td>\n",
       "    </tr>\n",
       "    <tr>\n",
       "      <th>Reuters</th>\n",
       "      <td>108322.800000</td>\n",
       "      <td>1.644380e+07</td>\n",
       "      <td>20.709494</td>\n",
       "      <td>16.983504</td>\n",
       "      <td>18.935213</td>\n",
       "    </tr>\n",
       "    <tr>\n",
       "      <th>realDonaldTrump</th>\n",
       "      <td>63731.000000</td>\n",
       "      <td>2.471798e+07</td>\n",
       "      <td>12.131277</td>\n",
       "      <td>25.577097</td>\n",
       "      <td>18.534049</td>\n",
       "    </tr>\n",
       "    <tr>\n",
       "      <th>WSJ</th>\n",
       "      <td>104179.125000</td>\n",
       "      <td>1.297827e+07</td>\n",
       "      <td>19.912366</td>\n",
       "      <td>13.384190</td>\n",
       "      <td>16.803711</td>\n",
       "    </tr>\n",
       "    <tr>\n",
       "      <th>HuffingtonPost</th>\n",
       "      <td>84112.500000</td>\n",
       "      <td>9.075558e+06</td>\n",
       "      <td>16.052109</td>\n",
       "      <td>9.330819</td>\n",
       "      <td>12.851495</td>\n",
       "    </tr>\n",
       "    <tr>\n",
       "      <th>FoxNews</th>\n",
       "      <td>57151.968750</td>\n",
       "      <td>1.325145e+07</td>\n",
       "      <td>10.865656</td>\n",
       "      <td>13.667918</td>\n",
       "      <td>12.200066</td>\n",
       "    </tr>\n",
       "    <tr>\n",
       "      <th>CNNEE</th>\n",
       "      <td>48651.000000</td>\n",
       "      <td>1.478568e+07</td>\n",
       "      <td>9.230307</td>\n",
       "      <td>15.261373</td>\n",
       "      <td>12.102243</td>\n",
       "    </tr>\n",
       "    <tr>\n",
       "      <th>washingtonpost</th>\n",
       "      <td>76867.666667</td>\n",
       "      <td>8.943536e+06</td>\n",
       "      <td>14.658405</td>\n",
       "      <td>9.193701</td>\n",
       "      <td>12.056165</td>\n",
       "    </tr>\n",
       "    <tr>\n",
       "      <th>NPR</th>\n",
       "      <td>62991.000000</td>\n",
       "      <td>6.695243e+06</td>\n",
       "      <td>11.988922</td>\n",
       "      <td>6.858615</td>\n",
       "      <td>9.545919</td>\n",
       "    </tr>\n",
       "    <tr>\n",
       "      <th>ABC</th>\n",
       "      <td>47246.500000</td>\n",
       "      <td>9.095804e+06</td>\n",
       "      <td>8.960120</td>\n",
       "      <td>9.351846</td>\n",
       "      <td>9.146657</td>\n",
       "    </tr>\n",
       "    <tr>\n",
       "      <th>el_pais</th>\n",
       "      <td>53161.000000</td>\n",
       "      <td>5.919441e+06</td>\n",
       "      <td>10.097905</td>\n",
       "      <td>6.052864</td>\n",
       "      <td>8.171695</td>\n",
       "    </tr>\n",
       "    <tr>\n",
       "      <th>wikileaks</th>\n",
       "      <td>55851.000000</td>\n",
       "      <td>4.322448e+06</td>\n",
       "      <td>10.615386</td>\n",
       "      <td>4.394222</td>\n",
       "      <td>7.652927</td>\n",
       "    </tr>\n",
       "    <tr>\n",
       "      <th>CBSNews</th>\n",
       "      <td>44508.000000</td>\n",
       "      <td>5.442602e+06</td>\n",
       "      <td>8.433309</td>\n",
       "      <td>5.557618</td>\n",
       "      <td>7.063932</td>\n",
       "    </tr>\n",
       "    <tr>\n",
       "      <th>chelseahandler</th>\n",
       "      <td>33904.000000</td>\n",
       "      <td>6.559858e+06</td>\n",
       "      <td>6.393396</td>\n",
       "      <td>6.718004</td>\n",
       "      <td>6.547971</td>\n",
       "    </tr>\n",
       "    <tr>\n",
       "      <th>business</th>\n",
       "      <td>43084.000000</td>\n",
       "      <td>3.706254e+06</td>\n",
       "      <td>8.159372</td>\n",
       "      <td>3.754240</td>\n",
       "      <td>6.061690</td>\n",
       "    </tr>\n",
       "    <tr>\n",
       "      <th>NBCNews</th>\n",
       "      <td>33885.000000</td>\n",
       "      <td>4.388750e+06</td>\n",
       "      <td>6.389741</td>\n",
       "      <td>4.463083</td>\n",
       "      <td>5.472285</td>\n",
       "    </tr>\n",
       "    <tr>\n",
       "      <th>timesofindia</th>\n",
       "      <td>10070.000000</td>\n",
       "      <td>9.188698e+06</td>\n",
       "      <td>1.808401</td>\n",
       "      <td>9.448327</td>\n",
       "      <td>5.446461</td>\n",
       "    </tr>\n",
       "    <tr>\n",
       "      <th>EW</th>\n",
       "      <td>24290.000000</td>\n",
       "      <td>6.064281e+06</td>\n",
       "      <td>4.543931</td>\n",
       "      <td>6.203296</td>\n",
       "      <td>5.334105</td>\n",
       "    </tr>\n",
       "  </tbody>\n",
       "</table>\n",
       "</div>"
      ],
      "text/plain": [
       "                  listed_count  followers_count  listed_norm  followers_norm  \\\n",
       "User                                                                           \n",
       "nytimes          186149.833333     3.368306e+07    35.681240       34.888268   \n",
       "CNN              123767.666667     3.179554e+07    23.680655       32.927876   \n",
       "BBCWorld         102074.000000     1.787891e+07    19.507399       18.474018   \n",
       "Reuters          108322.800000     1.644380e+07    20.709494       16.983504   \n",
       "realDonaldTrump   63731.000000     2.471798e+07    12.131277       25.577097   \n",
       "WSJ              104179.125000     1.297827e+07    19.912366       13.384190   \n",
       "HuffingtonPost    84112.500000     9.075558e+06    16.052109        9.330819   \n",
       "FoxNews           57151.968750     1.325145e+07    10.865656       13.667918   \n",
       "CNNEE             48651.000000     1.478568e+07     9.230307       15.261373   \n",
       "washingtonpost    76867.666667     8.943536e+06    14.658405        9.193701   \n",
       "NPR               62991.000000     6.695243e+06    11.988922        6.858615   \n",
       "ABC               47246.500000     9.095804e+06     8.960120        9.351846   \n",
       "el_pais           53161.000000     5.919441e+06    10.097905        6.052864   \n",
       "wikileaks         55851.000000     4.322448e+06    10.615386        4.394222   \n",
       "CBSNews           44508.000000     5.442602e+06     8.433309        5.557618   \n",
       "chelseahandler    33904.000000     6.559858e+06     6.393396        6.718004   \n",
       "business          43084.000000     3.706254e+06     8.159372        3.754240   \n",
       "NBCNews           33885.000000     4.388750e+06     6.389741        4.463083   \n",
       "timesofindia      10070.000000     9.188698e+06     1.808401        9.448327   \n",
       "EW                24290.000000     6.064281e+06     4.543931        6.203296   \n",
       "\n",
       "                 Influence Score  \n",
       "User                              \n",
       "nytimes                35.303634  \n",
       "CNN                    28.084093  \n",
       "BBCWorld               19.015313  \n",
       "Reuters                18.935213  \n",
       "realDonaldTrump        18.534049  \n",
       "WSJ                    16.803711  \n",
       "HuffingtonPost         12.851495  \n",
       "FoxNews                12.200066  \n",
       "CNNEE                  12.102243  \n",
       "washingtonpost         12.056165  \n",
       "NPR                     9.545919  \n",
       "ABC                     9.146657  \n",
       "el_pais                 8.171695  \n",
       "wikileaks               7.652927  \n",
       "CBSNews                 7.063932  \n",
       "chelseahandler          6.547971  \n",
       "business                6.061690  \n",
       "NBCNews                 5.472285  \n",
       "timesofindia            5.446461  \n",
       "EW                      5.334105  "
      ]
     },
     "execution_count": 58,
     "metadata": {},
     "output_type": "execute_result"
    }
   ],
   "source": [
    "top_influencers_df['Influence Score'] = top_influencers_df['listed_norm']*listed_count_weight\\\n",
    "+top_influencers_df['followers_norm']*follower_count_weight\n",
    "\n",
    "top100influencers_trump = top_influencers_df.sort('Influence Score',ascending=False)[:100]\n",
    "\n",
    "top100influencers_trump[:20]"
   ]
  },
  {
   "cell_type": "markdown",
   "metadata": {},
   "source": [
    "#### Visualize Top 10 Influencers on Topic of Donald Trump"
   ]
  },
  {
   "cell_type": "code",
   "execution_count": 56,
   "metadata": {
    "collapsed": false
   },
   "outputs": [
    {
     "name": "stderr",
     "output_type": "stream",
     "text": [
      "C:\\Users\\Dallas\\Anaconda2\\lib\\site-packages\\ipykernel\\__main__.py:1: FutureWarning: sort(columns=....) is deprecated, use sort_values(by=.....)\n",
      "  if __name__ == '__main__':\n"
     ]
    },
    {
     "data": {
      "text/plain": [
       "<matplotlib.axes._subplots.AxesSubplot at 0x219386a0>"
      ]
     },
     "execution_count": 56,
     "metadata": {},
     "output_type": "execute_result"
    },
    {
     "data": {
      "image/png": "[encoded data removed]",
      "text/plain": [
       "<matplotlib.figure.Figure at 0x2151b940>"
      ]
     },
     "metadata": {},
     "output_type": "display_data"
    }
   ],
   "source": [
    "top100influencers_trump[['listed_norm','followers_norm','Influence Score']][:10].sort('Influence Score',ascending=True).plot(kind = 'barh')"
   ]
  },
  {
   "cell_type": "markdown",
   "metadata": {
    "collapsed": true
   },
   "source": [
    "## Influence Matrix"
   ]
  },
  {
   "cell_type": "markdown",
   "metadata": {},
   "source": [
    "#### Create new DF with only relevant columns\n",
    "\n",
    "##### Key Assumptions:\n",
    "1. Their should be a reference line EACH TIME a user retweets another user (i.e. if a user retweets another user twice, their will be two entries)\n",
    "2. Retweets and replies should not also count as mentions (i.e. if a user retweets a user, there will be an entry for just the retweet rathen then 1 for the retweet AND 1 for the mention)."
   ]
  },
  {
   "cell_type": "code",
   "execution_count": 61,
   "metadata": {
    "collapsed": false
   },
   "outputs": [
    {
     "data": {
      "text/html": [
       "<div>\n",
       "<table border=\"1\" class=\"dataframe\">\n",
       "  <thead>\n",
       "    <tr style=\"text-align: right;\">\n",
       "      <th></th>\n",
       "      <th>User</th>\n",
       "      <th>Reply_User</th>\n",
       "      <th>Retweet_User</th>\n",
       "      <th>Mention_Users</th>\n",
       "    </tr>\n",
       "  </thead>\n",
       "  <tbody>\n",
       "    <tr>\n",
       "      <th>0</th>\n",
       "      <td>Breznican</td>\n",
       "      <td>None</td>\n",
       "      <td></td>\n",
       "      <td></td>\n",
       "    </tr>\n",
       "    <tr>\n",
       "      <th>1</th>\n",
       "      <td>mmikrib</td>\n",
       "      <td>None</td>\n",
       "      <td>Breznican</td>\n",
       "      <td>[]</td>\n",
       "    </tr>\n",
       "    <tr>\n",
       "      <th>2</th>\n",
       "      <td>deIiveryboy</td>\n",
       "      <td>None</td>\n",
       "      <td></td>\n",
       "      <td></td>\n",
       "    </tr>\n",
       "    <tr>\n",
       "      <th>3</th>\n",
       "      <td>ccrterminus</td>\n",
       "      <td>None</td>\n",
       "      <td>deIiveryboy</td>\n",
       "      <td>[]</td>\n",
       "    </tr>\n",
       "    <tr>\n",
       "      <th>4</th>\n",
       "      <td>funder</td>\n",
       "      <td>None</td>\n",
       "      <td></td>\n",
       "      <td></td>\n",
       "    </tr>\n",
       "    <tr>\n",
       "      <th>5</th>\n",
       "      <td>AngryLogician</td>\n",
       "      <td>None</td>\n",
       "      <td>funder</td>\n",
       "      <td>[]</td>\n",
       "    </tr>\n",
       "    <tr>\n",
       "      <th>6</th>\n",
       "      <td>1913Facts</td>\n",
       "      <td>EBONYMag</td>\n",
       "      <td></td>\n",
       "      <td>[]</td>\n",
       "    </tr>\n",
       "    <tr>\n",
       "      <th>7</th>\n",
       "      <td>scambyarussian</td>\n",
       "      <td>None</td>\n",
       "      <td></td>\n",
       "      <td></td>\n",
       "    </tr>\n",
       "    <tr>\n",
       "      <th>8</th>\n",
       "      <td>Heleneafernande</td>\n",
       "      <td>None</td>\n",
       "      <td>scambyarussian</td>\n",
       "      <td>[]</td>\n",
       "    </tr>\n",
       "    <tr>\n",
       "      <th>9</th>\n",
       "      <td>lorengrush</td>\n",
       "      <td>None</td>\n",
       "      <td></td>\n",
       "      <td></td>\n",
       "    </tr>\n",
       "  </tbody>\n",
       "</table>\n",
       "</div>"
      ],
      "text/plain": [
       "              User Reply_User    Retweet_User Mention_Users\n",
       "0        Breznican       None                              \n",
       "1          mmikrib       None       Breznican            []\n",
       "2      deIiveryboy       None                              \n",
       "3      ccrterminus       None     deIiveryboy            []\n",
       "4           funder       None                              \n",
       "5    AngryLogician       None          funder            []\n",
       "6        1913Facts   EBONYMag                            []\n",
       "7   scambyarussian       None                              \n",
       "8  Heleneafernande       None  scambyarussian            []\n",
       "9       lorengrush       None                              "
      ]
     },
     "execution_count": 61,
     "metadata": {},
     "output_type": "execute_result"
    }
   ],
   "source": [
    "influence_matrix_df = trump_tweet_data_df[['User','Reply_User','Retweet_User','Mention_Users']]\n",
    "influence_matrix_df[:10]"
   ]
  },
  {
   "cell_type": "code",
   "execution_count": 62,
   "metadata": {
    "collapsed": true
   },
   "outputs": [],
   "source": [
    "influence_matrix = []\n",
    "\n",
    "# Iterate over each of the rows creating a record (in the form of a list) for each connection\n",
    "for index, row in influence_matrix_df.iterrows():\n",
    "    influence_matrix.append([row['User'],row['User'],'Tweet']) # First row for the Tweet itself per instructions\n",
    "    if row['Reply_User'] != None:\n",
    "        influence_matrix.append([row['User'],row['Reply_User'],'Reply']) # Add Replies\n",
    "    if len(row['Retweet_User']) > 0:\n",
    "        influence_matrix.append([row['User'],row['Retweet_User'],'Retweet']) # Add Retweets\n",
    "    for user in row['Mention_Users']:\n",
    "        influence_matrix.append([row['User'],user,'Mention']) # Add Mentions"
   ]
  },
  {
   "cell_type": "code",
   "execution_count": 63,
   "metadata": {
    "collapsed": false
   },
   "outputs": [
    {
     "data": {
      "text/html": [
       "<div>\n",
       "<table border=\"1\" class=\"dataframe\">\n",
       "  <thead>\n",
       "    <tr style=\"text-align: right;\">\n",
       "      <th></th>\n",
       "      <th>User1</th>\n",
       "      <th>User2</th>\n",
       "      <th>Action</th>\n",
       "    </tr>\n",
       "  </thead>\n",
       "  <tbody>\n",
       "    <tr>\n",
       "      <th>0</th>\n",
       "      <td>Breznican</td>\n",
       "      <td>Breznican</td>\n",
       "      <td>Tweet</td>\n",
       "    </tr>\n",
       "    <tr>\n",
       "      <th>1</th>\n",
       "      <td>mmikrib</td>\n",
       "      <td>mmikrib</td>\n",
       "      <td>Tweet</td>\n",
       "    </tr>\n",
       "    <tr>\n",
       "      <th>2</th>\n",
       "      <td>mmikrib</td>\n",
       "      <td>Breznican</td>\n",
       "      <td>Retweet</td>\n",
       "    </tr>\n",
       "    <tr>\n",
       "      <th>3</th>\n",
       "      <td>deIiveryboy</td>\n",
       "      <td>deIiveryboy</td>\n",
       "      <td>Tweet</td>\n",
       "    </tr>\n",
       "    <tr>\n",
       "      <th>4</th>\n",
       "      <td>ccrterminus</td>\n",
       "      <td>ccrterminus</td>\n",
       "      <td>Tweet</td>\n",
       "    </tr>\n",
       "  </tbody>\n",
       "</table>\n",
       "</div>"
      ],
      "text/plain": [
       "         User1        User2   Action\n",
       "0    Breznican    Breznican    Tweet\n",
       "1      mmikrib      mmikrib    Tweet\n",
       "2      mmikrib    Breznican  Retweet\n",
       "3  deIiveryboy  deIiveryboy    Tweet\n",
       "4  ccrterminus  ccrterminus    Tweet"
      ]
     },
     "execution_count": 63,
     "metadata": {},
     "output_type": "execute_result"
    }
   ],
   "source": [
    "influence_matrix_final = pd.DataFrame(influence_matrix) #Convert it into a dataframe and publish a csv file\n",
    "influence_matrix_final.columns = ['User1', 'User2', 'Action']\n",
    "\n",
    "influence_matrix_final.head()"
   ]
  },
  {
   "cell_type": "code",
   "execution_count": 64,
   "metadata": {
    "collapsed": false
   },
   "outputs": [],
   "source": [
    "influence_matrix_final.to_csv('influence_matrix.csv',index=False)"
   ]
  },
  {
   "cell_type": "code",
   "execution_count": null,
   "metadata": {
    "collapsed": true
   },
   "outputs": [],
   "source": []
  }
 ],
 "metadata": {
  "anaconda-cloud": {},
  "kernelspec": {
   "display_name": "Python [default]",
   "language": "python",
   "name": "python2"
  },
  "language_info": {
   "codemirror_mode": {
    "name": "ipython",
    "version": 2
   },
   "file_extension": ".py",
   "mimetype": "text/x-python",
   "name": "python",
   "nbconvert_exporter": "python",
   "pygments_lexer": "ipython2",
   "version": "2.7.12"
  }
 },
 "nbformat": 4,
 "nbformat_minor": 0
}
