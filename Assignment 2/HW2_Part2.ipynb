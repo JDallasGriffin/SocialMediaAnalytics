{
 "cells": [
  {
   "cell_type": "markdown",
   "metadata": {},
   "source": [
    "## Assignment 2 - Part 2 - Finding Twitter Influencers\n",
    "\n",
    "### Top 100 Influencers"
   ]
  },
  {
   "cell_type": "code",
   "execution_count": 1,
   "metadata": {
    "collapsed": true
   },
   "outputs": [],
   "source": [
    "import pandas as pd\n",
    "import tweepy\n",
    "\n",
    "consumer_key = 'vZyOIzO8AZBgJ6U2DfjvyN9hi'\n",
    "consumer_secret = 'jy8HKcp8OkQmacmyccnhaAq06e3BDBblas0f2ub0jWrRhVqan8'\n",
    "access_token_key = '829374717941448704-eFTxdEdwJG67jNr8fI4vQEaCHSn7Css'\n",
    "access_token_secret = '2kXFyEbXFhhi9bJNhlDpYHwak7798PhnU52Dx2YI2cak5'\n",
    "\n",
    "auth = tweepy.OAuthHandler(consumer_key, consumer_secret)\n",
    "auth.set_access_token(access_token_key, access_token_secret)\n",
    "api=tweepy.API(auth)"
   ]
  },
  {
   "cell_type": "markdown",
   "metadata": {},
   "source": [
    "#### Pull 5,000 Tweets from Twitter API"
   ]
  },
  {
   "cell_type": "code",
   "execution_count": 2,
   "metadata": {
    "collapsed": false
   },
   "outputs": [],
   "source": [
    "query = 'Trump'\n",
    "count = 100\n",
    "max_tweets = 5000\n",
    "searched_tweets = []\n",
    "last_id = -1\n",
    "while len(searched_tweets) < max_tweets:\n",
    "    count = max_tweets - len(searched_tweets)\n",
    "    try:\n",
    "        new_tweets = api.search(q=query, count=count, max_id=str(last_id - 1))\n",
    "        if not new_tweets:\n",
    "            break\n",
    "        searched_tweets.extend(new_tweets)\n",
    "        last_id = new_tweets[-1].id\n",
    "    except tweepy.TweepError as e:\n",
    "        # depending on TweepError.code, one may want to retry or wait\n",
    "        # to keep things simple, we will give up on an error\n",
    "        break"
   ]
  },
  {
   "cell_type": "markdown",
   "metadata": {},
   "source": [
    "#### Mine Tweets for Relevant Information"
   ]
  },
  {
   "cell_type": "code",
   "execution_count": 7,
   "metadata": {
    "collapsed": false
   },
   "outputs": [
    {
     "name": "stdout",
     "output_type": "stream",
     "text": [
      "[[u'mmikrib', 89, 1621, u'RT @Breznican: BREAKING: Trump advisor Stephen Miller confirms it rubs the lotion on its skin or else it gets the hose again. https://t.co/\\u2026', 5615, 0, None, u'Breznican', []], [u'ccrterminus', 44, 1616, u'RT @deIiveryboy: Simon looks like a trump supporter', 8, 0, None, u'deIiveryboy', []], [u'AngryLogician', 11, 208, u'RT @funder: US intelligence community operating under presumption Russia has \"ears\" on the Trump team #resist #trumpleaks #amjoy https://t.\\u2026', 93, 0, None, u'funder', []], [u'1913Facts', 20, 589, u'/@EBONYMag Endless respect for THIS King kid but @ trump strategy: This blood sucker craves APPROVAL so negative attention is kryptonite!', 0, 0, u'EBONYMag', '', []], [u'Heleneafernande', 3, 123, u'RT @scambyarussian: Krispy Kream donuts yes\\nPlease note that Justin received less of the popular vote than Trump,\\n And has less support fro\\u2026', 2, 0, None, u'scambyarussian', []]]\n"
     ]
    }
   ],
   "source": [
    "trump_tweet_data = []\n",
    "\n",
    "for tweet in searched_tweets: #Create a list of lists of the attributes of tweets\n",
    "    k=[]\n",
    "    k = k+[tweet.author.screen_name,tweet.author.listed_count,tweet.author.followers_count,tweet.text\n",
    "           ,tweet.retweet_count,tweet.favorite_count,tweet.in_reply_to_screen_name]\n",
    "    \n",
    "    # If a retweet object exists, pull in user name of retweet. Otherwise, add blank entry.\n",
    "    if hasattr(tweet, 'retweeted_status'):\n",
    "        k.append(tweet.retweeted_status.user.screen_name)\n",
    "    else: k.append('')\n",
    "        \n",
    "    # Pull in and convert Mentions object to a list of usernames\n",
    "    mention_list = []\n",
    "    for user_dict in tweet.entities['user_mentions']:\n",
    "        if user_dict['screen_name'] != k[-1] and user_dict['screen_name'] != k[-2]: # Fix so that retweets and replies are not also included as mentions\n",
    "            mention_list.append(user_dict['screen_name'])\n",
    "            \n",
    "    k.append(mention_list)\n",
    "    \n",
    "    trump_tweet_data.append(k)\n",
    "print trump_tweet_data[:5] "
   ]
  },
  {
   "cell_type": "markdown",
   "metadata": {},
   "source": [
    "#### Convert to Dataframe"
   ]
  },
  {
   "cell_type": "code",
   "execution_count": 8,
   "metadata": {
    "collapsed": false
   },
   "outputs": [
    {
     "data": {
      "text/html": [
       "<div>\n",
       "<table border=\"1\" class=\"dataframe\">\n",
       "  <thead>\n",
       "    <tr style=\"text-align: right;\">\n",
       "      <th></th>\n",
       "      <th>User</th>\n",
       "      <th>listed_count</th>\n",
       "      <th>followers_count</th>\n",
       "      <th>text</th>\n",
       "      <th>retweets</th>\n",
       "      <th>favorites</th>\n",
       "      <th>Reply_User</th>\n",
       "      <th>Retweet_User</th>\n",
       "      <th>Mention_Users</th>\n",
       "    </tr>\n",
       "  </thead>\n",
       "  <tbody>\n",
       "    <tr>\n",
       "      <th>0</th>\n",
       "      <td>mmikrib</td>\n",
       "      <td>89</td>\n",
       "      <td>1621</td>\n",
       "      <td>RT @Breznican: BREAKING: Trump advisor Stephen...</td>\n",
       "      <td>5615</td>\n",
       "      <td>0</td>\n",
       "      <td>None</td>\n",
       "      <td>Breznican</td>\n",
       "      <td>[]</td>\n",
       "    </tr>\n",
       "    <tr>\n",
       "      <th>1</th>\n",
       "      <td>ccrterminus</td>\n",
       "      <td>44</td>\n",
       "      <td>1616</td>\n",
       "      <td>RT @deIiveryboy: Simon looks like a trump supp...</td>\n",
       "      <td>8</td>\n",
       "      <td>0</td>\n",
       "      <td>None</td>\n",
       "      <td>deIiveryboy</td>\n",
       "      <td>[]</td>\n",
       "    </tr>\n",
       "    <tr>\n",
       "      <th>2</th>\n",
       "      <td>AngryLogician</td>\n",
       "      <td>11</td>\n",
       "      <td>208</td>\n",
       "      <td>RT @funder: US intelligence community operatin...</td>\n",
       "      <td>93</td>\n",
       "      <td>0</td>\n",
       "      <td>None</td>\n",
       "      <td>funder</td>\n",
       "      <td>[]</td>\n",
       "    </tr>\n",
       "    <tr>\n",
       "      <th>3</th>\n",
       "      <td>1913Facts</td>\n",
       "      <td>20</td>\n",
       "      <td>589</td>\n",
       "      <td>/@EBONYMag Endless respect for THIS King kid b...</td>\n",
       "      <td>0</td>\n",
       "      <td>0</td>\n",
       "      <td>EBONYMag</td>\n",
       "      <td></td>\n",
       "      <td>[]</td>\n",
       "    </tr>\n",
       "    <tr>\n",
       "      <th>4</th>\n",
       "      <td>Heleneafernande</td>\n",
       "      <td>3</td>\n",
       "      <td>123</td>\n",
       "      <td>RT @scambyarussian: Krispy Kream donuts yes\\nP...</td>\n",
       "      <td>2</td>\n",
       "      <td>0</td>\n",
       "      <td>None</td>\n",
       "      <td>scambyarussian</td>\n",
       "      <td>[]</td>\n",
       "    </tr>\n",
       "  </tbody>\n",
       "</table>\n",
       "</div>"
      ],
      "text/plain": [
       "              User  listed_count  followers_count  \\\n",
       "0          mmikrib            89             1621   \n",
       "1      ccrterminus            44             1616   \n",
       "2    AngryLogician            11              208   \n",
       "3        1913Facts            20              589   \n",
       "4  Heleneafernande             3              123   \n",
       "\n",
       "                                                text  retweets  favorites  \\\n",
       "0  RT @Breznican: BREAKING: Trump advisor Stephen...      5615          0   \n",
       "1  RT @deIiveryboy: Simon looks like a trump supp...         8          0   \n",
       "2  RT @funder: US intelligence community operatin...        93          0   \n",
       "3  /@EBONYMag Endless respect for THIS King kid b...         0          0   \n",
       "4  RT @scambyarussian: Krispy Kream donuts yes\\nP...         2          0   \n",
       "\n",
       "  Reply_User    Retweet_User Mention_Users  \n",
       "0       None       Breznican            []  \n",
       "1       None     deIiveryboy            []  \n",
       "2       None          funder            []  \n",
       "3   EBONYMag                            []  \n",
       "4       None  scambyarussian            []  "
      ]
     },
     "execution_count": 8,
     "metadata": {},
     "output_type": "execute_result"
    }
   ],
   "source": [
    "trump_tweet_data_df = pd.DataFrame(trump_tweet_data) #Convert it into a dataframe and publish a csv file\n",
    "trump_tweet_data_df.columns = ['User','listed_count','followers_count','text','retweets',\n",
    "                               'favorites','Reply_User','Retweet_User','Mention_Users']\n",
    "\n",
    "trump_tweet_data_df.head()"
   ]
  },
  {
   "cell_type": "markdown",
   "metadata": {},
   "source": [
    "#### Define Attribute Weights"
   ]
  },
  {
   "cell_type": "code",
   "execution_count": 92,
   "metadata": {
    "collapsed": false
   },
   "outputs": [],
   "source": [
    "listed_count_weight = 0.44/(0.44+0.40+0.28)  #Calculate weights based on their importances\n",
    "follower_count_weight = 0.40/(0.44+0.40+0.28)\n",
    "retweet_count_weight = 0.28/(0.44+0.40+0.28)"
   ]
  },
  {
   "cell_type": "markdown",
   "metadata": {},
   "source": [
    "#### Pre-processing\n",
    "\n",
    "Remove unnecessary columns, keep only unique users, and normalize list, follower & retweet counts"
   ]
  },
  {
   "cell_type": "code",
   "execution_count": 111,
   "metadata": {
    "collapsed": false
   },
   "outputs": [],
   "source": [
    "from sklearn import preprocessing #Scale the data and score it\n",
    "\n",
    "top_influencers_df = trump_tweet_data_df[['User','listed_count','followers_count','retweets']].drop_duplicates()\n",
    "\n",
    "top_influencers_df['listed_norm'] = preprocessing.scale(top_influencers_df['listed_count'])\n",
    "top_influencers_df['followers_norm'] = preprocessing.scale(top_influencers_df['followers_count'])\n",
    "top_influencers_df['retweets_norm'] = preprocessing.scale(top_influencers_df['retweets'])"
   ]
  },
  {
   "cell_type": "markdown",
   "metadata": {},
   "source": [
    "#### Calculated Weighted User Influence Score"
   ]
  },
  {
   "cell_type": "code",
   "execution_count": 116,
   "metadata": {
    "collapsed": false
   },
   "outputs": [
    {
     "name": "stderr",
     "output_type": "stream",
     "text": [
      "C:\\Users\\Dallas\\Anaconda2\\lib\\site-packages\\ipykernel\\__main__.py:3: FutureWarning: sort(columns=....) is deprecated, use sort_values(by=.....)\n",
      "  app.launch_new_instance()\n"
     ]
    },
    {
     "data": {
      "text/html": [
       "<div>\n",
       "<table border=\"1\" class=\"dataframe\">\n",
       "  <thead>\n",
       "    <tr style=\"text-align: right;\">\n",
       "      <th></th>\n",
       "      <th>User</th>\n",
       "      <th>listed_count</th>\n",
       "      <th>followers_count</th>\n",
       "      <th>retweets</th>\n",
       "      <th>listed_norm</th>\n",
       "      <th>followers_norm</th>\n",
       "      <th>retweets_norm</th>\n",
       "      <th>Score</th>\n",
       "    </tr>\n",
       "  </thead>\n",
       "  <tbody>\n",
       "    <tr>\n",
       "      <th>1170</th>\n",
       "      <td>htTweets</td>\n",
       "      <td>5951</td>\n",
       "      <td>5048757</td>\n",
       "      <td>1</td>\n",
       "      <td>11.757003</td>\n",
       "      <td>50.554688</td>\n",
       "      <td>-0.269788</td>\n",
       "      <td>22.606621</td>\n",
       "    </tr>\n",
       "    <tr>\n",
       "      <th>974</th>\n",
       "      <td>thehill</td>\n",
       "      <td>20015</td>\n",
       "      <td>1947355</td>\n",
       "      <td>4</td>\n",
       "      <td>39.959096</td>\n",
       "      <td>19.463365</td>\n",
       "      <td>-0.269404</td>\n",
       "      <td>22.582067</td>\n",
       "    </tr>\n",
       "    <tr>\n",
       "      <th>1495</th>\n",
       "      <td>24HorasTVN</td>\n",
       "      <td>7668</td>\n",
       "      <td>3092590</td>\n",
       "      <td>1</td>\n",
       "      <td>15.200048</td>\n",
       "      <td>30.944260</td>\n",
       "      <td>-0.269788</td>\n",
       "      <td>16.955522</td>\n",
       "    </tr>\n",
       "    <tr>\n",
       "      <th>446</th>\n",
       "      <td>darrenrovell</td>\n",
       "      <td>11472</td>\n",
       "      <td>1695674</td>\n",
       "      <td>26245</td>\n",
       "      <td>22.828089</td>\n",
       "      <td>16.940281</td>\n",
       "      <td>3.090865</td>\n",
       "      <td>15.790994</td>\n",
       "    </tr>\n",
       "    <tr>\n",
       "      <th>2872</th>\n",
       "      <td>AlbertoRavell</td>\n",
       "      <td>11353</td>\n",
       "      <td>1715397</td>\n",
       "      <td>2</td>\n",
       "      <td>22.589462</td>\n",
       "      <td>17.138003</td>\n",
       "      <td>-0.269660</td>\n",
       "      <td>14.927732</td>\n",
       "    </tr>\n",
       "    <tr>\n",
       "      <th>3733</th>\n",
       "      <td>teleSURtv</td>\n",
       "      <td>10989</td>\n",
       "      <td>1374561</td>\n",
       "      <td>0</td>\n",
       "      <td>21.859544</td>\n",
       "      <td>13.721148</td>\n",
       "      <td>-0.269916</td>\n",
       "      <td>13.420609</td>\n",
       "    </tr>\n",
       "    <tr>\n",
       "      <th>660</th>\n",
       "      <td>dailykos</td>\n",
       "      <td>7693</td>\n",
       "      <td>247580</td>\n",
       "      <td>3</td>\n",
       "      <td>15.250180</td>\n",
       "      <td>2.423247</td>\n",
       "      <td>-0.269532</td>\n",
       "      <td>6.789205</td>\n",
       "    </tr>\n",
       "    <tr>\n",
       "      <th>2245</th>\n",
       "      <td>LOLGOP</td>\n",
       "      <td>6891</td>\n",
       "      <td>322574</td>\n",
       "      <td>14</td>\n",
       "      <td>13.641955</td>\n",
       "      <td>3.175057</td>\n",
       "      <td>-0.268123</td>\n",
       "      <td>6.426257</td>\n",
       "    </tr>\n",
       "    <tr>\n",
       "      <th>528</th>\n",
       "      <td>FlorianDny</td>\n",
       "      <td>2</td>\n",
       "      <td>80</td>\n",
       "      <td>192595</td>\n",
       "      <td>-0.172338</td>\n",
       "      <td>-0.057922</td>\n",
       "      <td>24.392671</td>\n",
       "      <td>6.009777</td>\n",
       "    </tr>\n",
       "    <tr>\n",
       "      <th>2955</th>\n",
       "      <td>ChannelNewsAsia</td>\n",
       "      <td>4107</td>\n",
       "      <td>735461</td>\n",
       "      <td>1</td>\n",
       "      <td>8.059288</td>\n",
       "      <td>7.314218</td>\n",
       "      <td>-0.269788</td>\n",
       "      <td>5.710923</td>\n",
       "    </tr>\n",
       "  </tbody>\n",
       "</table>\n",
       "</div>"
      ],
      "text/plain": [
       "                 User  listed_count  followers_count  retweets  listed_norm  \\\n",
       "1170         htTweets          5951          5048757         1    11.757003   \n",
       "974           thehill         20015          1947355         4    39.959096   \n",
       "1495       24HorasTVN          7668          3092590         1    15.200048   \n",
       "446      darrenrovell         11472          1695674     26245    22.828089   \n",
       "2872    AlbertoRavell         11353          1715397         2    22.589462   \n",
       "3733        teleSURtv         10989          1374561         0    21.859544   \n",
       "660          dailykos          7693           247580         3    15.250180   \n",
       "2245           LOLGOP          6891           322574        14    13.641955   \n",
       "528        FlorianDny             2               80    192595    -0.172338   \n",
       "2955  ChannelNewsAsia          4107           735461         1     8.059288   \n",
       "\n",
       "      followers_norm  retweets_norm      Score  \n",
       "1170       50.554688      -0.269788  22.606621  \n",
       "974        19.463365      -0.269404  22.582067  \n",
       "1495       30.944260      -0.269788  16.955522  \n",
       "446        16.940281       3.090865  15.790994  \n",
       "2872       17.138003      -0.269660  14.927732  \n",
       "3733       13.721148      -0.269916  13.420609  \n",
       "660         2.423247      -0.269532   6.789205  \n",
       "2245        3.175057      -0.268123   6.426257  \n",
       "528        -0.057922      24.392671   6.009777  \n",
       "2955        7.314218      -0.269788   5.710923  "
      ]
     },
     "execution_count": 116,
     "metadata": {},
     "output_type": "execute_result"
    }
   ],
   "source": [
    "top_influencers_df['Score'] = top_influencers_df['listed_norm']*listed_count_weight\\\n",
    "+top_influencers_df['followers_norm']*follower_count_weight\\\n",
    "+top_influencers_df['retweets_norm']*retweet_count_weight\n",
    "\n",
    "top100influencers_trump = top_influencers_df.sort('Score',ascending=False)[:100]\n",
    "top100influencers_trump[:10]"
   ]
  },
  {
   "cell_type": "code",
   "execution_count": 94,
   "metadata": {
    "collapsed": false
   },
   "outputs": [
    {
     "name": "stderr",
     "output_type": "stream",
     "text": [
      "C:\\Users\\Dallas\\Anaconda2\\lib\\site-packages\\ipykernel\\__main__.py:2: FutureWarning: sort(columns=....) is deprecated, use sort_values(by=.....)\n",
      "  from ipykernel import kernelapp as app\n"
     ]
    }
   ],
   "source": [
    "#trump_df_unique.sort('Score',ascending=False)[:100].to_csv('top100.csv',encoding='utf-8')"
   ]
  },
  {
   "cell_type": "markdown",
   "metadata": {
    "collapsed": true
   },
   "source": [
    "## Influence Matrix"
   ]
  },
  {
   "cell_type": "markdown",
   "metadata": {},
   "source": [
    "#### Create new DF with only relevant columns\n",
    "\n",
    "##### Key Assumptions:\n",
    "1. Their should be a reference line EACH TIME a user retweets another user (i.e. if a user retweets another user twice, their will be two entries)\n",
    "2. Retweets and replies should not also count as mentions (i.e. if a user retweets a user, there will be an entry for just the retweet rathen then 1 for the retweet AND 1 for the mention)."
   ]
  },
  {
   "cell_type": "code",
   "execution_count": 26,
   "metadata": {
    "collapsed": false
   },
   "outputs": [
    {
     "data": {
      "text/html": [
       "<div>\n",
       "<table border=\"1\" class=\"dataframe\">\n",
       "  <thead>\n",
       "    <tr style=\"text-align: right;\">\n",
       "      <th></th>\n",
       "      <th>User</th>\n",
       "      <th>Reply_User</th>\n",
       "      <th>Retweet_User</th>\n",
       "      <th>Mention_Users</th>\n",
       "    </tr>\n",
       "  </thead>\n",
       "  <tbody>\n",
       "    <tr>\n",
       "      <th>0</th>\n",
       "      <td>mmikrib</td>\n",
       "      <td>None</td>\n",
       "      <td>Breznican</td>\n",
       "      <td>[]</td>\n",
       "    </tr>\n",
       "    <tr>\n",
       "      <th>1</th>\n",
       "      <td>ccrterminus</td>\n",
       "      <td>None</td>\n",
       "      <td>deIiveryboy</td>\n",
       "      <td>[]</td>\n",
       "    </tr>\n",
       "    <tr>\n",
       "      <th>2</th>\n",
       "      <td>AngryLogician</td>\n",
       "      <td>None</td>\n",
       "      <td>funder</td>\n",
       "      <td>[]</td>\n",
       "    </tr>\n",
       "    <tr>\n",
       "      <th>3</th>\n",
       "      <td>1913Facts</td>\n",
       "      <td>EBONYMag</td>\n",
       "      <td></td>\n",
       "      <td>[]</td>\n",
       "    </tr>\n",
       "    <tr>\n",
       "      <th>4</th>\n",
       "      <td>Heleneafernande</td>\n",
       "      <td>None</td>\n",
       "      <td>scambyarussian</td>\n",
       "      <td>[]</td>\n",
       "    </tr>\n",
       "    <tr>\n",
       "      <th>5</th>\n",
       "      <td>IBleedGandB</td>\n",
       "      <td>None</td>\n",
       "      <td>lorengrush</td>\n",
       "      <td>[]</td>\n",
       "    </tr>\n",
       "    <tr>\n",
       "      <th>6</th>\n",
       "      <td>JohnKollm</td>\n",
       "      <td>briangillespie</td>\n",
       "      <td></td>\n",
       "      <td>[JoeNBC]</td>\n",
       "    </tr>\n",
       "    <tr>\n",
       "      <th>7</th>\n",
       "      <td>13Clarity</td>\n",
       "      <td>da13thsun</td>\n",
       "      <td></td>\n",
       "      <td>[]</td>\n",
       "    </tr>\n",
       "    <tr>\n",
       "      <th>8</th>\n",
       "      <td>senthamarai34</td>\n",
       "      <td>None</td>\n",
       "      <td>virendersehwag</td>\n",
       "      <td>[]</td>\n",
       "    </tr>\n",
       "    <tr>\n",
       "      <th>9</th>\n",
       "      <td>beltrn_camila</td>\n",
       "      <td>None</td>\n",
       "      <td></td>\n",
       "      <td>[]</td>\n",
       "    </tr>\n",
       "  </tbody>\n",
       "</table>\n",
       "</div>"
      ],
      "text/plain": [
       "              User      Reply_User    Retweet_User Mention_Users\n",
       "0          mmikrib            None       Breznican            []\n",
       "1      ccrterminus            None     deIiveryboy            []\n",
       "2    AngryLogician            None          funder            []\n",
       "3        1913Facts        EBONYMag                            []\n",
       "4  Heleneafernande            None  scambyarussian            []\n",
       "5      IBleedGandB            None      lorengrush            []\n",
       "6        JohnKollm  briangillespie                      [JoeNBC]\n",
       "7        13Clarity       da13thsun                            []\n",
       "8    senthamarai34            None  virendersehwag            []\n",
       "9    beltrn_camila            None                            []"
      ]
     },
     "execution_count": 26,
     "metadata": {},
     "output_type": "execute_result"
    }
   ],
   "source": [
    "influence_matrix_df = trump_tweet_data_df[['User','Reply_User','Retweet_User','Mention_Users']]\n",
    "influence_matrix_df[:10]"
   ]
  },
  {
   "cell_type": "code",
   "execution_count": 29,
   "metadata": {
    "collapsed": true
   },
   "outputs": [],
   "source": [
    "influence_matrix = []\n",
    "\n",
    "# Iterate over each of the rows creating a record (in the form of a list) for each connection\n",
    "for index, row in influence_matrix_df.iterrows():\n",
    "    influence_matrix.append([row['User'],row['User'],'Tweet']) # First row for the Tweet itself per instructions\n",
    "    if row['Reply_User'] != None:\n",
    "        influence_matrix.append([row['User'],row['Reply_User'],'Reply']) # Add Replies\n",
    "    if len(row['Retweet_User']) > 0:\n",
    "        influence_matrix.append([row['User'],row['Retweet_User'],'Retweet']) # Add Retweets\n",
    "        influence_matrix.append([row['Retweet_User'],row['Retweet_User'],'Tweet']) # Add original tweet to list\n",
    "    for user in row['Mention_Users']:\n",
    "        influence_matrix.append([row['User'],user,'Mention']) # Add Mentions\n",
    "        \n",
    "# **NOTE: This currently assumes every Tweet that has been retweeted is not in the original list. \n",
    "# May need to bring into Tweet ID to avoid duplicates"
   ]
  },
  {
   "cell_type": "code",
   "execution_count": 34,
   "metadata": {
    "collapsed": false
   },
   "outputs": [
    {
     "data": {
      "text/html": [
       "<div>\n",
       "<table border=\"1\" class=\"dataframe\">\n",
       "  <thead>\n",
       "    <tr style=\"text-align: right;\">\n",
       "      <th></th>\n",
       "      <th>User1</th>\n",
       "      <th>User2</th>\n",
       "      <th>Action</th>\n",
       "    </tr>\n",
       "  </thead>\n",
       "  <tbody>\n",
       "    <tr>\n",
       "      <th>0</th>\n",
       "      <td>mmikrib</td>\n",
       "      <td>mmikrib</td>\n",
       "      <td>Tweet</td>\n",
       "    </tr>\n",
       "    <tr>\n",
       "      <th>1</th>\n",
       "      <td>mmikrib</td>\n",
       "      <td>Breznican</td>\n",
       "      <td>Retweet</td>\n",
       "    </tr>\n",
       "    <tr>\n",
       "      <th>2</th>\n",
       "      <td>Breznican</td>\n",
       "      <td>Breznican</td>\n",
       "      <td>Tweet</td>\n",
       "    </tr>\n",
       "    <tr>\n",
       "      <th>3</th>\n",
       "      <td>ccrterminus</td>\n",
       "      <td>ccrterminus</td>\n",
       "      <td>Tweet</td>\n",
       "    </tr>\n",
       "    <tr>\n",
       "      <th>4</th>\n",
       "      <td>ccrterminus</td>\n",
       "      <td>deIiveryboy</td>\n",
       "      <td>Retweet</td>\n",
       "    </tr>\n",
       "  </tbody>\n",
       "</table>\n",
       "</div>"
      ],
      "text/plain": [
       "         User1        User2   Action\n",
       "0      mmikrib      mmikrib    Tweet\n",
       "1      mmikrib    Breznican  Retweet\n",
       "2    Breznican    Breznican    Tweet\n",
       "3  ccrterminus  ccrterminus    Tweet\n",
       "4  ccrterminus  deIiveryboy  Retweet"
      ]
     },
     "execution_count": 34,
     "metadata": {},
     "output_type": "execute_result"
    }
   ],
   "source": [
    "influence_matrix_final = pd.DataFrame(influence_matrix) #Convert it into a dataframe and publish a csv file\n",
    "influence_matrix_final.columns = ['User1', 'User2', 'Action']\n",
    "\n",
    "influence_matrix_final.head()"
   ]
  },
  {
   "cell_type": "code",
   "execution_count": 35,
   "metadata": {
    "collapsed": false
   },
   "outputs": [],
   "source": [
    "influence_matrix_final.to_csv('influence_matrix.csv',index=False)"
   ]
  }
 ],
 "metadata": {
  "anaconda-cloud": {},
  "kernelspec": {
   "display_name": "Python [default]",
   "language": "python",
   "name": "python2"
  },
  "language_info": {
   "codemirror_mode": {
    "name": "ipython",
    "version": 2
   },
   "file_extension": ".py",
   "mimetype": "text/x-python",
   "name": "python",
   "nbconvert_exporter": "python",
   "pygments_lexer": "ipython2",
   "version": "2.7.12"
  }
 },
 "nbformat": 4,
 "nbformat_minor": 0
}
