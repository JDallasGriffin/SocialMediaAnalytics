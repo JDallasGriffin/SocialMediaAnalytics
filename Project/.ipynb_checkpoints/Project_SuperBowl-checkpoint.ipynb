{
 "cells": [
  {
   "cell_type": "code",
   "execution_count": 36,
   "metadata": {
    "collapsed": false
   },
   "outputs": [
    {
     "name": "stdout",
     "output_type": "stream",
     "text": [
      "Populating the interactive namespace from numpy and matplotlib\n"
     ]
    },
    {
     "name": "stderr",
     "output_type": "stream",
     "text": [
      "WARNING: pylab import has clobbered these variables: ['test']\n",
      "`%matplotlib` prevents importing * from pylab and numpy\n"
     ]
    }
   ],
   "source": [
    "import pandas as pd\n",
    "from nltk import word_tokenize\n",
    "from nltk.corpus import stopwords\n",
    "import string\n",
    "import seaborn as sns\n",
    "import matplotlib.pyplot as plt\n",
    "%pylab inline\n",
    "\n",
    "tweets = pd.read_csv('BrandTweets.csv')"
   ]
  },
  {
   "cell_type": "code",
   "execution_count": 94,
   "metadata": {
    "collapsed": false
   },
   "outputs": [
    {
     "data": {
      "text/plain": [
       "coke         2000\n",
       "Mr. Clean    1258\n",
       "budweiser     998\n",
       "ford          591\n",
       "audi          288\n",
       "Name: Brand, dtype: int64"
      ]
     },
     "execution_count": 94,
     "metadata": {},
     "output_type": "execute_result"
    }
   ],
   "source": [
    "tweets['Brand'] = tweets['Brand'].replace(to_replace=\"Mr.%20Clean\",value=\"Mr. Clean\")\n",
    "tweets['Brand'].value_counts()"
   ]
  },
  {
   "cell_type": "code",
   "execution_count": 95,
   "metadata": {
    "collapsed": false
   },
   "outputs": [
    {
     "data": {
      "image/png": "[encoded data removed]",
      "text/plain": [
       "<matplotlib.figure.Figure at 0xf725a20>"
      ]
     },
     "metadata": {},
     "output_type": "display_data"
    }
   ],
   "source": [
    "ax = sns.barplot(x=tweets['Brand'].value_counts().index,y=tweets['Brand'].value_counts())\n",
    "ax.set(xlabel='Brand', ylabel='Frequency')\n",
    "sns.plt.title('Tweets Retrieved')\n",
    "plt.show()"
   ]
  },
  {
   "cell_type": "code",
   "execution_count": 96,
   "metadata": {
    "collapsed": false
   },
   "outputs": [],
   "source": [
    "def get_freq(tweet,brand_stops):\n",
    "    '''Takes a tweet and brand stop words and returns a dictionary of tokens and frequencies within tweet.'''\n",
    "    freq = {}\n",
    "    \n",
    "    # Create list of punctuation and \"stop words\" to remove\n",
    "    punctuations = list(string.punctuation)\n",
    "    commercial_stop_words = ['\\'s','...','\\'\\'','``','n\\'t','https','rt','commercial','super','bowl','superbowl','via']\n",
    "    stops = punctuations+commercial_stop_words+brand_stops    \n",
    "        \n",
    "    tokens = word_tokenize(tweet)\n",
    "    \n",
    "    # Remove stop words and punctuation\n",
    "    targets = [word.lower() for word in tokens if word.lower() not in stopwords.words('english')]\n",
    "    targets_punct = [word.lower() for word in targets if word.lower() not in stops] \n",
    "    \n",
    "    for t in targets_punct:\n",
    "        try:\n",
    "            freq[t] = freq[t]+1\n",
    "        except:\n",
    "            freq[t] = 1            \n",
    "    return freq"
   ]
  },
  {
   "cell_type": "code",
   "execution_count": 97,
   "metadata": {
    "collapsed": true
   },
   "outputs": [],
   "source": [
    "def agg_counts(tweets,retweets,brand_stops):\n",
    "    '''Takes list of tweets (text), retweets, and list of stop words and aggregates frequencies of all tokens, \n",
    "    returned as a dictionary.'''\n",
    "    # Define frequency dictionary\n",
    "    all_freq = {}\n",
    "    \n",
    "    # Loop through all tweets\n",
    "    for i in range(0,len(tweets)): \n",
    "        tweet = tweets[i]\n",
    "        tweet = tweet.decode(\"utf8\")\n",
    "        \n",
    "        # Get number of retweets of one tweet. Assumes all retweets duplicate rows have already been removed.\n",
    "        retweet_ct = retweets[i]\n",
    "\n",
    "        # Get the token frequencies of one tweet\n",
    "        tweet_freq = get_freq(tweet,brand_stops) \n",
    "        \n",
    "        # Multiply frequencies by number of retweets\n",
    "        tweet_freq.update((x, y*(retweet_ct+1)) for x, y in tweet_freq.items())\n",
    "\n",
    "        for key in set(tweet_freq)&set(all_freq):\n",
    "            all_freq[key] += tweet_freq[key]\n",
    "        for key in set(tweet_freq).difference(set(all_freq)):\n",
    "            all_freq[key] = tweet_freq[key]\n",
    "    \n",
    "    return all_freq"
   ]
  },
  {
   "cell_type": "code",
   "execution_count": 98,
   "metadata": {
    "collapsed": true
   },
   "outputs": [],
   "source": [
    "def get_brand_df(brand):\n",
    "    '''Based on brand keyword, return a cleaned dataframe for that brand'''\n",
    "    brand_subset = tweets[tweets['Brand'] == brand]\n",
    "    \n",
    "    # Remove duplicate rows for retweets\n",
    "    brand_subset = brand_subset.drop_duplicates(subset = 'text')\n",
    "    \n",
    "    # Create percentage of all retweets column\n",
    "    brand_subset['retweet_pct'] = 1.0*brand_subset['retweet_count']/sum(brand_subset['retweet_count'])\n",
    "    \n",
    "    return brand_subset"
   ]
  },
  {
   "cell_type": "markdown",
   "metadata": {},
   "source": [
    "### Coca-Cola: \"It's Beautiful\"\n",
    "First, consider the Coca-Cola commercial, \"It's Beautiful,\" which originally aired during the 2014 Super Bowl, and again during the 2016 Rio Olympics. The ad features the song \"America The Beautiful\" being sung in many languages, celebrating diversity and multi-culturalism. We will investigate the main topics of tweets related to the Coca-Cola ad and see if they are similar to the topics intended by the ad."
   ]
  },
  {
   "cell_type": "code",
   "execution_count": 100,
   "metadata": {
    "collapsed": false
   },
   "outputs": [],
   "source": [
    "coke = get_brand_df('coke')"
   ]
  },
  {
   "cell_type": "code",
   "execution_count": 101,
   "metadata": {
    "collapsed": false
   },
   "outputs": [],
   "source": [
    "# Get counts as a dictionary\n",
    "coke_stops = ['coke','cocacola','coca-cola']\n",
    "coke_tweets = coke['text'].tolist()\n",
    "coke_RT = coke['retweet_pct'].tolist()\n",
    "coke_freq_dict = agg_counts(coke_tweets,coke_RT,coke_stops)\n",
    "\n",
    "# Convert to a dataframe and sort\n",
    "coke_freq_df = pd.DataFrame.from_dict(coke_freq_dict, orient='index')\n",
    "coke_freq_df.columns = ['Frequency']\n",
    "coke_freq_df = coke_freq_df.sort_values('Frequency',ascending=False)"
   ]
  },
  {
   "cell_type": "code",
   "execution_count": 102,
   "metadata": {
    "collapsed": false,
    "scrolled": true
   },
   "outputs": [
    {
     "data": {
      "image/png": "[encoded data removed]",
      "text/plain": [
       "<matplotlib.figure.Figure at 0xcc16630>"
      ]
     },
     "metadata": {},
     "output_type": "display_data"
    }
   ],
   "source": [
    "ax = sns.barplot(x=coke_freq_df.index[:15],y=coke_freq_df.ix[:15,'Frequency'])\n",
    "ax.set(xlabel='Word', ylabel='Frequency')\n",
    "sns.plt.title('Common words for \\'Coke\\'')\n",
    "\n",
    "for item in ax.get_xticklabels():\n",
    "    item.set_rotation(45)\n",
    "\n",
    "plt.show()"
   ]
  },
  {
   "cell_type": "markdown",
   "metadata": {},
   "source": [
    "It looks like a lot of people are discussing the content of the ad (\"America\" and \"Beautiful\" are very frequent occurences). After that, however, it looks as though Twitter users get distracted by the fact that this is a recycled ad (\"3\", \"years\", \"old\", and \"already\" could indicate this). Finally, We start seeing some unrealted words like \"money\" and \"Trump\". Before analyzing sentiment, we can't be sure how users are feeling about the topics they are discussing."
   ]
  },
  {
   "cell_type": "markdown",
   "metadata": {},
   "source": [
    "### Mr. Clean: \"Cleaner of Your Dreams\"\n",
    "Next, we consider the Mr. Clean ad, which was designed to be much less serious. The content of this ad was an animated Mr. Clean dancing as he cleaned the house. The idea was to show cleaning as a sexy activity."
   ]
  },
  {
   "cell_type": "code",
   "execution_count": 103,
   "metadata": {
    "collapsed": false
   },
   "outputs": [],
   "source": [
    "mrclean = get_brand_df('Mr. Clean')"
   ]
  },
  {
   "cell_type": "code",
   "execution_count": 108,
   "metadata": {
    "collapsed": true
   },
   "outputs": [],
   "source": [
    "# Get counts as a dictionary\n",
    "clean_stops = ['clean','mr','mr.','mr.clean']\n",
    "clean_tweets = mrclean['text'].tolist()\n",
    "clean_RT = mrclean['retweet_pct'].tolist()\n",
    "clean_freq_dict = agg_counts(clean_tweets,clean_RT,clean_stops)\n",
    "\n",
    "# Convert to a dataframe and sort\n",
    "clean_freq_df = pd.DataFrame.from_dict(clean_freq_dict, orient='index')\n",
    "clean_freq_df.columns = ['Frequency']\n",
    "clean_freq_df = clean_freq_df.sort_values('Frequency',ascending=False)"
   ]
  },
  {
   "cell_type": "code",
   "execution_count": 109,
   "metadata": {
    "collapsed": false
   },
   "outputs": [
    {
     "data": {
      "image/png": "[encoded data removed]",
      "text/plain": [
       "<matplotlib.figure.Figure at 0xf437ef0>"
      ]
     },
     "metadata": {},
     "output_type": "display_data"
    }
   ],
   "source": [
    "ax = sns.barplot(x=clean_freq_df.index[:15],y=clean_freq_df.ix[:15,'Frequency'])\n",
    "ax.set(xlabel='Word', ylabel='Frequency')\n",
    "sns.plt.title('Common words for \\'Mr. Clean\\'')\n",
    "\n",
    "for item in ax.get_xticklabels():\n",
    "    item.set_rotation(45)\n",
    "\n",
    "plt.show()"
   ]
  },
  {
   "cell_type": "markdown",
   "metadata": {},
   "source": [
    "The rections to the Mr. Clean commercial seem to be relatively on-topic, as the most frequently used word for the commercial was \"sexy\". Other positively-associated words that make it into the top 15 are \"new\",\"best\", and \"favorite\". Although it must be noted that \"uncomfortable\" is a very frequently used word which would seem to express the opposite sentiment.  The two characters that cannot be decoded could imply that many users needed emoji characters to truly express themselves; words seem to have failed many users during this commercial."
   ]
  },
  {
   "cell_type": "markdown",
   "metadata": {},
   "source": [
    "### Budweiser: \"Born the Hard Way\"\n",
    "From Budweiser's description of the ad: This is the story of our founder’s ambitious journey to America in pursuit of his dream: to brew the King of Beers.\n",
    "Adolphus Busch is shown on his journey from Germany and his less-than-friendly reception to St. Louis, Missouri. He is finally accepted by his partner, Eberhard Anheuser. Reviews of the ad note that it is timely due to the current political climate in the US, and the reception of the ad has been divided."
   ]
  },
  {
   "cell_type": "code",
   "execution_count": 110,
   "metadata": {
    "collapsed": true
   },
   "outputs": [],
   "source": [
    "budweiser = get_brand_df('budweiser')"
   ]
  },
  {
   "cell_type": "code",
   "execution_count": 114,
   "metadata": {
    "collapsed": false
   },
   "outputs": [],
   "source": [
    "# Get counts as a dictionary\n",
    "bud_stops = ['budweiser']\n",
    "bud_tweets = budweiser['text'].tolist()\n",
    "bud_RT = budweiser['retweet_pct'].tolist()\n",
    "bud_freq_dict = agg_counts(bud_tweets,bud_RT,bud_stops)\n",
    "\n",
    "# Convert to a dataframe and sort\n",
    "bud_freq_df = pd.DataFrame.from_dict(bud_freq_dict, orient='index')\n",
    "bud_freq_df.columns = ['Frequency']\n",
    "bud_freq_df = bud_freq_df.sort_values('Frequency',ascending=False)"
   ]
  },
  {
   "cell_type": "code",
   "execution_count": 115,
   "metadata": {
    "collapsed": false
   },
   "outputs": [
    {
     "data": {
      "image/png": "[encoded data removed]",
      "text/plain": [
       "<matplotlib.figure.Figure at 0xf305f60>"
      ]
     },
     "metadata": {},
     "output_type": "display_data"
    }
   ],
   "source": [
    "ax = sns.barplot(x=bud_freq_df.index[:15],y=bud_freq_df.ix[:15,'Frequency'])\n",
    "ax.set(xlabel='Word', ylabel='Frequency')\n",
    "sns.plt.title('Common words for \\'Budweiser\\'')\n",
    "\n",
    "for item in ax.get_xticklabels():\n",
    "    item.set_rotation(45)\n",
    "\n",
    "plt.show()"
   ]
  },
  {
   "cell_type": "markdown",
   "metadata": {},
   "source": [
    "We can see evidence of the controversy before any sentiment analysis; the first most frequent word was \"boycott\", and the top 15 include other versions of this word and the hashtag \"boycottbudweiser.\" There is some evidence of other tweets remaining consistent to the message, however, as we see the words \"hard\", \"times\", and \"immigrant.\" "
   ]
  },
  {
   "cell_type": "code",
   "execution_count": null,
   "metadata": {
    "collapsed": true
   },
   "outputs": [],
   "source": []
  }
 ],
 "metadata": {
  "anaconda-cloud": {},
  "kernelspec": {
   "display_name": "Python [Root]",
   "language": "python",
   "name": "Python [Root]"
  },
  "language_info": {
   "codemirror_mode": {
    "name": "ipython",
    "version": 2
   },
   "file_extension": ".py",
   "mimetype": "text/x-python",
   "name": "python",
   "nbconvert_exporter": "python",
   "pygments_lexer": "ipython2",
   "version": "2.7.11"
  }
 },
 "nbformat": 4,
 "nbformat_minor": 0
}
