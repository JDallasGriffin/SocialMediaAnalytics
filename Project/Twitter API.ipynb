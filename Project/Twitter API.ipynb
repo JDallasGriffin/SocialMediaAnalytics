{
 "cells": [
  {
   "cell_type": "code",
   "execution_count": 1,
   "metadata": {
    "collapsed": false
   },
   "outputs": [],
   "source": [
    "import pandas as pd\n",
    "import twitter"
   ]
  },
  {
   "cell_type": "code",
   "execution_count": 2,
   "metadata": {
    "collapsed": false
   },
   "outputs": [
    {
     "name": "stdout",
     "output_type": "stream",
     "text": [
      "{\"created_at\": \"Wed Feb 08 17:01:56 +0000 2017\", \"default_profile\": true, \"default_profile_image\": true, \"friends_count\": 20, \"id\": 829374717941448704, \"lang\": \"en\", \"name\": \"Dallas Griffin\", \"profile_background_color\": \"F5F8FA\", \"profile_image_url\": \"http://abs.twimg.com/sticky/default_profile_images/default_profile_4_normal.png\", \"profile_link_color\": \"1DA1F2\", \"profile_sidebar_fill_color\": \"DDEEF6\", \"profile_text_color\": \"333333\", \"screen_name\": \"DGriff89\"}\n"
     ]
    }
   ],
   "source": [
    "consumer_key = 'vZyOIzO8AZBgJ6U2DfjvyN9hi'\n",
    "consumer_secret = 'jy8HKcp8OkQmacmyccnhaAq06e3BDBblas0f2ub0jWrRhVqan8'\n",
    "access_token_key = '829374717941448704-eFTxdEdwJG67jNr8fI4vQEaCHSn7Css'\n",
    "access_token_secret = '2kXFyEbXFhhi9bJNhlDpYHwak7798PhnU52Dx2YI2cak5'\n",
    "\n",
    "api = twitter.Api(consumer_key=consumer_key,\n",
    "                  consumer_secret=consumer_secret,\n",
    "                  access_token_key=access_token_key,\n",
    "                  access_token_secret=access_token_secret,\n",
    "                  sleep_on_rate_limit=True)\n",
    "\n",
    "print(api.VerifyCredentials())"
   ]
  },
  {
   "cell_type": "code",
   "execution_count": 93,
   "metadata": {
    "collapsed": true
   },
   "outputs": [],
   "source": [
    "# Topic is commercials\n",
    "topic = 'commercial'\n",
    "\n",
    "# List of Brands with promiment Super Bowl commercials\n",
    "brands = ['audi','coke','budweiser','ford','mr.%20clean']\n",
    "\n",
    "# List of Tweet Attributes to Store in Dataframe\n",
    "attributes = ['id','user.screen_name','created_at','favorite_count','retweet_count','text']"
   ]
  },
  {
   "cell_type": "code",
   "execution_count": 94,
   "metadata": {
    "collapsed": true
   },
   "outputs": [],
   "source": [
    "def digest_tweets(twitter_obj,brand):\n",
    "    '''Function to digest each Twitter Object from the API (typically 100 tweets + metadata) \n",
    "    and output a list of dictionaries'''\n",
    "    \n",
    "    # Initialize list\n",
    "    tweet_data = []\n",
    "\n",
    "    for tweet in twitter_obj:\n",
    "        d = tweet.__dict__\n",
    "        tweet_dict = dict((k, d[k]) for k in attributes if k in d)\n",
    "        tweet_dict['Brand'] = brand\n",
    "        \n",
    "        tweet_data.append(tweet_dict)\n",
    "        \n",
    "    return tweet_data"
   ]
  },
  {
   "cell_type": "code",
   "execution_count": 95,
   "metadata": {
    "collapsed": false,
    "scrolled": true
   },
   "outputs": [],
   "source": [
    "def collect_tweets(topic,brands,max_tweets=1000):\n",
    "    '''Collect tweets on a topic for a list of brands. The count refers \n",
    "    to the maximum umber of tweets that will be pulled PER brand'''\n",
    "    \n",
    "    tot_tweets_list = [] # Initialize list\n",
    "    \n",
    "    for brand in brands:\n",
    "        \n",
    "        max_id = 0  # Use min_id to work-around Twitter API's 100 tweet per call limit\n",
    "        result_len = 100 # Tracker in case there are less then maximum tweets available.\n",
    "        \n",
    "        brand_count = max_tweets\n",
    "        \n",
    "        while brand_count >= 100 and result_len == 100:\n",
    "            \n",
    "            if max_id == 0:\n",
    "                twitter_obj = api.GetSearch(raw_query='q='+brand+'%20'+topic+'&lang=en&count=100')\n",
    "                result_len = len(twitter_obj)\n",
    "                brand_count -= result_len # Update maximum counter\n",
    "                max_id = twitter_obj[result_len-1].id # Set maximum ID for next pull as last tweets ID - 1\n",
    "                \n",
    "                tweet_list = digest_tweets(twitter_obj,brand) # Outputs list of tweet dicitionaries\n",
    "                tot_tweets_list += tweet_list\n",
    "            \n",
    "            else:\n",
    "                twitter_obj = api.GetSearch(raw_query='q='+brand+'%20'+topic+'&lang=en&count=100&max_id='+str(max_id))\n",
    "                result_len = len(twitter_obj)\n",
    "                brand_count -= result_len # Update maximum counter\n",
    "                max_id = twitter_obj[result_len-1].id # Set maximum ID for next pull as last tweets ID - 1\n",
    "                \n",
    "                tweet_list = digest_tweets(twitter_obj,brand) # Outputs list of tweet dicitionaries\n",
    "                tot_tweets_list += tweet_list\n",
    "                \n",
    "    return tot_tweets_list"
   ]
  },
  {
   "cell_type": "code",
   "execution_count": 116,
   "metadata": {
    "collapsed": false
   },
   "outputs": [
    {
     "name": "stdout",
     "output_type": "stream",
     "text": [
      "Number of tweets pulled:5135\n"
     ]
    }
   ],
   "source": [
    "twitter_objects_list = collect_tweets(topic,brands,max_tweets=2000)\n",
    "\n",
    "print \"Number of tweets pulled:\" + str(len(twitter_objects_list))"
   ]
  },
  {
   "cell_type": "code",
   "execution_count": 117,
   "metadata": {
    "collapsed": false
   },
   "outputs": [
    {
     "data": {
      "text/html": [
       "<div>\n",
       "<table border=\"1\" class=\"dataframe\">\n",
       "  <thead>\n",
       "    <tr style=\"text-align: right;\">\n",
       "      <th></th>\n",
       "      <th>Brand</th>\n",
       "      <th>created_at</th>\n",
       "      <th>favorite_count</th>\n",
       "      <th>retweet_count</th>\n",
       "      <th>text</th>\n",
       "    </tr>\n",
       "    <tr>\n",
       "      <th>id</th>\n",
       "      <th></th>\n",
       "      <th></th>\n",
       "      <th></th>\n",
       "      <th></th>\n",
       "      <th></th>\n",
       "    </tr>\n",
       "  </thead>\n",
       "  <tbody>\n",
       "    <tr>\n",
       "      <th>829484931701145600</th>\n",
       "      <td>audi</td>\n",
       "      <td>Thu Feb 09 00:19:53 +0000 2017</td>\n",
       "      <td>0</td>\n",
       "      <td>0</td>\n",
       "      <td>Great brand positioning! #Audi Super Bowl ad m...</td>\n",
       "    </tr>\n",
       "    <tr>\n",
       "      <th>829484460286603265</th>\n",
       "      <td>audi</td>\n",
       "      <td>Thu Feb 09 00:18:01 +0000 2017</td>\n",
       "      <td>0</td>\n",
       "      <td>0</td>\n",
       "      <td>That #Audi commercial is so awful.</td>\n",
       "    </tr>\n",
       "    <tr>\n",
       "      <th>829481014141517826</th>\n",
       "      <td>audi</td>\n",
       "      <td>Thu Feb 09 00:04:19 +0000 2017</td>\n",
       "      <td>0</td>\n",
       "      <td>0</td>\n",
       "      <td>Watch \"Parody Audi Super Bowl Commercial\" on Y...</td>\n",
       "    </tr>\n",
       "    <tr>\n",
       "      <th>829480810956935171</th>\n",
       "      <td>audi</td>\n",
       "      <td>Thu Feb 09 00:03:30 +0000 2017</td>\n",
       "      <td>0</td>\n",
       "      <td>124</td>\n",
       "      <td>RT @USATODAYsports: Audi #SuperBowl commercial...</td>\n",
       "    </tr>\n",
       "    <tr>\n",
       "      <th>829478177634410497</th>\n",
       "      <td>audi</td>\n",
       "      <td>Wed Feb 08 23:53:03 +0000 2017</td>\n",
       "      <td>0</td>\n",
       "      <td>0</td>\n",
       "      <td>Whats a woman's worth? Great advertisement for...</td>\n",
       "    </tr>\n",
       "  </tbody>\n",
       "</table>\n",
       "</div>"
      ],
      "text/plain": [
       "                   Brand                      created_at  favorite_count  \\\n",
       "id                                                                         \n",
       "829484931701145600  audi  Thu Feb 09 00:19:53 +0000 2017               0   \n",
       "829484460286603265  audi  Thu Feb 09 00:18:01 +0000 2017               0   \n",
       "829481014141517826  audi  Thu Feb 09 00:04:19 +0000 2017               0   \n",
       "829480810956935171  audi  Thu Feb 09 00:03:30 +0000 2017               0   \n",
       "829478177634410497  audi  Wed Feb 08 23:53:03 +0000 2017               0   \n",
       "\n",
       "                    retweet_count  \\\n",
       "id                                  \n",
       "829484931701145600              0   \n",
       "829484460286603265              0   \n",
       "829481014141517826              0   \n",
       "829480810956935171            124   \n",
       "829478177634410497              0   \n",
       "\n",
       "                                                                 text  \n",
       "id                                                                     \n",
       "829484931701145600  Great brand positioning! #Audi Super Bowl ad m...  \n",
       "829484460286603265                 That #Audi commercial is so awful.  \n",
       "829481014141517826  Watch \"Parody Audi Super Bowl Commercial\" on Y...  \n",
       "829480810956935171  RT @USATODAYsports: Audi #SuperBowl commercial...  \n",
       "829478177634410497  Whats a woman's worth? Great advertisement for...  "
      ]
     },
     "execution_count": 117,
     "metadata": {},
     "output_type": "execute_result"
    }
   ],
   "source": [
    "# Create DataFrame of Tweets\n",
    "tweets_df = pd.DataFrame(twitter_objects_list)\n",
    "tweets_df = tweets_df.set_index('id')\n",
    "\n",
    "# Fix unicode issue with text\n",
    "tweets_df['text'] = tweets_df['text'].apply(lambda row: row.strip().encode('utf-8'))\n",
    "\n",
    "tweets_df.head()"
   ]
  },
  {
   "cell_type": "code",
   "execution_count": 118,
   "metadata": {
    "collapsed": false
   },
   "outputs": [
    {
     "data": {
      "text/html": [
       "<div>\n",
       "<table border=\"1\" class=\"dataframe\">\n",
       "  <thead>\n",
       "    <tr style=\"text-align: right;\">\n",
       "      <th></th>\n",
       "      <th>text</th>\n",
       "    </tr>\n",
       "    <tr>\n",
       "      <th>Brand</th>\n",
       "      <th></th>\n",
       "    </tr>\n",
       "  </thead>\n",
       "  <tbody>\n",
       "    <tr>\n",
       "      <th>Mr.%20Clean</th>\n",
       "      <td>1258</td>\n",
       "    </tr>\n",
       "    <tr>\n",
       "      <th>audi</th>\n",
       "      <td>288</td>\n",
       "    </tr>\n",
       "    <tr>\n",
       "      <th>budweiser</th>\n",
       "      <td>998</td>\n",
       "    </tr>\n",
       "    <tr>\n",
       "      <th>coke</th>\n",
       "      <td>2000</td>\n",
       "    </tr>\n",
       "    <tr>\n",
       "      <th>ford</th>\n",
       "      <td>591</td>\n",
       "    </tr>\n",
       "  </tbody>\n",
       "</table>\n",
       "</div>"
      ],
      "text/plain": [
       "             text\n",
       "Brand            \n",
       "Mr.%20Clean  1258\n",
       "audi          288\n",
       "budweiser     998\n",
       "coke         2000\n",
       "ford          591"
      ]
     },
     "execution_count": 118,
     "metadata": {},
     "output_type": "execute_result"
    }
   ],
   "source": [
    "tweets_df[['Brand','text']].groupby('Brand').count()"
   ]
  },
  {
   "cell_type": "code",
   "execution_count": 119,
   "metadata": {
    "collapsed": false
   },
   "outputs": [],
   "source": [
    "# Save to CSV\n",
    "tweets_df.to_csv('BrandTweets.csv')"
   ]
  },
  {
   "cell_type": "code",
   "execution_count": null,
   "metadata": {
    "collapsed": true
   },
   "outputs": [],
   "source": []
  }
 ],
 "metadata": {
  "anaconda-cloud": {},
  "kernelspec": {
   "display_name": "Python [default]",
   "language": "python",
   "name": "python2"
  },
  "language_info": {
   "codemirror_mode": {
    "name": "ipython",
    "version": 2
   },
   "file_extension": ".py",
   "mimetype": "text/x-python",
   "name": "python",
   "nbconvert_exporter": "python",
   "pygments_lexer": "ipython2",
   "version": "2.7.12"
  }
 },
 "nbformat": 4,
 "nbformat_minor": 1
}
