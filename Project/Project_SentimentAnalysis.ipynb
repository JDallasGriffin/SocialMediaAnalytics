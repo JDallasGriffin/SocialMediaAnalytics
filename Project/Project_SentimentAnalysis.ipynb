{
 "cells": [
  {
   "cell_type": "code",
   "execution_count": 1,
   "metadata": {
    "collapsed": false
   },
   "outputs": [
    {
     "name": "stdout",
     "output_type": "stream",
     "text": [
      "Populating the interactive namespace from numpy and matplotlib\n"
     ]
    }
   ],
   "source": [
    "import pandas as pd\n",
    "import numpy as np\n",
    "from nltk import word_tokenize\n",
    "from nltk.corpus import stopwords\n",
    "from nltk.stem import WordNetLemmatizer\n",
    "from nltk.tokenize import RegexpTokenizer\n",
    "import string\n",
    "import seaborn as sns\n",
    "import matplotlib.pyplot as plt\n",
    "%pylab inline\n",
    "\n",
    "tweets = pd.read_csv('BrandTweets.csv')"
   ]
  },
  {
   "cell_type": "code",
   "execution_count": 2,
   "metadata": {
    "collapsed": false
   },
   "outputs": [
    {
     "data": {
      "text/html": [
       "<div>\n",
       "<table border=\"1\" class=\"dataframe\">\n",
       "  <thead>\n",
       "    <tr style=\"text-align: right;\">\n",
       "      <th></th>\n",
       "      <th>id</th>\n",
       "      <th>Brand</th>\n",
       "      <th>created_at</th>\n",
       "      <th>favorite_count</th>\n",
       "      <th>retweet_count</th>\n",
       "      <th>text</th>\n",
       "    </tr>\n",
       "  </thead>\n",
       "  <tbody>\n",
       "    <tr>\n",
       "      <th>0</th>\n",
       "      <td>829484931701145600</td>\n",
       "      <td>audi</td>\n",
       "      <td>Thu Feb 09 00:19:53 +0000 2017</td>\n",
       "      <td>0.0</td>\n",
       "      <td>0.0</td>\n",
       "      <td>Great brand positioning! #Audi Super Bowl ad m...</td>\n",
       "    </tr>\n",
       "    <tr>\n",
       "      <th>1</th>\n",
       "      <td>829484460286603265</td>\n",
       "      <td>audi</td>\n",
       "      <td>Thu Feb 09 00:18:01 +0000 2017</td>\n",
       "      <td>0.0</td>\n",
       "      <td>0.0</td>\n",
       "      <td>That #Audi commercial is so awful.</td>\n",
       "    </tr>\n",
       "    <tr>\n",
       "      <th>2</th>\n",
       "      <td>829481014141517826</td>\n",
       "      <td>audi</td>\n",
       "      <td>Thu Feb 09 00:04:19 +0000 2017</td>\n",
       "      <td>0.0</td>\n",
       "      <td>0.0</td>\n",
       "      <td>Watch \"Parody Audi Super Bowl Commercial\" on Y...</td>\n",
       "    </tr>\n",
       "    <tr>\n",
       "      <th>3</th>\n",
       "      <td>829480810956935171</td>\n",
       "      <td>audi</td>\n",
       "      <td>Thu Feb 09 00:03:30 +0000 2017</td>\n",
       "      <td>0.0</td>\n",
       "      <td>124.0</td>\n",
       "      <td>RT @USATODAYsports: Audi #SuperBowl commercial...</td>\n",
       "    </tr>\n",
       "    <tr>\n",
       "      <th>4</th>\n",
       "      <td>829478177634410497</td>\n",
       "      <td>audi</td>\n",
       "      <td>Wed Feb 08 23:53:03 +0000 2017</td>\n",
       "      <td>0.0</td>\n",
       "      <td>0.0</td>\n",
       "      <td>Whats a woman's worth? Great advertisement for...</td>\n",
       "    </tr>\n",
       "  </tbody>\n",
       "</table>\n",
       "</div>"
      ],
      "text/plain": [
       "                   id Brand                      created_at  favorite_count  \\\n",
       "0  829484931701145600  audi  Thu Feb 09 00:19:53 +0000 2017             0.0   \n",
       "1  829484460286603265  audi  Thu Feb 09 00:18:01 +0000 2017             0.0   \n",
       "2  829481014141517826  audi  Thu Feb 09 00:04:19 +0000 2017             0.0   \n",
       "3  829480810956935171  audi  Thu Feb 09 00:03:30 +0000 2017             0.0   \n",
       "4  829478177634410497  audi  Wed Feb 08 23:53:03 +0000 2017             0.0   \n",
       "\n",
       "   retweet_count                                               text  \n",
       "0            0.0  Great brand positioning! #Audi Super Bowl ad m...  \n",
       "1            0.0                 That #Audi commercial is so awful.  \n",
       "2            0.0  Watch \"Parody Audi Super Bowl Commercial\" on Y...  \n",
       "3          124.0  RT @USATODAYsports: Audi #SuperBowl commercial...  \n",
       "4            0.0  Whats a woman's worth? Great advertisement for...  "
      ]
     },
     "execution_count": 2,
     "metadata": {},
     "output_type": "execute_result"
    }
   ],
   "source": [
    "tweets.head()"
   ]
  },
  {
   "cell_type": "code",
   "execution_count": 3,
   "metadata": {
    "collapsed": false
   },
   "outputs": [
    {
     "data": {
      "text/plain": [
       "coke         2000\n",
       "Mr. Clean    1258\n",
       "budweiser     998\n",
       "ford          591\n",
       "audi          288\n",
       "Name: Brand, dtype: int64"
      ]
     },
     "execution_count": 3,
     "metadata": {},
     "output_type": "execute_result"
    }
   ],
   "source": [
    "tweets['Brand'] = tweets['Brand'].replace(to_replace=\"Mr.%20Clean\",value=\"Mr. Clean\")\n",
    "tweets['Brand'].value_counts()"
   ]
  },
  {
   "cell_type": "code",
   "execution_count": 4,
   "metadata": {
    "collapsed": true
   },
   "outputs": [],
   "source": [
    "def get_brand_df(brand):\n",
    "    '''Based on brand keyword, return a cleaned dataframe for that brand'''\n",
    "    brand_subset = tweets[tweets['Brand'] == brand]\n",
    "    \n",
    "    # Remove duplicate rows for retweets\n",
    "    brand_subset = brand_subset.drop_duplicates(subset = 'text')\n",
    "    \n",
    "    # Create percentage of all retweets column\n",
    "    brand_subset['retweet_pct'] = 1.0*brand_subset['retweet_count']/sum(brand_subset['retweet_count'])\n",
    "    \n",
    "    return brand_subset"
   ]
  },
  {
   "cell_type": "code",
   "execution_count": 5,
   "metadata": {
    "collapsed": true
   },
   "outputs": [],
   "source": [
    "def tokenize_tweet(tweet,brand_stops):\n",
    "    '''Takes a tweet and brand stop words and returns a list of tokens.'''\n",
    "    \n",
    "    tweet = tweet.decode(\"utf8\")\n",
    "    \n",
    "    # Create list of punctuation and \"stop words\" to remove\n",
    "    punctuations = list(string.punctuation)\n",
    "    commercial_stop_words = ['\\'s','...','\\'\\'','``','n\\'t','https','rt','commercial','super','bowl','superbowl','via']\n",
    "    stops = punctuations+commercial_stop_words+brand_stops    \n",
    "        \n",
    "    # Tokenize tweet\n",
    "    tokens = word_tokenize(tweet)\n",
    "    \n",
    "    # Remove stop words and punctuation\n",
    "    tokens_stop = [word.lower() for word in tokens if word.lower() not in stopwords.words('english')]\n",
    "    tokens_stop2 = [word.lower() for word in tokens_stop if word.lower() not in stops]\n",
    "    \n",
    "    # Remove quotation marks from tokens\n",
    "    tokens = []\n",
    "    \n",
    "    for token in tokens_stop2:\n",
    "        token = token.replace('\"', \"\")\n",
    "        token = token.replace(\"'\", \"\")\n",
    "        tokens.append(token)\n",
    "    \n",
    "    # Lemmatize tokens\n",
    "    lmtzr = WordNetLemmatizer()\n",
    "    tokens = [lmtzr.lemmatize(token) for token in tokens]\n",
    "          \n",
    "    return tokens"
   ]
  },
  {
   "cell_type": "code",
   "execution_count": 6,
   "metadata": {
    "collapsed": true
   },
   "outputs": [],
   "source": [
    "def SentiRate(tokens_list, senti_dict):\n",
    "    '''Takes list of tokens and returns a cumulative sentiment score for the entire list'''\n",
    "    \n",
    "    list_score = 0\n",
    "    \n",
    "    for token in tokens_list:\n",
    "        if token in senti_dict.keys():\n",
    "            token_score = senti_dict[token]\n",
    "            list_score += token_score\n",
    "    \n",
    "    return list_score"
   ]
  },
  {
   "cell_type": "code",
   "execution_count": 7,
   "metadata": {
    "collapsed": true
   },
   "outputs": [],
   "source": [
    "def get_senti_scores_RT(tweets_list, RTcounts_list, brand_stops, senti_dict):\n",
    "    '''Takes list of tweets and list of retweet counts for each tweet,\n",
    "    returns a series of sentiment scores corresponding to the tweets'''\n",
    "    \n",
    "    # Initialize list\n",
    "    senti_list = []\n",
    "    \n",
    "    # Loop through tweets\n",
    "    for i in range(len(tweets_list)):\n",
    "        tweet = tweets_list[i]\n",
    "        retweet_count = int(RTcounts_list[i])\n",
    "        \n",
    "        # Tokenize tweet\n",
    "        tokens = tokenize_tweet(tweet, brand_stops)\n",
    "        \n",
    "        # Get sentiment score for tweet\n",
    "        tweet_score = SentiRate(tokens, senti_dict)\n",
    "        \n",
    "        # Add sentiment to list (once for original tweet, once for each retweet)\n",
    "        senti_list.append(tweet_score)\n",
    "        for j in range(retweet_count):\n",
    "            senti_list.append(tweet_score)\n",
    "    \n",
    "    senti_series = pd.Series(senti_list)\n",
    "    \n",
    "    return senti_series"
   ]
  },
  {
   "cell_type": "code",
   "execution_count": 8,
   "metadata": {
    "collapsed": true
   },
   "outputs": [],
   "source": [
    "def get_senti_scores(tweets_list, brand_stops, senti_dict):\n",
    "    '''Takes list of tweets and list of retweet counts for each tweet,\n",
    "    returns a series of sentiment scores corresponding to the tweets'''\n",
    "    \n",
    "    # Initialize list\n",
    "    senti_list = []\n",
    "    \n",
    "    # Loop through tweets\n",
    "    for i in range(len(tweets_list)):\n",
    "        tweet = tweets_list[i]\n",
    "        \n",
    "        # Tokenize tweet\n",
    "        tokens = tokenize_tweet(tweet, brand_stops)\n",
    "        \n",
    "        # Get sentiment score for tweet\n",
    "        tweet_score = SentiRate(tokens, senti_dict)\n",
    "        \n",
    "        # Add sentiment to list (once for original tweet)\n",
    "        senti_list.append(tweet_score)\n",
    "    \n",
    "    senti_series = pd.Series(senti_list)\n",
    "    \n",
    "    return senti_series"
   ]
  },
  {
   "cell_type": "code",
   "execution_count": 9,
   "metadata": {
    "collapsed": true
   },
   "outputs": [],
   "source": [
    "lmtzr = WordNetLemmatizer()"
   ]
  },
  {
   "cell_type": "code",
   "execution_count": 10,
   "metadata": {
    "collapsed": false
   },
   "outputs": [],
   "source": [
    "# Create sentiment score dictionary\n",
    "SentiStrength_scores = pd.read_csv(\"SentiStrength_Dict.csv\")\n",
    "del SentiStrength_scores['Unnamed: 2']\n",
    "SentiStrength_scores['word'].apply(lmtzr.lemmatize)\n",
    "SentiStrength_scores['word'] = [word.decode(\"utf8\") for word in SentiStrength_scores['word']]\n",
    "senti_dict = SentiStrength_scores.set_index('word')['score'].to_dict()"
   ]
  },
  {
   "cell_type": "markdown",
   "metadata": {},
   "source": [
    "# Coca-Cola: \"It's Beautiful\""
   ]
  },
  {
   "cell_type": "code",
   "execution_count": 11,
   "metadata": {
    "collapsed": true
   },
   "outputs": [],
   "source": [
    "coke = get_brand_df('coke').reset_index().drop('index', axis=1)\n",
    "coke_stops = ['coke','cocacola','coca-cola']\n",
    "coke_tweets = coke['text'].tolist()\n",
    "coke_RT = coke['retweet_count'].tolist()"
   ]
  },
  {
   "cell_type": "markdown",
   "metadata": {},
   "source": [
    "\"Beautiful\" is a word that receives a high sentiment score. However, since it is in both the title of the commercial and the title of the song in the commercial, it is likely that many tweets used the word merely to reference these titles rather than to describe their sentiment. Let's change its sentiment score to 0 to account for this possibility. "
   ]
  },
  {
   "cell_type": "code",
   "execution_count": 12,
   "metadata": {
    "collapsed": false
   },
   "outputs": [],
   "source": [
    "coke_senti_dict = senti_dict\n",
    "coke_senti_dict['beautiful'] = 0"
   ]
  },
  {
   "cell_type": "markdown",
   "metadata": {},
   "source": [
    "### Retweets Included"
   ]
  },
  {
   "cell_type": "code",
   "execution_count": 13,
   "metadata": {
    "collapsed": false
   },
   "outputs": [],
   "source": [
    "coke_RTscores = get_senti_scores_RT(coke_tweets, coke_RT, coke_stops, coke_senti_dict)"
   ]
  },
  {
   "cell_type": "code",
   "execution_count": 14,
   "metadata": {
    "collapsed": false
   },
   "outputs": [
    {
     "data": {
      "text/plain": [
       "<matplotlib.axes._subplots.AxesSubplot at 0x12147f98>"
      ]
     },
     "execution_count": 14,
     "metadata": {},
     "output_type": "execute_result"
    },
    {
     "data": {
      "image/png": "[encoded data removed]",
      "text/plain": [
       "<matplotlib.figure.Figure at 0xc5bcb70>"
      ]
     },
     "metadata": {},
     "output_type": "display_data"
    }
   ],
   "source": [
    "count, division = np.histogram(coke_RTscores, bins = range(-10,10))\n",
    "coke_RTscores.hist(bins=division)"
   ]
  },
  {
   "cell_type": "code",
   "execution_count": 15,
   "metadata": {
    "collapsed": false
   },
   "outputs": [
    {
     "data": {
      "text/plain": [
       "count    34059.000000\n",
       "mean        -1.870255\n",
       "std          2.512273\n",
       "min        -10.000000\n",
       "25%         -4.000000\n",
       "50%         -4.000000\n",
       "75%          0.000000\n",
       "max          9.000000\n",
       "dtype: float64"
      ]
     },
     "execution_count": 15,
     "metadata": {},
     "output_type": "execute_result"
    }
   ],
   "source": [
    "coke_RTsummary = coke_RTscores.describe()\n",
    "coke_RTsummary"
   ]
  },
  {
   "cell_type": "code",
   "execution_count": 44,
   "metadata": {
    "collapsed": false
   },
   "outputs": [
    {
     "data": {
      "text/html": [
       "<div>\n",
       "<table border=\"1\" class=\"dataframe\">\n",
       "  <thead>\n",
       "    <tr style=\"text-align: right;\">\n",
       "      <th></th>\n",
       "      <th>retweet_count</th>\n",
       "      <th>text</th>\n",
       "    </tr>\n",
       "  </thead>\n",
       "  <tbody>\n",
       "    <tr>\n",
       "      <th>0</th>\n",
       "      <td>8018.0</td>\n",
       "      <td>RT @AlexCanRelate: does anyone remember when t...</td>\n",
       "    </tr>\n",
       "    <tr>\n",
       "      <th>1</th>\n",
       "      <td>6773.0</td>\n",
       "      <td>RT @WORLDSTAR: Damn I think I missed this Dori...</td>\n",
       "    </tr>\n",
       "    <tr>\n",
       "      <th>2</th>\n",
       "      <td>6674.0</td>\n",
       "      <td>RT @RapSpotlights: Damn I think I missed this ...</td>\n",
       "    </tr>\n",
       "    <tr>\n",
       "      <th>3</th>\n",
       "      <td>2841.0</td>\n",
       "      <td>RT @vinehumor: DAMN I MISSED THIS DORITOS COMM...</td>\n",
       "    </tr>\n",
       "    <tr>\n",
       "      <th>4</th>\n",
       "      <td>1220.0</td>\n",
       "      <td>RT @Kim_is__bored: I hope that Coca-Cola pisse...</td>\n",
       "    </tr>\n",
       "  </tbody>\n",
       "</table>\n",
       "</div>"
      ],
      "text/plain": [
       "   retweet_count                                               text\n",
       "0         8018.0  RT @AlexCanRelate: does anyone remember when t...\n",
       "1         6773.0  RT @WORLDSTAR: Damn I think I missed this Dori...\n",
       "2         6674.0  RT @RapSpotlights: Damn I think I missed this ...\n",
       "3         2841.0  RT @vinehumor: DAMN I MISSED THIS DORITOS COMM...\n",
       "4         1220.0  RT @Kim_is__bored: I hope that Coca-Cola pisse..."
      ]
     },
     "execution_count": 44,
     "metadata": {},
     "output_type": "execute_result"
    }
   ],
   "source": [
    "cokeRT = coke.sort_values(by='retweet_count', ascending=False).reset_index().drop('index', axis=1)\n",
    "cokeRT = cokeRT[['retweet_count', 'text']]\n",
    "cokeRT.head()"
   ]
  },
  {
   "cell_type": "code",
   "execution_count": 49,
   "metadata": {
    "collapsed": false
   },
   "outputs": [
    {
     "data": {
      "image/png": "[encoded data removed]",
      "text/plain": [
       "<matplotlib.figure.Figure at 0x1660d320>"
      ]
     },
     "metadata": {},
     "output_type": "display_data"
    }
   ],
   "source": [
    "ax = sns.barplot(x=cokeRT.index[:15], y=cokeRT['retweet_count'][:15])\n",
    "ax.set(ylabel='Retweets')\n",
    "\n",
    "plt.show()"
   ]
  },
  {
   "cell_type": "markdown",
   "metadata": {},
   "source": [
    "It looks like there are 3 or 4 tweets that really dominate the overall sentiment when we include retweets."
   ]
  },
  {
   "cell_type": "code",
   "execution_count": 59,
   "metadata": {
    "collapsed": false
   },
   "outputs": [
    {
     "name": "stdout",
     "output_type": "stream",
     "text": [
      "Retweets\t:\t8018.0\n",
      "RT @AlexCanRelate: does anyone remember when this commercial used to come on EVERY commercial break https://t.co/8oMgRE8pPU\n",
      "\n",
      "Retweets\t:\t6773.0\n",
      "RT @WORLDSTAR: Damn I think I missed this Doritos commercial 😂 (via @fatboy_sse) https://t.co/1ENV4xSdLB\n",
      "\n",
      "Retweets\t:\t6674.0\n",
      "RT @RapSpotlights: Damn I think I missed this Doritos commercial https://t.co/mj4YesL17w\n",
      "\n",
      "Retweets\t:\t2841.0\n",
      "RT @vinehumor: DAMN I MISSED THIS DORITOS COMMERCIAL https://t.co/IVPouuN2WX\n",
      "\n",
      "Retweets\t:\t1220.0\n",
      "RT @Kim_is__bored: I hope that Coca-Cola pisses off the racist-bigots again with their #SuperBowl Commercial. #Coke https://t.co/zyE7j4eWx2\n",
      "\n",
      "Retweets\t:\t1147.0\n",
      "RT @tonyposnanski: Oh no Deplorables...the Coke commercial has \"America The Beautiful\" in different languages. \r\n",
      "\r\n",
      "Maybe you should boycott o…\n",
      "\n",
      "Retweets\t:\t999.0\n",
      "RT @DrMartyFox: Coke #SuperBowl Ad Celebrating #Diversity \r\n",
      "\r\n",
      "NO #Diversity Did NOT Make Us Great\r\n",
      "\r\n",
      "Assimilation &amp; Unity Made Us Great\r\n",
      "\r\n",
      "https:…\n",
      "\n",
      "Retweets\t:\t925.0\n",
      "RT @DannyZuker: Imagine a world where Trumpsters got as angry about sending children back to war zones to be murdered as they do about a Co…\n",
      "\n",
      "Retweets\t:\t924.0\n",
      "RT @WORLDSTARC0MEDY: Damn I think I missed this Doritos commercial https://t.co/Tl762fU4ol\n",
      "\n",
      "Retweets\t:\t765.0\n",
      "RT @ShaunKing: I found that Coke, \"Together is Beautiful\" commercial, to be very touching. \r\n",
      "\r\n",
      "A direct rebuttal against Donald Trump.\n",
      "\n"
     ]
    }
   ],
   "source": [
    "for i in cokeRT.index[:10]:\n",
    "    print 'Retweets\\t:\\t{}'.format(cokeRT['retweet_count'][i])\n",
    "    print cokeRT['text'][i]\n",
    "    print"
   ]
  },
  {
   "cell_type": "markdown",
   "metadata": {},
   "source": [
    "### Retweets Not Included"
   ]
  },
  {
   "cell_type": "code",
   "execution_count": 16,
   "metadata": {
    "collapsed": true
   },
   "outputs": [],
   "source": [
    "coke_scores = get_senti_scores(coke_tweets, coke_stops, coke_senti_dict)"
   ]
  },
  {
   "cell_type": "code",
   "execution_count": 17,
   "metadata": {
    "collapsed": false
   },
   "outputs": [
    {
     "data": {
      "text/plain": [
       "<matplotlib.axes._subplots.AxesSubplot at 0x126d54a8>"
      ]
     },
     "execution_count": 17,
     "metadata": {},
     "output_type": "execute_result"
    },
    {
     "data": {
      "image/png": "[encoded data removed]",
      "text/plain": [
       "<matplotlib.figure.Figure at 0xc5cb1d0>"
      ]
     },
     "metadata": {},
     "output_type": "display_data"
    }
   ],
   "source": [
    "count, division = np.histogram(coke_scores, bins = range(-10,10))\n",
    "coke_scores.hist(bins=division)"
   ]
  },
  {
   "cell_type": "code",
   "execution_count": 18,
   "metadata": {
    "collapsed": false
   },
   "outputs": [
    {
     "data": {
      "text/plain": [
       "count    458.000000\n",
       "mean       0.039301\n",
       "std        2.340441\n",
       "min      -10.000000\n",
       "25%        0.000000\n",
       "50%        0.000000\n",
       "75%        2.000000\n",
       "max        9.000000\n",
       "dtype: float64"
      ]
     },
     "execution_count": 18,
     "metadata": {},
     "output_type": "execute_result"
    }
   ],
   "source": [
    "coke_summary = coke_scores.describe()\n",
    "coke_summary"
   ]
  },
  {
   "cell_type": "markdown",
   "metadata": {},
   "source": [
    "---\n",
    "\n",
    "# Mr. Clean: \"Cleaner of Your Dreams\""
   ]
  },
  {
   "cell_type": "code",
   "execution_count": 19,
   "metadata": {
    "collapsed": true
   },
   "outputs": [],
   "source": [
    "mrclean = get_brand_df('Mr. Clean').reset_index().drop('index', axis=1)\n",
    "clean_stops = ['clean','mr','mr.','mr.clean','mrclean']\n",
    "clean_tweets = mrclean['text'].tolist()\n",
    "clean_RT = mrclean['retweet_count'].tolist()"
   ]
  },
  {
   "cell_type": "markdown",
   "metadata": {},
   "source": [
    "### Retweets Included"
   ]
  },
  {
   "cell_type": "code",
   "execution_count": 20,
   "metadata": {
    "collapsed": false
   },
   "outputs": [],
   "source": [
    "clean_RTscores = get_senti_scores_RT(clean_tweets, clean_RT, clean_stops, senti_dict)"
   ]
  },
  {
   "cell_type": "code",
   "execution_count": 21,
   "metadata": {
    "collapsed": false
   },
   "outputs": [
    {
     "data": {
      "text/plain": [
       "<matplotlib.axes._subplots.AxesSubplot at 0x126d5d68>"
      ]
     },
     "execution_count": 21,
     "metadata": {},
     "output_type": "execute_result"
    },
    {
     "data": {
      "image/png": "[encoded data removed]",
      "text/plain": [
       "<matplotlib.figure.Figure at 0x12eb2da0>"
      ]
     },
     "metadata": {},
     "output_type": "display_data"
    }
   ],
   "source": [
    "count, division = np.histogram(clean_RTscores, bins = range(-6,10))\n",
    "clean_RTscores.hist(bins=division)"
   ]
  },
  {
   "cell_type": "code",
   "execution_count": 22,
   "metadata": {
    "collapsed": false
   },
   "outputs": [
    {
     "data": {
      "text/plain": [
       "count    7815.000000\n",
       "mean        1.503647\n",
       "std         1.800650\n",
       "min        -6.000000\n",
       "25%         0.000000\n",
       "50%         3.000000\n",
       "75%         3.000000\n",
       "max         9.000000\n",
       "dtype: float64"
      ]
     },
     "execution_count": 22,
     "metadata": {},
     "output_type": "execute_result"
    }
   ],
   "source": [
    "clean_RTsummary = clean_RTscores.describe()\n",
    "clean_RTsummary"
   ]
  },
  {
   "cell_type": "code",
   "execution_count": 56,
   "metadata": {
    "collapsed": false
   },
   "outputs": [
    {
     "data": {
      "text/html": [
       "<div>\n",
       "<table border=\"1\" class=\"dataframe\">\n",
       "  <thead>\n",
       "    <tr style=\"text-align: right;\">\n",
       "      <th></th>\n",
       "      <th>retweet_count</th>\n",
       "      <th>text</th>\n",
       "    </tr>\n",
       "  </thead>\n",
       "  <tbody>\n",
       "    <tr>\n",
       "      <th>0</th>\n",
       "      <td>3661.0</td>\n",
       "      <td>RT @TheEllenShow: Everyone’s talking about the...</td>\n",
       "    </tr>\n",
       "    <tr>\n",
       "      <th>1</th>\n",
       "      <td>1359.0</td>\n",
       "      <td>RT @_MsQu33nSteph: My favorite commercial of t...</td>\n",
       "    </tr>\n",
       "    <tr>\n",
       "      <th>2</th>\n",
       "      <td>496.0</td>\n",
       "      <td>RT @HuffingtonPost: That Mr. Clean though http...</td>\n",
       "    </tr>\n",
       "    <tr>\n",
       "      <th>3</th>\n",
       "      <td>181.0</td>\n",
       "      <td>RT @Lauren_Alaina: THAT MR. CLEAN COMMERCIAL W...</td>\n",
       "    </tr>\n",
       "    <tr>\n",
       "      <th>4</th>\n",
       "      <td>122.0</td>\n",
       "      <td>RT @thecoreyholcomb: I just saw a gay mr. clea...</td>\n",
       "    </tr>\n",
       "  </tbody>\n",
       "</table>\n",
       "</div>"
      ],
      "text/plain": [
       "   retweet_count                                               text\n",
       "0         3661.0  RT @TheEllenShow: Everyone’s talking about the...\n",
       "1         1359.0  RT @_MsQu33nSteph: My favorite commercial of t...\n",
       "2          496.0  RT @HuffingtonPost: That Mr. Clean though http...\n",
       "3          181.0  RT @Lauren_Alaina: THAT MR. CLEAN COMMERCIAL W...\n",
       "4          122.0  RT @thecoreyholcomb: I just saw a gay mr. clea..."
      ]
     },
     "execution_count": 56,
     "metadata": {},
     "output_type": "execute_result"
    }
   ],
   "source": [
    "cleanRT = mrclean.sort_values(by='retweet_count', ascending=False).reset_index().drop('index', axis=1)\n",
    "cleanRT = cleanRT[['retweet_count', 'text']]\n",
    "cleanRT.head()"
   ]
  },
  {
   "cell_type": "code",
   "execution_count": 57,
   "metadata": {
    "collapsed": false
   },
   "outputs": [
    {
     "data": {
      "image/png": "[encoded data removed]",
      "text/plain": [
       "<matplotlib.figure.Figure at 0x1c0c03c8>"
      ]
     },
     "metadata": {},
     "output_type": "display_data"
    }
   ],
   "source": [
    "ax = sns.barplot(x=cleanRT.index[:15], y=cleanRT['retweet_count'][:15])\n",
    "ax.set(ylabel='Retweets')\n",
    "\n",
    "plt.show()"
   ]
  },
  {
   "cell_type": "code",
   "execution_count": 60,
   "metadata": {
    "collapsed": false
   },
   "outputs": [
    {
     "name": "stdout",
     "output_type": "stream",
     "text": [
      "Retweets\t:\t3661.0\n",
      "RT @TheEllenShow: Everyone’s talking about the sexy new Mr. Clean commercial. I’m surprised they let this run on TV. https://t.co/Vuk5bAahp8\n",
      "\n",
      "Retweets\t:\t1359.0\n",
      "RT @_MsQu33nSteph: My favorite commercial of the Super Bowl...😂🤣 Mr. Clean. https://t.co/X223Cgx7BM\n",
      "\n",
      "Retweets\t:\t496.0\n",
      "RT @HuffingtonPost: That Mr. Clean though https://t.co/oFbcDf6MXq https://t.co/aObWknLZAP\n",
      "\n",
      "Retweets\t:\t181.0\n",
      "RT @Lauren_Alaina: THAT MR. CLEAN COMMERCIAL WAS THE BEST THING EVER.\n",
      "\n",
      "Retweets\t:\t122.0\n",
      "RT @thecoreyholcomb: I just saw a gay mr. clean commercial during the super bowl. The place will be full of scum before I buy that moist sh…\n",
      "\n",
      "Retweets\t:\t112.0\n",
      "RT @RobMarkman: That Mr Clean commercial is EXACTLY what J Cole meant when he said \"I wanna fold clothes for ya\"\n",
      "\n",
      "Retweets\t:\t78.0\n",
      "RT @CordLauren65: THE MR.CLEAN COMMERCIAL IM HOLLERING https://t.co/6QUtpAFwGo\n",
      "\n",
      "Retweets\t:\t74.0\n",
      "RT @people: Mr. Clean is trolling #SuperBowl commercials on Twitter https://t.co/wFTJEwhmDp https://t.co/zSQJbKabpG\n",
      "\n",
      "Retweets\t:\t74.0\n",
      "Mr. Clean is trolling #SuperBowl commercials on Twitter https://t.co/wFTJEwhmDp https://t.co/zSQJbKabpG\n",
      "\n",
      "Retweets\t:\t66.0\n",
      "RT @VerbsRProudest: That Mr. Clean commercial is disturbing.  Should I buy his cleaner or put a dollar in his waistband? Is he only cleanin…\n",
      "\n"
     ]
    }
   ],
   "source": [
    "for i in cleanRT.index[:10]:\n",
    "    print 'Retweets\\t:\\t{}'.format(cleanRT['retweet_count'][i])\n",
    "    print cleanRT['text'][i]\n",
    "    print"
   ]
  },
  {
   "cell_type": "markdown",
   "metadata": {},
   "source": [
    "### Retweets Not Included"
   ]
  },
  {
   "cell_type": "code",
   "execution_count": 23,
   "metadata": {
    "collapsed": true
   },
   "outputs": [],
   "source": [
    "clean_scores = get_senti_scores(clean_tweets, clean_stops, senti_dict)"
   ]
  },
  {
   "cell_type": "code",
   "execution_count": 24,
   "metadata": {
    "collapsed": false
   },
   "outputs": [
    {
     "data": {
      "text/plain": [
       "<matplotlib.axes._subplots.AxesSubplot at 0x1308cb00>"
      ]
     },
     "execution_count": 24,
     "metadata": {},
     "output_type": "execute_result"
    },
    {
     "data": {
      "image/png": "[encoded data removed]",
      "text/plain": [
       "<matplotlib.figure.Figure at 0x12e14588>"
      ]
     },
     "metadata": {},
     "output_type": "display_data"
    }
   ],
   "source": [
    "count, division = np.histogram(clean_scores, bins = range(-6,10))\n",
    "clean_scores.hist(bins=division)"
   ]
  },
  {
   "cell_type": "code",
   "execution_count": 25,
   "metadata": {
    "collapsed": false
   },
   "outputs": [
    {
     "data": {
      "text/plain": [
       "count    594.000000\n",
       "mean       0.526936\n",
       "std        2.002557\n",
       "min       -6.000000\n",
       "25%        0.000000\n",
       "50%        0.000000\n",
       "75%        2.000000\n",
       "max        9.000000\n",
       "dtype: float64"
      ]
     },
     "execution_count": 25,
     "metadata": {},
     "output_type": "execute_result"
    }
   ],
   "source": [
    "clean_summary = clean_scores.describe()\n",
    "clean_summary"
   ]
  },
  {
   "cell_type": "markdown",
   "metadata": {},
   "source": [
    "---\n",
    "\n",
    "# Budweiser: \"Born the Hard Way\""
   ]
  },
  {
   "cell_type": "code",
   "execution_count": 26,
   "metadata": {
    "collapsed": true
   },
   "outputs": [],
   "source": [
    "budweiser = get_brand_df('budweiser').reset_index().drop('index', axis=1)\n",
    "bud_stops = ['budweiser']\n",
    "bud_tweets = budweiser['text'].tolist()\n",
    "bud_RT = budweiser['retweet_count'].tolist()"
   ]
  },
  {
   "cell_type": "markdown",
   "metadata": {},
   "source": [
    "### Retweets Included"
   ]
  },
  {
   "cell_type": "code",
   "execution_count": 27,
   "metadata": {
    "collapsed": true
   },
   "outputs": [],
   "source": [
    "bud_RTscores = get_senti_scores_RT(bud_tweets, bud_RT, bud_stops, senti_dict)"
   ]
  },
  {
   "cell_type": "code",
   "execution_count": 28,
   "metadata": {
    "collapsed": false
   },
   "outputs": [
    {
     "data": {
      "text/plain": [
       "<matplotlib.axes._subplots.AxesSubplot at 0x1335aef0>"
      ]
     },
     "execution_count": 28,
     "metadata": {},
     "output_type": "execute_result"
    },
    {
     "data": {
      "image/png": "[encoded data removed]",
      "text/plain": [
       "<matplotlib.figure.Figure at 0x1305f748>"
      ]
     },
     "metadata": {},
     "output_type": "display_data"
    }
   ],
   "source": [
    "count, division = np.histogram(bud_RTscores, bins = range(-6,11))\n",
    "bud_RTscores.hist(bins=division)"
   ]
  },
  {
   "cell_type": "code",
   "execution_count": 29,
   "metadata": {
    "collapsed": false
   },
   "outputs": [
    {
     "data": {
      "text/plain": [
       "count    60374.000000\n",
       "mean         2.564879\n",
       "std          1.365952\n",
       "min         -6.000000\n",
       "25%          3.000000\n",
       "50%          3.000000\n",
       "75%          3.000000\n",
       "max         10.000000\n",
       "dtype: float64"
      ]
     },
     "execution_count": 29,
     "metadata": {},
     "output_type": "execute_result"
    }
   ],
   "source": [
    "bud_RTsummary = bud_RTscores.describe()\n",
    "bud_RTsummary"
   ]
  },
  {
   "cell_type": "code",
   "execution_count": 62,
   "metadata": {
    "collapsed": false
   },
   "outputs": [
    {
     "data": {
      "text/html": [
       "<div>\n",
       "<table border=\"1\" class=\"dataframe\">\n",
       "  <thead>\n",
       "    <tr style=\"text-align: right;\">\n",
       "      <th></th>\n",
       "      <th>retweet_count</th>\n",
       "      <th>text</th>\n",
       "    </tr>\n",
       "  </thead>\n",
       "  <tbody>\n",
       "    <tr>\n",
       "      <th>0</th>\n",
       "      <td>34054.0</td>\n",
       "      <td>RT @girlposts: Budweiser will forever win best...</td>\n",
       "    </tr>\n",
       "    <tr>\n",
       "      <th>1</th>\n",
       "      <td>6247.0</td>\n",
       "      <td>RT @BabyAnimalPics: Budweiser will forever win...</td>\n",
       "    </tr>\n",
       "    <tr>\n",
       "      <th>2</th>\n",
       "      <td>5801.0</td>\n",
       "      <td>RT @FemaleTexts: Budweiser will forever win be...</td>\n",
       "    </tr>\n",
       "    <tr>\n",
       "      <th>3</th>\n",
       "      <td>4011.0</td>\n",
       "      <td>RT @RelatableQuote: Budweiser will forever win...</td>\n",
       "    </tr>\n",
       "    <tr>\n",
       "      <th>4</th>\n",
       "      <td>1922.0</td>\n",
       "      <td>RT @KardashianReact: Budweiser will forever wi...</td>\n",
       "    </tr>\n",
       "  </tbody>\n",
       "</table>\n",
       "</div>"
      ],
      "text/plain": [
       "   retweet_count                                               text\n",
       "0        34054.0  RT @girlposts: Budweiser will forever win best...\n",
       "1         6247.0  RT @BabyAnimalPics: Budweiser will forever win...\n",
       "2         5801.0  RT @FemaleTexts: Budweiser will forever win be...\n",
       "3         4011.0  RT @RelatableQuote: Budweiser will forever win...\n",
       "4         1922.0  RT @KardashianReact: Budweiser will forever wi..."
      ]
     },
     "execution_count": 62,
     "metadata": {},
     "output_type": "execute_result"
    }
   ],
   "source": [
    "budRT = budweiser.sort_values(by='retweet_count', ascending=False).reset_index().drop('index', axis=1)\n",
    "budRT = budRT[['retweet_count', 'text']]\n",
    "budRT.head()"
   ]
  },
  {
   "cell_type": "code",
   "execution_count": 64,
   "metadata": {
    "collapsed": false
   },
   "outputs": [
    {
     "data": {
      "image/png": "[encoded data removed]",
      "text/plain": [
       "<matplotlib.figure.Figure at 0x1d09d208>"
      ]
     },
     "metadata": {},
     "output_type": "display_data"
    }
   ],
   "source": [
    "ax = sns.barplot(x=budRT.index[:15], y=budRT['retweet_count'][:15])\n",
    "ax.set(ylabel='Retweets')\n",
    "\n",
    "plt.show()"
   ]
  },
  {
   "cell_type": "code",
   "execution_count": 65,
   "metadata": {
    "collapsed": false
   },
   "outputs": [
    {
     "name": "stdout",
     "output_type": "stream",
     "text": [
      "Retweets\t:\t34054.0\n",
      "RT @girlposts: Budweiser will forever win best super bowl commercial. 😍😭😍  https://t.co/ngqziSyjoZ\n",
      "\n",
      "Retweets\t:\t6247.0\n",
      "RT @BabyAnimalPics: Budweiser will forever win best super bowl commercial. 😭😍 https://t.co/UATBEwKNuR\n",
      "\n",
      "Retweets\t:\t5801.0\n",
      "RT @FemaleTexts: Budweiser will forever win best super bowl commercial. 😍😭😍 https://t.co/fmq2TH5m1M\n",
      "\n",
      "Retweets\t:\t4011.0\n",
      "RT @RelatableQuote: Budweiser will forever win best super bowl commercial. 😭😍 https://t.co/enIwjqHt7c\n",
      "\n",
      "Retweets\t:\t1922.0\n",
      "RT @KardashianReact: Budweiser will forever win best super bowl commercial. 😍😭😍 https://t.co/na1SXfZIop\n",
      "\n",
      "Retweets\t:\t1332.0\n",
      "RT @AnnCoulter: Budweiser’s Pro-Immigrant Super Bowl Ad Is ‘Mostly Fiction,’ Anheuser-Busch Expert Says https://t.co/FxDYZRuWcd\n",
      "\n",
      "Retweets\t:\t1237.0\n",
      "RT @SOMEXlCAN: Budweiser will forever win best super bowl commercial. 😭😍 https://t.co/rCKkV81RvS\n",
      "\n",
      "Retweets\t:\t981.0\n",
      "RT @FlashHazard: #boycottbudwiser The commercial shows an immigrant entering LEGALLY. (and you spelled budweiser wrong) https://t.co/XGuiGA…\n",
      "\n",
      "Retweets\t:\t687.0\n",
      "RT @ajplus: When you're boycotting Budweiser over a commercial on their immigrant founder ... but end up with #BoycottBudwiser. 🤔 https://t…\n",
      "\n",
      "Retweets\t:\t602.0\n",
      "RT @voxdotcom: Budweiser just aired its #SuperBowl commercial — and it's all about the company's immigrant roots. https://t.co/V57oDVjbrl\n",
      "\n"
     ]
    }
   ],
   "source": [
    "for i in budRT.index[:10]:\n",
    "    print 'Retweets\\t:\\t{}'.format(budRT['retweet_count'][i])\n",
    "    print budRT['text'][i]\n",
    "    print"
   ]
  },
  {
   "cell_type": "markdown",
   "metadata": {},
   "source": [
    "### Retweets Not Included"
   ]
  },
  {
   "cell_type": "code",
   "execution_count": 30,
   "metadata": {
    "collapsed": true
   },
   "outputs": [],
   "source": [
    "bud_scores = get_senti_scores(bud_tweets, bud_stops, senti_dict)"
   ]
  },
  {
   "cell_type": "code",
   "execution_count": 31,
   "metadata": {
    "collapsed": false
   },
   "outputs": [
    {
     "data": {
      "text/plain": [
       "<matplotlib.axes._subplots.AxesSubplot at 0x134f0358>"
      ]
     },
     "execution_count": 31,
     "metadata": {},
     "output_type": "execute_result"
    },
    {
     "data": {
      "image/png": "[encoded data removed]",
      "text/plain": [
       "<matplotlib.figure.Figure at 0x43519b0>"
      ]
     },
     "metadata": {},
     "output_type": "display_data"
    }
   ],
   "source": [
    "count, division = np.histogram(bud_scores, bins=range(-6,11))\n",
    "bud_scores.hist(bins=division)"
   ]
  },
  {
   "cell_type": "code",
   "execution_count": 32,
   "metadata": {
    "collapsed": false
   },
   "outputs": [
    {
     "data": {
      "text/plain": [
       "count    292.000000\n",
       "mean       0.479452\n",
       "std        2.339616\n",
       "min       -6.000000\n",
       "25%        0.000000\n",
       "50%        0.000000\n",
       "75%        2.000000\n",
       "max       10.000000\n",
       "dtype: float64"
      ]
     },
     "execution_count": 32,
     "metadata": {},
     "output_type": "execute_result"
    }
   ],
   "source": [
    "bud_summary = bud_scores.describe()\n",
    "bud_summary"
   ]
  },
  {
   "cell_type": "markdown",
   "metadata": {},
   "source": [
    "---\n",
    "\n",
    "# Compare Results"
   ]
  },
  {
   "cell_type": "markdown",
   "metadata": {},
   "source": [
    "### Retweets Included"
   ]
  },
  {
   "cell_type": "code",
   "execution_count": 33,
   "metadata": {
    "collapsed": false
   },
   "outputs": [
    {
     "data": {
      "text/html": [
       "<div>\n",
       "<table border=\"1\" class=\"dataframe\">\n",
       "  <thead>\n",
       "    <tr style=\"text-align: right;\">\n",
       "      <th></th>\n",
       "      <th>Coca-Cola (RT included)</th>\n",
       "      <th>Mr. Clean (RT included)</th>\n",
       "      <th>Budweiser (RT included)</th>\n",
       "    </tr>\n",
       "  </thead>\n",
       "  <tbody>\n",
       "    <tr>\n",
       "      <th>count</th>\n",
       "      <td>34059.000000</td>\n",
       "      <td>7815.000000</td>\n",
       "      <td>60374.000000</td>\n",
       "    </tr>\n",
       "    <tr>\n",
       "      <th>mean</th>\n",
       "      <td>-1.870255</td>\n",
       "      <td>1.503647</td>\n",
       "      <td>2.564879</td>\n",
       "    </tr>\n",
       "    <tr>\n",
       "      <th>std</th>\n",
       "      <td>2.512273</td>\n",
       "      <td>1.800650</td>\n",
       "      <td>1.365952</td>\n",
       "    </tr>\n",
       "    <tr>\n",
       "      <th>min</th>\n",
       "      <td>-10.000000</td>\n",
       "      <td>-6.000000</td>\n",
       "      <td>-6.000000</td>\n",
       "    </tr>\n",
       "    <tr>\n",
       "      <th>25%</th>\n",
       "      <td>-4.000000</td>\n",
       "      <td>0.000000</td>\n",
       "      <td>3.000000</td>\n",
       "    </tr>\n",
       "    <tr>\n",
       "      <th>50%</th>\n",
       "      <td>-4.000000</td>\n",
       "      <td>3.000000</td>\n",
       "      <td>3.000000</td>\n",
       "    </tr>\n",
       "    <tr>\n",
       "      <th>75%</th>\n",
       "      <td>0.000000</td>\n",
       "      <td>3.000000</td>\n",
       "      <td>3.000000</td>\n",
       "    </tr>\n",
       "    <tr>\n",
       "      <th>max</th>\n",
       "      <td>9.000000</td>\n",
       "      <td>9.000000</td>\n",
       "      <td>10.000000</td>\n",
       "    </tr>\n",
       "  </tbody>\n",
       "</table>\n",
       "</div>"
      ],
      "text/plain": [
       "       Coca-Cola (RT included)  Mr. Clean (RT included)  \\\n",
       "count             34059.000000              7815.000000   \n",
       "mean                 -1.870255                 1.503647   \n",
       "std                   2.512273                 1.800650   \n",
       "min                 -10.000000                -6.000000   \n",
       "25%                  -4.000000                 0.000000   \n",
       "50%                  -4.000000                 3.000000   \n",
       "75%                   0.000000                 3.000000   \n",
       "max                   9.000000                 9.000000   \n",
       "\n",
       "       Budweiser (RT included)  \n",
       "count             60374.000000  \n",
       "mean                  2.564879  \n",
       "std                   1.365952  \n",
       "min                  -6.000000  \n",
       "25%                   3.000000  \n",
       "50%                   3.000000  \n",
       "75%                   3.000000  \n",
       "max                  10.000000  "
      ]
     },
     "execution_count": 33,
     "metadata": {},
     "output_type": "execute_result"
    }
   ],
   "source": [
    "brands_RTsummary = pd.concat([coke_RTsummary, clean_RTsummary, bud_RTsummary], axis=1)\n",
    "brands_RTsummary.columns = ['Coca-Cola (RT included)', 'Mr. Clean (RT included)', 'Budweiser (RT included)']\n",
    "brands_RTsummary"
   ]
  },
  {
   "cell_type": "markdown",
   "metadata": {},
   "source": [
    "### Retweets Not Included"
   ]
  },
  {
   "cell_type": "code",
   "execution_count": 34,
   "metadata": {
    "collapsed": false
   },
   "outputs": [
    {
     "data": {
      "text/html": [
       "<div>\n",
       "<table border=\"1\" class=\"dataframe\">\n",
       "  <thead>\n",
       "    <tr style=\"text-align: right;\">\n",
       "      <th></th>\n",
       "      <th>Coca-Cola</th>\n",
       "      <th>Mr. Clean</th>\n",
       "      <th>Budweiser</th>\n",
       "    </tr>\n",
       "  </thead>\n",
       "  <tbody>\n",
       "    <tr>\n",
       "      <th>count</th>\n",
       "      <td>458.000000</td>\n",
       "      <td>594.000000</td>\n",
       "      <td>292.000000</td>\n",
       "    </tr>\n",
       "    <tr>\n",
       "      <th>mean</th>\n",
       "      <td>0.039301</td>\n",
       "      <td>0.526936</td>\n",
       "      <td>0.479452</td>\n",
       "    </tr>\n",
       "    <tr>\n",
       "      <th>std</th>\n",
       "      <td>2.340441</td>\n",
       "      <td>2.002557</td>\n",
       "      <td>2.339616</td>\n",
       "    </tr>\n",
       "    <tr>\n",
       "      <th>min</th>\n",
       "      <td>-10.000000</td>\n",
       "      <td>-6.000000</td>\n",
       "      <td>-6.000000</td>\n",
       "    </tr>\n",
       "    <tr>\n",
       "      <th>25%</th>\n",
       "      <td>0.000000</td>\n",
       "      <td>0.000000</td>\n",
       "      <td>0.000000</td>\n",
       "    </tr>\n",
       "    <tr>\n",
       "      <th>50%</th>\n",
       "      <td>0.000000</td>\n",
       "      <td>0.000000</td>\n",
       "      <td>0.000000</td>\n",
       "    </tr>\n",
       "    <tr>\n",
       "      <th>75%</th>\n",
       "      <td>2.000000</td>\n",
       "      <td>2.000000</td>\n",
       "      <td>2.000000</td>\n",
       "    </tr>\n",
       "    <tr>\n",
       "      <th>max</th>\n",
       "      <td>9.000000</td>\n",
       "      <td>9.000000</td>\n",
       "      <td>10.000000</td>\n",
       "    </tr>\n",
       "  </tbody>\n",
       "</table>\n",
       "</div>"
      ],
      "text/plain": [
       "        Coca-Cola   Mr. Clean   Budweiser\n",
       "count  458.000000  594.000000  292.000000\n",
       "mean     0.039301    0.526936    0.479452\n",
       "std      2.340441    2.002557    2.339616\n",
       "min    -10.000000   -6.000000   -6.000000\n",
       "25%      0.000000    0.000000    0.000000\n",
       "50%      0.000000    0.000000    0.000000\n",
       "75%      2.000000    2.000000    2.000000\n",
       "max      9.000000    9.000000   10.000000"
      ]
     },
     "execution_count": 34,
     "metadata": {},
     "output_type": "execute_result"
    }
   ],
   "source": [
    "brands_summary = pd.concat([coke_summary, clean_summary, bud_summary], axis=1)\n",
    "brands_summary.columns = ['Coca-Cola', 'Mr. Clean', 'Budweiser']\n",
    "brands_summary"
   ]
  },
  {
   "cell_type": "code",
   "execution_count": null,
   "metadata": {
    "collapsed": true
   },
   "outputs": [],
   "source": []
  }
 ],
 "metadata": {
  "kernelspec": {
   "display_name": "Python 2",
   "language": "python",
   "name": "python2"
  },
  "language_info": {
   "codemirror_mode": {
    "name": "ipython",
    "version": 2
   },
   "file_extension": ".py",
   "mimetype": "text/x-python",
   "name": "python",
   "nbconvert_exporter": "python",
   "pygments_lexer": "ipython2",
   "version": "2.7.12"
  }
 },
 "nbformat": 4,
 "nbformat_minor": 0
}
