{
 "cells": [
  {
   "cell_type": "code",
   "execution_count": 43,
   "metadata": {
    "collapsed": false
   },
   "outputs": [
    {
     "name": "stdout",
     "output_type": "stream",
     "text": [
      "Populating the interactive namespace from numpy and matplotlib\n"
     ]
    }
   ],
   "source": [
    "import pandas as pd\n",
    "from nltk import word_tokenize\n",
    "import seaborn as sns\n",
    "import matplotlib.pyplot as plt\n",
    "%pylab inline\n",
    "\n",
    "tweets = pd.read_csv('BrandTweets.csv')"
   ]
  },
  {
   "cell_type": "code",
   "execution_count": 33,
   "metadata": {
    "collapsed": false
   },
   "outputs": [
    {
     "data": {
      "image/png": "[encoded data removed]",
      "text/plain": [
       "<matplotlib.figure.Figure at 0xd214518>"
      ]
     },
     "metadata": {},
     "output_type": "display_data"
    }
   ],
   "source": [
    "ax = sns.barplot(x=tweets['Brand'].value_counts().index,y=tweets['Brand'].value_counts())\n",
    "ax.set(xlabel='Brand', ylabel='Frequency')\n",
    "sns.plt.title('Tweets Retrieved')\n",
    "plt.show()"
   ]
  },
  {
   "cell_type": "markdown",
   "metadata": {},
   "source": [
    "First, consider the Coca-Cola commercial, \"It's Beautiful,\" which originally aired during the 2014 Super Bowl, and again during the 2016 Rio Olympics. The ad features the song \"America The Beautiful\" being sung in many languages, celebrating diversity and multi-culturalism. We will investigate the main topics of tweets related to the Coca-Cola ad and see if they are similar to the topics intended by the ad."
   ]
  },
  {
   "cell_type": "code",
   "execution_count": 39,
   "metadata": {
    "collapsed": false
   },
   "outputs": [
    {
     "data": {
      "text/plain": [
       "288    Super Bowl 51: Coke airs 'America Is Beautiful...\n",
       "289    People on the right who like to call others sn...\n",
       "290    @StylesMovieNews @radioharold And the diet cok...\n",
       "291    RT @EW: The Coca-Cola commercial received so m...\n",
       "292    RT @Kim_is__bored: I hope that Coca-Cola pisse...\n",
       "293    RT @EW: The Coca-Cola commercial received so m...\n",
       "294    RT @EW: The Coca-Cola commercial received so m...\n",
       "295    I am bored, so I am finding people pissed off ...\n",
       "296    RT @AlexCanRelate: does anyone remember when t...\n",
       "297    RT @EW: The Coca-Cola commercial received so m...\n",
       "298    RT @DrMartyFox: Coke #SuperBowl Ad Celebrating...\n",
       "299    RT @CatalinaCruz: Touchdowns!! Have a coke &am...\n",
       "300    @tour_de_francis @CocaCola Why can you use a F...\n",
       "301    RT @CatalinaCruz: Touchdowns!! Have a coke &am...\n",
       "302    RT @CatalinaCruz: Touchdowns!! Have a coke &am...\n",
       "303    RT @CatalinaCruz: Touchdowns!! Have a coke &am...\n",
       "304    @CadeIsCancer Coke's new superbowl commercial ...\n",
       "305    RT @wdwise: \"I'm never drinking Coke again!\"\\r...\n",
       "306    @LostTokens  I like that coke commercial too a...\n",
       "307    RT @EW: The Coca-Cola commercial received so m...\n",
       "Name: text, dtype: object"
      ]
     },
     "execution_count": 39,
     "metadata": {},
     "output_type": "execute_result"
    }
   ],
   "source": [
    "# Investigate some tweets about Coca-Cola\n",
    "coke = tweets[tweets['Brand'] == 'coke']\n",
    "coke['text'].head(20)"
   ]
  },
  {
   "cell_type": "code",
   "execution_count": 42,
   "metadata": {
    "collapsed": false
   },
   "outputs": [
    {
     "data": {
      "text/plain": [
       "458"
      ]
     },
     "execution_count": 42,
     "metadata": {},
     "output_type": "execute_result"
    }
   ],
   "source": [
    "# Remove duplicate tweets due to RT's. We are not looking for influencers, so only need 1 tweet to discover sentiment/content\n",
    "coke = coke.drop_duplicates(subset = 'text')\n",
    "len(coke)"
   ]
  },
  {
   "cell_type": "code",
   "execution_count": 47,
   "metadata": {
    "collapsed": false
   },
   "outputs": [],
   "source": [
    "def get_freq(tweet):\n",
    "    '''Takes a tweet and returns a dictionary of tokens and frequencies within tweet.'''\n",
    "    freq = {}\n",
    "    tokens = tweet.word_tokenize(tweet)\n",
    "    \n",
    "    for t in tokens:\n",
    "        try:\n",
    "            freq[t] = freq[t]+1\n",
    "        except:\n",
    "            freq[t] = 1            \n",
    "    return freq"
   ]
  },
  {
   "cell_type": "code",
   "execution_count": 54,
   "metadata": {
    "collapsed": true
   },
   "outputs": [],
   "source": [
    "def agg_counts(tweets):\n",
    "    '''Takes list of tweets (text) and aggregates frequencies of all tokens, returned as a dictionary.'''\n",
    "    # Define frequency dictionary\n",
    "    all_freq = {}\n",
    "    \n",
    "    # Loop through all tweets\n",
    "    for i in range(0,len(tweets)): \n",
    "        tweet = tweets[i]\n",
    "        tweet = tweet.decode(\"utf8\")\n",
    "\n",
    "        tweet_freq = get_freq(tweet) # Get the token frequencies of one tweet\n",
    "\n",
    "        for key in set(tweet_freq)&set(all_freq):\n",
    "            all_freq[key] += tweet_freq[key]\n",
    "        for key in set(tweet_freq).difference(set(all_freq)):\n",
    "            all_freq[key] = tweet_freq[key]\n",
    "    \n",
    "    return all_freq"
   ]
  },
  {
   "cell_type": "code",
   "execution_count": 59,
   "metadata": {
    "collapsed": false
   },
   "outputs": [
    {
     "ename": "AttributeError",
     "evalue": "'unicode' object has no attribute 'word_tokenize'",
     "output_type": "error",
     "traceback": [
      "\u001b[1;31m---------------------------------------------------------------------------\u001b[0m",
      "\u001b[1;31mAttributeError\u001b[0m                            Traceback (most recent call last)",
      "\u001b[1;32m<ipython-input-59-b3c796f7c5b5>\u001b[0m in \u001b[0;36m<module>\u001b[1;34m()\u001b[0m\n\u001b[1;32m----> 1\u001b[1;33m \u001b[0mcoke_freq_dict\u001b[0m \u001b[1;33m=\u001b[0m \u001b[0magg_counts\u001b[0m\u001b[1;33m(\u001b[0m\u001b[0mcoke\u001b[0m\u001b[1;33m[\u001b[0m\u001b[1;34m'text'\u001b[0m\u001b[1;33m]\u001b[0m\u001b[1;33m.\u001b[0m\u001b[0mtolist\u001b[0m\u001b[1;33m(\u001b[0m\u001b[1;33m)\u001b[0m\u001b[1;33m)\u001b[0m\u001b[1;33m\u001b[0m\u001b[0m\n\u001b[0m",
      "\u001b[1;32m<ipython-input-54-86256c6b31ae>\u001b[0m in \u001b[0;36magg_counts\u001b[1;34m(tweets)\u001b[0m\n\u001b[0;32m      9\u001b[0m         \u001b[0mtweet\u001b[0m \u001b[1;33m=\u001b[0m \u001b[0mtweet\u001b[0m\u001b[1;33m.\u001b[0m\u001b[0mdecode\u001b[0m\u001b[1;33m(\u001b[0m\u001b[1;34m\"utf8\"\u001b[0m\u001b[1;33m)\u001b[0m\u001b[1;33m\u001b[0m\u001b[0m\n\u001b[0;32m     10\u001b[0m \u001b[1;33m\u001b[0m\u001b[0m\n\u001b[1;32m---> 11\u001b[1;33m         \u001b[0mtweet_freq\u001b[0m \u001b[1;33m=\u001b[0m \u001b[0mget_freq\u001b[0m\u001b[1;33m(\u001b[0m\u001b[0mtweet\u001b[0m\u001b[1;33m)\u001b[0m \u001b[1;31m# Get the token frequencies of one tweet\u001b[0m\u001b[1;33m\u001b[0m\u001b[0m\n\u001b[0m\u001b[0;32m     12\u001b[0m \u001b[1;33m\u001b[0m\u001b[0m\n\u001b[0;32m     13\u001b[0m         \u001b[1;32mfor\u001b[0m \u001b[0mkey\u001b[0m \u001b[1;32min\u001b[0m \u001b[0mset\u001b[0m\u001b[1;33m(\u001b[0m\u001b[0mtweet_freq\u001b[0m\u001b[1;33m)\u001b[0m\u001b[1;33m&\u001b[0m\u001b[0mset\u001b[0m\u001b[1;33m(\u001b[0m\u001b[0mall_freq\u001b[0m\u001b[1;33m)\u001b[0m\u001b[1;33m:\u001b[0m\u001b[1;33m\u001b[0m\u001b[0m\n",
      "\u001b[1;32m<ipython-input-47-28811fde62d4>\u001b[0m in \u001b[0;36mget_freq\u001b[1;34m(tweet)\u001b[0m\n\u001b[0;32m      2\u001b[0m     \u001b[1;34m'''Takes a tweet and returns a dictionary of tokens and frequencies within tweet.'''\u001b[0m\u001b[1;33m\u001b[0m\u001b[0m\n\u001b[0;32m      3\u001b[0m     \u001b[0mfreq\u001b[0m \u001b[1;33m=\u001b[0m \u001b[1;33m{\u001b[0m\u001b[1;33m}\u001b[0m\u001b[1;33m\u001b[0m\u001b[0m\n\u001b[1;32m----> 4\u001b[1;33m     \u001b[0mtokens\u001b[0m \u001b[1;33m=\u001b[0m \u001b[0mtweet\u001b[0m\u001b[1;33m.\u001b[0m\u001b[0mword_tokenize\u001b[0m\u001b[1;33m(\u001b[0m\u001b[0mtweet\u001b[0m\u001b[1;33m)\u001b[0m\u001b[1;33m\u001b[0m\u001b[0m\n\u001b[0m\u001b[0;32m      5\u001b[0m \u001b[1;33m\u001b[0m\u001b[0m\n\u001b[0;32m      6\u001b[0m     \u001b[1;32mfor\u001b[0m \u001b[0mt\u001b[0m \u001b[1;32min\u001b[0m \u001b[0mtokens\u001b[0m\u001b[1;33m:\u001b[0m\u001b[1;33m\u001b[0m\u001b[0m\n",
      "\u001b[1;31mAttributeError\u001b[0m: 'unicode' object has no attribute 'word_tokenize'"
     ]
    }
   ],
   "source": [
    "coke_freq_dict = agg_counts(coke['text'].tolist())"
   ]
  },
  {
   "cell_type": "code",
   "execution_count": 66,
   "metadata": {
    "collapsed": false
   },
   "outputs": [
    {
     "ename": "AttributeError",
     "evalue": "'unicode' object has no attribute 'dtype'",
     "output_type": "error",
     "traceback": [
      "\u001b[1;31m---------------------------------------------------------------------------\u001b[0m",
      "\u001b[1;31mAttributeError\u001b[0m                            Traceback (most recent call last)",
      "\u001b[1;32m<ipython-input-66-fa0d17fe778b>\u001b[0m in \u001b[0;36m<module>\u001b[1;34m()\u001b[0m\n\u001b[0;32m      1\u001b[0m \u001b[0mtest\u001b[0m \u001b[1;33m=\u001b[0m \u001b[0mcoke\u001b[0m\u001b[1;33m[\u001b[0m\u001b[1;34m'text'\u001b[0m\u001b[1;33m]\u001b[0m\u001b[1;33m.\u001b[0m\u001b[0mtolist\u001b[0m\u001b[1;33m(\u001b[0m\u001b[1;33m)\u001b[0m\u001b[1;33m[\u001b[0m\u001b[1;36m0\u001b[0m\u001b[1;33m]\u001b[0m\u001b[1;33m\u001b[0m\u001b[0m\n\u001b[0;32m      2\u001b[0m \u001b[0mtest1\u001b[0m \u001b[1;33m=\u001b[0m \u001b[0mtest\u001b[0m\u001b[1;33m.\u001b[0m\u001b[0mdecode\u001b[0m\u001b[1;33m(\u001b[0m\u001b[1;34m\"utf8\"\u001b[0m\u001b[1;33m)\u001b[0m\u001b[1;33m\u001b[0m\u001b[0m\n\u001b[1;32m----> 3\u001b[1;33m \u001b[0mtest1\u001b[0m\u001b[1;33m.\u001b[0m\u001b[0mdtype\u001b[0m\u001b[1;33m\u001b[0m\u001b[0m\n\u001b[0m",
      "\u001b[1;31mAttributeError\u001b[0m: 'unicode' object has no attribute 'dtype'"
     ]
    }
   ],
   "source": [
    "test = coke['text'].tolist()[0]\n",
    "test1 = test.decode(\"utf8\")\n",
    "test1.dtype"
   ]
  },
  {
   "cell_type": "code",
   "execution_count": null,
   "metadata": {
    "collapsed": false
   },
   "outputs": [],
   "source": []
  }
 ],
 "metadata": {
  "kernelspec": {
   "display_name": "Python [Root]",
   "language": "python",
   "name": "Python [Root]"
  },
  "language_info": {
   "codemirror_mode": {
    "name": "ipython",
    "version": 2
   },
   "file_extension": ".py",
   "mimetype": "text/x-python",
   "name": "python",
   "nbconvert_exporter": "python",
   "pygments_lexer": "ipython2",
   "version": "2.7.11"
  }
 },
 "nbformat": 4,
 "nbformat_minor": 0
}
