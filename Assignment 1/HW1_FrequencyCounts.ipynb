{
 "cells": [
  {
   "cell_type": "code",
   "execution_count": 1,
   "metadata": {
    "collapsed": true
   },
   "outputs": [],
   "source": [
    "from nltk import word_tokenize\n",
    "\n",
    "def get_targets(post, brand_dict):\n",
    "    \n",
    "    ''' Take individual post and return only the words that appear in the brand dictionary (brands and models) '''\n",
    "    \n",
    "    # Tokenize post\n",
    "    tokens = word_tokenize(post)\n",
    "    \n",
    "    # Remove all tokens but brands and models\n",
    "    targets = [word.lower() for word in tokens if word.lower() in brand_dict.keys() or word.lower() in brand_dict.values()]\n",
    "    \n",
    "    return targets\n",
    "\n",
    "\n",
    "\n",
    "def models_to_brands(targets, brand_dict):\n",
    "    \n",
    "    ''' Take list of brands and models and return new list where the models are converted to their respective brands '''\n",
    "    \n",
    "    # Create list to store brand names\n",
    "    brands = []\n",
    "    \n",
    "    # Iterate through words\n",
    "    for word in targets:\n",
    "        \n",
    "        # Convert models to brands and add to brand list\n",
    "        if word in brand_dict.keys():\n",
    "            brands.append(brand_dict[word])\n",
    "            \n",
    "        # Add brands that were mentioned to list\n",
    "        elif word in brand_dict.values():\n",
    "            brands.append(word)\n",
    "        \n",
    "        else:\n",
    "            continue\n",
    "        \n",
    "    return brands\n",
    "\n",
    "\n",
    "\n",
    "def get_unique_brands(brand_list):\n",
    "    \n",
    "    ''' Take list of brands and return new list that removes duplicates '''\n",
    "    \n",
    "    # Create list to store unique brand names\n",
    "    unique_brands = []\n",
    "    \n",
    "    for brand in brand_list:\n",
    "        if brand not in unique_brands:\n",
    "            unique_brands.append(brand)\n",
    "    \n",
    "    return unique_brands"
   ]
  },
  {
   "cell_type": "code",
   "execution_count": 2,
   "metadata": {
    "collapsed": false
   },
   "outputs": [],
   "source": [
    "# Create dictionary mapping models to their respective brands\n",
    "keys = ['330', 'a4', 'tl-s', '300m', 'x-type', 'i35', 'c-class', 's60', 'is300', 'es300', 'cts', 'g35']\n",
    "values = ['bmw', 'audi', 'acura', 'chrysler', 'jaguar', 'infiniti', 'mercedes', 'volvo', 'lexus', 'lexus', 'cadillac', 'infiniti']\n",
    "brand_dict = dict(zip(keys, values))"
   ]
  },
  {
   "cell_type": "code",
   "execution_count": 3,
   "metadata": {
    "collapsed": false
   },
   "outputs": [
    {
     "data": {
      "text/plain": [
       "{'300m': 'chrysler',\n",
       " '330': 'bmw',\n",
       " 'a4': 'audi',\n",
       " 'c-class': 'mercedes',\n",
       " 'cts': 'cadillac',\n",
       " 'es300': 'lexus',\n",
       " 'g35': 'infiniti',\n",
       " 'i35': 'infiniti',\n",
       " 'is300': 'lexus',\n",
       " 's60': 'volvo',\n",
       " 'tl-s': 'acura',\n",
       " 'x-type': 'jaguar'}"
      ]
     },
     "execution_count": 3,
     "metadata": {},
     "output_type": "execute_result"
    }
   ],
   "source": [
    "brand_dict"
   ]
  },
  {
   "cell_type": "code",
   "execution_count": 9,
   "metadata": {
    "collapsed": true
   },
   "outputs": [],
   "source": [
    "import math\n",
    "\n",
    "def count_brand_frequencies(posts, brand_dict):\n",
    "    \n",
    "    ''' Take list of posts and return a dictionary of frequency counts for each brand that was mentioned '''\n",
    "    \n",
    "    # Initialize frequency dictionary\n",
    "    brand_counts = {}\n",
    "    \n",
    "    # Iterate through posts\n",
    "    for post in posts:\n",
    "        \n",
    "        post = post.decode(\"utf8\")\n",
    "        \n",
    "        # Retrieve brand names and models from post\n",
    "        targets = get_targets(post, brand_dict)\n",
    "        \n",
    "        # Create list of brands that were mentioned in post (models converted to respective brands)\n",
    "        brands = models_to_brands(targets, brand_dict)\n",
    "        \n",
    "        # Retrieve only unique brand names from list of brands that were mentioned\n",
    "        unique_brands = get_unique_brands(brands)\n",
    "        \n",
    "        # Add each brand that was mentioned to total brand count\n",
    "        for brand in unique_brands:\n",
    "            if brand not in brand_counts.keys():\n",
    "                brand_counts[brand] = 1\n",
    "            else:\n",
    "                brand_counts[brand] += 1\n",
    "    \n",
    "    return brand_counts"
   ]
  },
  {
   "cell_type": "code",
   "execution_count": 10,
   "metadata": {
    "collapsed": true
   },
   "outputs": [],
   "source": [
    "import pandas as pd\n",
    "\n",
    "edmunds = pd.read_csv('Edmunds_Posts.csv')\n",
    "posts = edmunds['Post'].dropna().tolist()\n",
    "test = posts[0:204]"
   ]
  },
  {
   "cell_type": "code",
   "execution_count": 11,
   "metadata": {
    "collapsed": false
   },
   "outputs": [
    {
     "data": {
      "text/plain": [
       "{u'acura': 25,\n",
       " 'audi': 45,\n",
       " u'bmw': 44,\n",
       " 'cadillac': 12,\n",
       " u'chrysler': 8,\n",
       " 'infiniti': 42,\n",
       " 'jaguar': 50,\n",
       " u'lexus': 24,\n",
       " u'mercedes': 23,\n",
       " 'volvo': 14}"
      ]
     },
     "execution_count": 11,
     "metadata": {},
     "output_type": "execute_result"
    }
   ],
   "source": [
    "# Run on sample\n",
    "count_brand_frequencies(test, brand_dict)"
   ]
  },
  {
   "cell_type": "code",
   "execution_count": 13,
   "metadata": {
    "collapsed": false
   },
   "outputs": [
    {
     "data": {
      "text/plain": [
       "{u'acura': 698,\n",
       " 'audi': 681,\n",
       " u'bmw': 2315,\n",
       " 'cadillac': 708,\n",
       " u'chrysler': 73,\n",
       " 'infiniti': 1512,\n",
       " 'jaguar': 129,\n",
       " u'lexus': 972,\n",
       " u'mercedes': 323,\n",
       " 'volvo': 272}"
      ]
     },
     "execution_count": 13,
     "metadata": {},
     "output_type": "execute_result"
    }
   ],
   "source": [
    "# Run on entire set of posts\n",
    "count_brand_frequencies(posts, brand_dict)"
   ]
  },
  {
   "cell_type": "code",
   "execution_count": null,
   "metadata": {
    "collapsed": true
   },
   "outputs": [],
   "source": []
  }
 ],
 "metadata": {
  "kernelspec": {
   "display_name": "Python 2",
   "language": "python",
   "name": "python2"
  },
  "language_info": {
   "codemirror_mode": {
    "name": "ipython",
    "version": 2
   },
   "file_extension": ".py",
   "mimetype": "text/x-python",
   "name": "python",
   "nbconvert_exporter": "python",
   "pygments_lexer": "ipython2",
   "version": "2.7.12"
  }
 },
 "nbformat": 4,
 "nbformat_minor": 0
}
