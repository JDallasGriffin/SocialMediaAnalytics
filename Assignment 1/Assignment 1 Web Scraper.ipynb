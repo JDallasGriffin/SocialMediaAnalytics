{
 "cells": [
  {
   "cell_type": "code",
   "execution_count": 6,
   "metadata": {
    "collapsed": false
   },
   "outputs": [],
   "source": [
    "from bs4 import BeautifulSoup\n",
    "import requests"
   ]
  },
  {
   "cell_type": "code",
   "execution_count": 21,
   "metadata": {
    "collapsed": false
   },
   "outputs": [],
   "source": [
    "post_list = []\n",
    "\n",
    "def get_soup(url):\n",
    "    return BeautifulSoup(requests.get(url).text, \"lxml\")\n",
    "    \n",
    "#Pull in posts from the first 300 pages of forum posts\n",
    "for p in range(2,300): # Didn't include page 1 for code simplicity\n",
    "    url = \"https://forums.edmunds.com/discussion/2864/general/x/entry-level-luxury-performance-sedans/p\"+str(p)\n",
    "    soup = get_soup(url)\n",
    "    posts = soup.find_all(\"div\", class_=\"Message\")\n",
    "    for post in posts:\n",
    "        post_list.append(post)"
   ]
  },
  {
   "cell_type": "code",
   "execution_count": 22,
   "metadata": {
    "collapsed": false
   },
   "outputs": [
    {
     "data": {
      "text/plain": [
       "2940"
      ]
     },
     "execution_count": 22,
     "metadata": {},
     "output_type": "execute_result"
    }
   ],
   "source": [
    "# Number of posts in set:\n",
    "len(post_list)"
   ]
  },
  {
   "cell_type": "code",
   "execution_count": 25,
   "metadata": {
    "collapsed": false
   },
   "outputs": [
    {
     "name": "stdout",
     "output_type": "stream",
     "text": [
      "<div class=\"Message\">\n",
      "                            Well I'm a Benz fan first and foremost, but the A4 3.0 CVT just offers more for the money.  The A4 has a better interior, the top A4 engine (compared to the C240, which is the base C) and it's styling is at least as good as the Benz if not better.   Both makes pay for scheduled maint during the warranty period.    Neither car will be \"low maintanence\" after the warranty runs out, especially the Audi with it's fairly different transmission.   If you're priced these cars and they've come out equal go for the Audi it's the better value here. <br/><br/>M                        </div>\n",
      "<div class=\"Message\">\n",
      "                            I think both are excellent(sp?) cars, however neither one is a low maintenance automobile. That is to say neither brand is known for low maintenance.  What they do offer is luxury and performance in an aesthetically pleasing package and, some would argue, a superior ownership experience.<br/><br/>As someone has said before, every manifacturer makes lemons - some more than others - but the internet is not the best place to find information about that.  Most people are just venting and are not representative of the owner community.  <br/><br/>Although I can not speak as to the driving merits of the cars, I suspect that they are similar since I've heard (read) good things about both the A4 CVT and the C240.  Something to keep in mind is that anytime a new product is offered by the industry, it usually takes a couple of years for the company to work out all the bugs in the technology.  <br/><br/>Both cars are relative newcommers to the market.  The facts that they are made by distinguished companies and use proven powerplants does not speak conclusively as to how reliable the cars will be as a whole.<br/><br/>Since you are already looking for alternatives to the MB because of reliability concerns, it may be worth your time to look at other alternatives than the Audi.  As someone has suggested in the Help me Choose! forum, try looking to Lexus for the answer.  They seem to make reliable cars that are also cheap to keep running.  Of course now we get into the issue of European vs Asian luxury ...                        </div>\n",
      "<div class=\"Message\">\n",
      "                            It has come to my attention that as of late MB has taken a hit in its reputation.  People have been quick to point at the recent survey results - both European and Domestic - that say Mercedes is no longer reliable.  These surveys show that statistically speaking MB has as much as doubled the amount of repairs that they do under warranty.  I won't deny these findings, but I will try and justify them.  <br/><br/>1st and foremost, MB has and is comming out with newer designs every year, updating the cars both inside and out.  Anytime that a new product makes its debue it takes a couple of tries to get all the kinks worked out.  <br/><br/>Secondly, according to mbspy.com, Mercedes accounted for ~half of the profits by DCX last year.  I think MB is being used as a cash cow to keep Jeep and Co affloat, thereby driving Mercedes to cost-cutting through corparate pressure.  Lower quality parts equal lower overall car quality.<br/><br/>These two should get things going ... Feel free to agree or disagree.                        </div>\n"
     ]
    }
   ],
   "source": [
    "#Examine a few posts\n",
    "for x in range(0,3):\n",
    "    print post_list[x]"
   ]
  }
 ],
 "metadata": {
  "anaconda-cloud": {},
  "kernelspec": {
   "display_name": "Python [default]",
   "language": "python",
   "name": "python2"
  },
  "language_info": {
   "codemirror_mode": {
    "name": "ipython",
    "version": 2
   },
   "file_extension": ".py",
   "mimetype": "text/x-python",
   "name": "python",
   "nbconvert_exporter": "python",
   "pygments_lexer": "ipython2",
   "version": "2.7.12"
  }
 },
 "nbformat": 4,
 "nbformat_minor": 1
}
