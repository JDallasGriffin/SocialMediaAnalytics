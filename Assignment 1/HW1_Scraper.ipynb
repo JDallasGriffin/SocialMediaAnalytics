{
 "cells": [
  {
   "cell_type": "code",
   "execution_count": 60,
   "metadata": {
    "collapsed": true
   },
   "outputs": [],
   "source": [
    "from bs4 import BeautifulSoup\n",
    "import requests\n",
    "from lxml import etree\n",
    "import pandas as pd"
   ]
  },
  {
   "cell_type": "code",
   "execution_count": 66,
   "metadata": {
    "collapsed": false
   },
   "outputs": [
    {
     "name": "stdout",
     "output_type": "stream",
     "text": [
      "Scraping Page #10\n",
      "Scraping Page #20\n",
      "Scraping Page #30\n",
      "Scraping Page #40\n",
      "Scraping Page #50\n",
      "Scraping Page #60\n",
      "Scraping Page #70\n",
      "Scraping Page #80\n",
      "Scraping Page #90\n",
      "Scraping Page #100\n",
      "Scraping Page #110\n",
      "Scraping Page #120\n",
      "Scraping Page #130\n",
      "Scraping Page #140\n",
      "Scraping Page #150\n",
      "Scraping Page #160\n",
      "Scraping Page #170\n",
      "Scraping Page #180\n",
      "Scraping Page #190\n",
      "Scraping Page #200\n",
      "Scraping Page #210\n",
      "Scraping Page #220\n",
      "Scraping Page #230\n",
      "Scraping Page #240\n",
      "Scraping Page #250\n",
      "Scraping Page #260\n",
      "Scraping Page #270\n",
      "Scraping Page #280\n",
      "Scraping Page #290\n"
     ]
    }
   ],
   "source": [
    "post_list = []\n",
    "username_list = []\n",
    "date_list = []\n",
    "\n",
    "def get_soup(url):\n",
    "    return BeautifulSoup(requests.get(url).text, \"lxml\")\n",
    "    \n",
    "#Pull in posts from the first 300 pages of forum posts\n",
    "for p in range(2,300): # Didn't include page 1 for code simplicity\n",
    "    url = \"https://forums.edmunds.com/discussion/2864/general/x/entry-level-luxury-performance-sedans/p\"+str(p)\n",
    "    soup = get_soup(url)\n",
    "    \n",
    "    for post in soup.find_all(\"div\", class_=\"Message\"):\n",
    "        post_list.append(post.get_text().strip().encode('utf-8'))\n",
    "        \n",
    "    for user in soup.find_all(\"span\", class_=\"Author\"):\n",
    "        username_list.append(user.a[\"title\"])\n",
    "\n",
    "    for date in soup.find_all(\"span\", class_=\"MItem DateCreated\"):\n",
    "        date_list.append(date.time[\"title\"])\n",
    "    if p % 10 == 0:\n",
    "        print 'Scraping Page #{}'.format(p)"
   ]
  },
  {
   "cell_type": "code",
   "execution_count": 67,
   "metadata": {
    "collapsed": false
   },
   "outputs": [
    {
     "data": {
      "text/plain": [
       "8940"
      ]
     },
     "execution_count": 67,
     "metadata": {},
     "output_type": "execute_result"
    }
   ],
   "source": [
    "#Check number of posts included\n",
    "len(post_list)"
   ]
  },
  {
   "cell_type": "code",
   "execution_count": 68,
   "metadata": {
    "collapsed": false
   },
   "outputs": [
    {
     "name": "stdout",
     "output_type": "stream",
     "text": [
      "Well I'm a Benz fan first and foremost, but the A4 3.0 CVT just offers more for the money.  The A4 has a better interior, the top A4 engine (compared to the C240, which is the base C) and it's styling is at least as good as the Benz if not better.   Both makes pay for scheduled maint during the warranty period.    Neither car will be \"low maintanence\" after the warranty runs out, especially the Audi with it's fairly different transmission.   If you're priced these cars and they've come out equal go for the Audi it's the better value here. M\n",
      "merc1\n",
      "April 12, 2002  2:53PM\n"
     ]
    }
   ],
   "source": [
    "#Inspect a post\n",
    "print post_list[0]\n",
    "print username_list[0]\n",
    "print date_list[0]"
   ]
  },
  {
   "cell_type": "code",
   "execution_count": 69,
   "metadata": {
    "collapsed": false
   },
   "outputs": [],
   "source": [
    "#Convert to Dataframe\n",
    "posts_df = pd.DataFrame(\n",
    "    {'Post': post_list,\n",
    "     'User': username_list,\n",
    "     'Date': date_list\n",
    "    })\n",
    "\n",
    "posts_df.to_csv('Edmunds_Posts.csv', index = False)"
   ]
  },
  {
   "cell_type": "code",
   "execution_count": 70,
   "metadata": {
    "collapsed": false
   },
   "outputs": [
    {
     "data": {
      "text/html": [
       "<div>\n",
       "<table border=\"1\" class=\"dataframe\">\n",
       "  <thead>\n",
       "    <tr style=\"text-align: right;\">\n",
       "      <th></th>\n",
       "      <th>Date</th>\n",
       "      <th>Post</th>\n",
       "      <th>User</th>\n",
       "    </tr>\n",
       "  </thead>\n",
       "  <tbody>\n",
       "    <tr>\n",
       "      <th>0</th>\n",
       "      <td>April 12, 2002  2:53PM</td>\n",
       "      <td>Well I'm a Benz fan first and foremost, but th...</td>\n",
       "      <td>merc1</td>\n",
       "    </tr>\n",
       "    <tr>\n",
       "      <th>1</th>\n",
       "      <td>April 14, 2002  8:09AM</td>\n",
       "      <td>I think both are excellent(sp?) cars, however ...</td>\n",
       "      <td>popovs</td>\n",
       "    </tr>\n",
       "    <tr>\n",
       "      <th>2</th>\n",
       "      <td>April 17, 2002  9:23AM</td>\n",
       "      <td>It has come to my attention that as of late MB...</td>\n",
       "      <td>popovs</td>\n",
       "    </tr>\n",
       "    <tr>\n",
       "      <th>3</th>\n",
       "      <td>April 17, 2002  7:37PM</td>\n",
       "      <td>There is not much to debate on this subject.  ...</td>\n",
       "      <td>mvargo1</td>\n",
       "    </tr>\n",
       "    <tr>\n",
       "      <th>4</th>\n",
       "      <td>April 17, 2002  8:11PM</td>\n",
       "      <td>gave up nationality based generalizations a co...</td>\n",
       "      <td>wishnhigh1</td>\n",
       "    </tr>\n",
       "  </tbody>\n",
       "</table>\n",
       "</div>"
      ],
      "text/plain": [
       "                     Date                                               Post  \\\n",
       "0  April 12, 2002  2:53PM  Well I'm a Benz fan first and foremost, but th...   \n",
       "1  April 14, 2002  8:09AM  I think both are excellent(sp?) cars, however ...   \n",
       "2  April 17, 2002  9:23AM  It has come to my attention that as of late MB...   \n",
       "3  April 17, 2002  7:37PM  There is not much to debate on this subject.  ...   \n",
       "4  April 17, 2002  8:11PM  gave up nationality based generalizations a co...   \n",
       "\n",
       "         User  \n",
       "0       merc1  \n",
       "1      popovs  \n",
       "2      popovs  \n",
       "3     mvargo1  \n",
       "4  wishnhigh1  "
      ]
     },
     "execution_count": 70,
     "metadata": {},
     "output_type": "execute_result"
    }
   ],
   "source": [
    "posts_df.head()"
   ]
  },
  {
   "cell_type": "code",
   "execution_count": null,
   "metadata": {
    "collapsed": true
   },
   "outputs": [],
   "source": []
  }
 ],
 "metadata": {
  "anaconda-cloud": {},
  "kernelspec": {
   "display_name": "Python [default]",
   "language": "python",
   "name": "python2"
  },
  "language_info": {
   "codemirror_mode": {
    "name": "ipython",
    "version": 2
   },
   "file_extension": ".py",
   "mimetype": "text/x-python",
   "name": "python",
   "nbconvert_exporter": "python",
   "pygments_lexer": "ipython2",
   "version": "2.7.12"
  }
 },
 "nbformat": 4,
 "nbformat_minor": 0
}
