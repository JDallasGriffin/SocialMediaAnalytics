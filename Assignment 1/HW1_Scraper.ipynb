{
 "cells": [
  {
   "cell_type": "code",
   "execution_count": 23,
   "metadata": {
    "collapsed": true
   },
   "outputs": [],
   "source": [
    "from bs4 import BeautifulSoup\n",
    "import requests"
   ]
  },
  {
   "cell_type": "code",
   "execution_count": 25,
   "metadata": {
    "collapsed": false
   },
   "outputs": [
    {
     "name": "stdout",
     "output_type": "stream",
     "text": [
      "Scraping Page #2\n",
      "Scraping Page #3\n",
      "Scraping Page #4\n",
      "Scraping Page #5\n",
      "Scraping Page #6\n",
      "Scraping Page #7\n",
      "Scraping Page #8\n",
      "Scraping Page #9\n",
      "Scraping Page #10\n",
      "Scraping Page #11\n",
      "Scraping Page #12\n",
      "Scraping Page #13\n",
      "Scraping Page #14\n",
      "Scraping Page #15\n",
      "Scraping Page #16\n",
      "Scraping Page #17\n",
      "Scraping Page #18\n",
      "Scraping Page #19\n",
      "Scraping Page #20\n",
      "Scraping Page #21\n",
      "Scraping Page #22\n",
      "Scraping Page #23\n",
      "Scraping Page #24\n",
      "Scraping Page #25\n",
      "Scraping Page #26\n",
      "Scraping Page #27\n",
      "Scraping Page #28\n",
      "Scraping Page #29\n",
      "Scraping Page #30\n",
      "Scraping Page #31\n",
      "Scraping Page #32\n",
      "Scraping Page #33\n",
      "Scraping Page #34\n",
      "Scraping Page #35\n",
      "Scraping Page #36\n",
      "Scraping Page #37\n",
      "Scraping Page #38\n",
      "Scraping Page #39\n",
      "Scraping Page #40\n",
      "Scraping Page #41\n",
      "Scraping Page #42\n",
      "Scraping Page #43\n",
      "Scraping Page #44\n",
      "Scraping Page #45\n",
      "Scraping Page #46\n",
      "Scraping Page #47\n",
      "Scraping Page #48\n",
      "Scraping Page #49\n",
      "Scraping Page #50\n",
      "Scraping Page #51\n",
      "Scraping Page #52\n",
      "Scraping Page #53\n",
      "Scraping Page #54\n",
      "Scraping Page #55\n",
      "Scraping Page #56\n",
      "Scraping Page #57\n",
      "Scraping Page #58\n",
      "Scraping Page #59\n",
      "Scraping Page #60\n",
      "Scraping Page #61\n",
      "Scraping Page #62\n",
      "Scraping Page #63\n",
      "Scraping Page #64\n",
      "Scraping Page #65\n",
      "Scraping Page #66\n",
      "Scraping Page #67\n",
      "Scraping Page #68\n",
      "Scraping Page #69\n",
      "Scraping Page #70\n",
      "Scraping Page #71\n",
      "Scraping Page #72\n",
      "Scraping Page #73\n",
      "Scraping Page #74\n",
      "Scraping Page #75\n",
      "Scraping Page #76\n",
      "Scraping Page #77\n",
      "Scraping Page #78\n",
      "Scraping Page #79\n",
      "Scraping Page #80\n",
      "Scraping Page #81\n",
      "Scraping Page #82\n",
      "Scraping Page #83\n",
      "Scraping Page #84\n",
      "Scraping Page #85\n",
      "Scraping Page #86\n",
      "Scraping Page #87\n",
      "Scraping Page #88\n",
      "Scraping Page #89\n",
      "Scraping Page #90\n",
      "Scraping Page #91\n",
      "Scraping Page #92\n",
      "Scraping Page #93\n",
      "Scraping Page #94\n",
      "Scraping Page #95\n",
      "Scraping Page #96\n",
      "Scraping Page #97\n",
      "Scraping Page #98\n",
      "Scraping Page #99\n",
      "Scraping Page #100\n",
      "Scraping Page #101\n",
      "Scraping Page #102\n",
      "Scraping Page #103\n",
      "Scraping Page #104\n",
      "Scraping Page #105\n",
      "Scraping Page #106\n",
      "Scraping Page #107\n",
      "Scraping Page #108\n",
      "Scraping Page #109\n",
      "Scraping Page #110\n",
      "Scraping Page #111\n",
      "Scraping Page #112\n",
      "Scraping Page #113\n",
      "Scraping Page #114\n",
      "Scraping Page #115\n",
      "Scraping Page #116\n",
      "Scraping Page #117\n",
      "Scraping Page #118\n",
      "Scraping Page #119\n",
      "Scraping Page #120\n",
      "Scraping Page #121\n",
      "Scraping Page #122\n",
      "Scraping Page #123\n",
      "Scraping Page #124\n",
      "Scraping Page #125\n",
      "Scraping Page #126\n",
      "Scraping Page #127\n",
      "Scraping Page #128\n",
      "Scraping Page #129\n",
      "Scraping Page #130\n",
      "Scraping Page #131\n",
      "Scraping Page #132\n",
      "Scraping Page #133\n",
      "Scraping Page #134\n",
      "Scraping Page #135\n",
      "Scraping Page #136\n",
      "Scraping Page #137\n",
      "Scraping Page #138\n",
      "Scraping Page #139\n",
      "Scraping Page #140\n",
      "Scraping Page #141\n",
      "Scraping Page #142\n",
      "Scraping Page #143\n",
      "Scraping Page #144\n",
      "Scraping Page #145\n",
      "Scraping Page #146\n",
      "Scraping Page #147\n",
      "Scraping Page #148\n",
      "Scraping Page #149\n",
      "Scraping Page #150\n",
      "Scraping Page #151\n",
      "Scraping Page #152\n",
      "Scraping Page #153\n",
      "Scraping Page #154\n",
      "Scraping Page #155\n",
      "Scraping Page #156\n",
      "Scraping Page #157\n",
      "Scraping Page #158\n",
      "Scraping Page #159\n",
      "Scraping Page #160\n",
      "Scraping Page #161\n",
      "Scraping Page #162\n",
      "Scraping Page #163\n",
      "Scraping Page #164\n",
      "Scraping Page #165\n",
      "Scraping Page #166\n",
      "Scraping Page #167\n",
      "Scraping Page #168\n",
      "Scraping Page #169\n",
      "Scraping Page #170\n",
      "Scraping Page #171\n",
      "Scraping Page #172\n",
      "Scraping Page #173\n",
      "Scraping Page #174\n",
      "Scraping Page #175\n",
      "Scraping Page #176\n",
      "Scraping Page #177\n",
      "Scraping Page #178\n",
      "Scraping Page #179\n",
      "Scraping Page #180\n",
      "Scraping Page #181\n",
      "Scraping Page #182\n",
      "Scraping Page #183\n",
      "Scraping Page #184\n",
      "Scraping Page #185\n",
      "Scraping Page #186\n",
      "Scraping Page #187\n",
      "Scraping Page #188\n",
      "Scraping Page #189\n",
      "Scraping Page #190\n",
      "Scraping Page #191\n",
      "Scraping Page #192\n",
      "Scraping Page #193\n",
      "Scraping Page #194\n",
      "Scraping Page #195\n",
      "Scraping Page #196\n",
      "Scraping Page #197\n",
      "Scraping Page #198\n",
      "Scraping Page #199\n",
      "Scraping Page #200\n",
      "Scraping Page #201\n",
      "Scraping Page #202\n",
      "Scraping Page #203\n",
      "Scraping Page #204\n",
      "Scraping Page #205\n",
      "Scraping Page #206\n",
      "Scraping Page #207\n",
      "Scraping Page #208\n",
      "Scraping Page #209\n",
      "Scraping Page #210\n",
      "Scraping Page #211\n",
      "Scraping Page #212\n",
      "Scraping Page #213\n",
      "Scraping Page #214\n",
      "Scraping Page #215\n",
      "Scraping Page #216\n",
      "Scraping Page #217\n",
      "Scraping Page #218\n",
      "Scraping Page #219\n",
      "Scraping Page #220\n",
      "Scraping Page #221\n",
      "Scraping Page #222\n",
      "Scraping Page #223\n",
      "Scraping Page #224\n",
      "Scraping Page #225\n",
      "Scraping Page #226\n",
      "Scraping Page #227\n",
      "Scraping Page #228\n",
      "Scraping Page #229\n",
      "Scraping Page #230\n",
      "Scraping Page #231\n",
      "Scraping Page #232\n",
      "Scraping Page #233\n",
      "Scraping Page #234\n",
      "Scraping Page #235\n",
      "Scraping Page #236\n",
      "Scraping Page #237\n",
      "Scraping Page #238\n",
      "Scraping Page #239\n",
      "Scraping Page #240\n",
      "Scraping Page #241\n",
      "Scraping Page #242\n",
      "Scraping Page #243\n",
      "Scraping Page #244\n",
      "Scraping Page #245\n",
      "Scraping Page #246\n",
      "Scraping Page #247\n",
      "Scraping Page #248\n",
      "Scraping Page #249\n",
      "Scraping Page #250\n",
      "Scraping Page #251\n",
      "Scraping Page #252\n",
      "Scraping Page #253\n",
      "Scraping Page #254\n",
      "Scraping Page #255\n",
      "Scraping Page #256\n",
      "Scraping Page #257\n",
      "Scraping Page #258\n",
      "Scraping Page #259\n",
      "Scraping Page #260\n",
      "Scraping Page #261\n",
      "Scraping Page #262\n",
      "Scraping Page #263\n",
      "Scraping Page #264\n",
      "Scraping Page #265\n",
      "Scraping Page #266\n",
      "Scraping Page #267\n",
      "Scraping Page #268\n",
      "Scraping Page #269\n",
      "Scraping Page #270\n",
      "Scraping Page #271\n",
      "Scraping Page #272\n",
      "Scraping Page #273\n",
      "Scraping Page #274\n",
      "Scraping Page #275\n",
      "Scraping Page #276\n",
      "Scraping Page #277\n",
      "Scraping Page #278\n",
      "Scraping Page #279\n",
      "Scraping Page #280\n",
      "Scraping Page #281\n",
      "Scraping Page #282\n",
      "Scraping Page #283\n",
      "Scraping Page #284\n",
      "Scraping Page #285\n",
      "Scraping Page #286\n",
      "Scraping Page #287\n",
      "Scraping Page #288\n",
      "Scraping Page #289\n",
      "Scraping Page #290\n",
      "Scraping Page #291\n",
      "Scraping Page #292\n",
      "Scraping Page #293\n",
      "Scraping Page #294\n",
      "Scraping Page #295\n",
      "Scraping Page #296\n",
      "Scraping Page #297\n",
      "Scraping Page #298\n",
      "Scraping Page #299\n"
     ]
    }
   ],
   "source": [
    "post_list = []\n",
    "username_list = []\n",
    "date_list = []\n",
    "\n",
    "def get_soup(url):\n",
    "    return BeautifulSoup(requests.get(url).text, \"lxml\")\n",
    "    \n",
    "#Pull in posts from the first 300 pages of forum posts\n",
    "for p in range(2,300): # Didn't include page 1 for code simplicity\n",
    "    url = \"https://forums.edmunds.com/discussion/2864/general/x/entry-level-luxury-performance-sedans/p\"+str(p)\n",
    "    soup = get_soup(url)\n",
    "    posts = soup.find_all(\"div\", class_=\"Message\")\n",
    "    usernames = soup.find_all(\"span\", class_=\"Author\")\n",
    "    dates = soup.find_all(\"span\", class_=\"MItem DateCreated\")\n",
    "    for post in posts:\n",
    "        post_list.append(post)\n",
    "    for username in usernames:\n",
    "        username_list.append(user.a[\"title\"])\n",
    "    for date in dates:\n",
    "        date_list.append(time.time[\"title\"])\n",
    "    print 'Scraping Page #{}'.format(p)"
   ]
  },
  {
   "cell_type": "code",
   "execution_count": 26,
   "metadata": {
    "collapsed": false
   },
   "outputs": [
    {
     "data": {
      "text/plain": [
       "8940"
      ]
     },
     "execution_count": 26,
     "metadata": {},
     "output_type": "execute_result"
    }
   ],
   "source": [
    "len(post_list)"
   ]
  },
  {
   "cell_type": "code",
   "execution_count": 27,
   "metadata": {
    "collapsed": false
   },
   "outputs": [
    {
     "data": {
      "text/plain": [
       "8940"
      ]
     },
     "execution_count": 27,
     "metadata": {},
     "output_type": "execute_result"
    }
   ],
   "source": [
    "len(username_list)"
   ]
  },
  {
   "cell_type": "code",
   "execution_count": 28,
   "metadata": {
    "collapsed": false
   },
   "outputs": [
    {
     "data": {
      "text/plain": [
       "8940"
      ]
     },
     "execution_count": 28,
     "metadata": {},
     "output_type": "execute_result"
    }
   ],
   "source": [
    "len(date_list)"
   ]
  },
  {
   "cell_type": "code",
   "execution_count": 29,
   "metadata": {
    "collapsed": false
   },
   "outputs": [
    {
     "data": {
      "text/plain": [
       "<div class=\"Message\">\\n                            Well I'm a Benz fan first and foremost, but the A4 3.0 CVT just offers more for the money.  The A4 has a better interior, the top A4 engine (compared to the C240, which is the base C) and it's styling is at least as good as the Benz if not better.   Both makes pay for scheduled maint during the warranty period.    Neither car will be \"low maintanence\" after the warranty runs out, especially the Audi with it's fairly different transmission.   If you're priced these cars and they've come out equal go for the Audi it's the better value here. <br/><br/>M                        </div>"
      ]
     },
     "execution_count": 29,
     "metadata": {},
     "output_type": "execute_result"
    }
   ],
   "source": [
    "post_list[0]"
   ]
  },
  {
   "cell_type": "code",
   "execution_count": 30,
   "metadata": {
    "collapsed": false
   },
   "outputs": [
    {
     "data": {
      "text/plain": [
       "'steffie2jc'"
      ]
     },
     "execution_count": 30,
     "metadata": {},
     "output_type": "execute_result"
    }
   ],
   "source": [
    "username_list[0]"
   ]
  },
  {
   "cell_type": "code",
   "execution_count": 33,
   "metadata": {
    "collapsed": false
   },
   "outputs": [
    {
     "data": {
      "text/plain": [
       "'April 11, 2002 10:06PM'"
      ]
     },
     "execution_count": 33,
     "metadata": {},
     "output_type": "execute_result"
    }
   ],
   "source": [
    "date_list[2]"
   ]
  },
  {
   "cell_type": "code",
   "execution_count": null,
   "metadata": {
    "collapsed": true
   },
   "outputs": [],
   "source": []
  }
 ],
 "metadata": {
  "kernelspec": {
   "display_name": "Python 2",
   "language": "python",
   "name": "python2"
  },
  "language_info": {
   "codemirror_mode": {
    "name": "ipython",
    "version": 2
   },
   "file_extension": ".py",
   "mimetype": "text/x-python",
   "name": "python",
   "nbconvert_exporter": "python",
   "pygments_lexer": "ipython2",
   "version": "2.7.12"
  }
 },
 "nbformat": 4,
 "nbformat_minor": 0
}
